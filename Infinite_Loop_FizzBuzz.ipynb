
# TO-DO: Compare the number the user gave with the different
# FizzBuzz conditions. 
# *********************
# If the number is divisible by 3, print "is a Fizz number."
# If the number is divisible by 5, print "is a Buzz number."
# If the number is divisible by both 3 and 5, print "is a FizzBuzz number."
# Otherwise, print "is neither a fizzy or a buzzy number."
# *********************

#FizzBuzzFunction
def FizzBuzz(number):
  ### This function checks for Remainders when dividing by FizzBuzz Values to determine divisibility. ###
  if number == 1701:
    print(f'{(number)} is a star ship.')
  elif number == 42:
    print(f'{number} is the meaning of life.')
  elif number % 15 == 0:
    print(f'{number} is a FizzBuzz.')
  elif number % 3 == 0:
    print(f'{number} is a Fizz.')
  elif number % 5 == 0:
    print(f'{number} is a Buzz.')
  else:
    print(f'{number} is neither a fizzy nor a buzzy number.')

#HELP
HELP = f'''
Enter "0" at anytime to quit.
Enter whole numbers other than 0 to determine a number's Fizzyness or Buzzyness.
Decimals and Fractions are always FizzBuzz. 
'''

#Personalized experience
name = input("What is your name?   ")

#infinite loop
i = 1
while i == True:

  # Name Screening Easter Egg
  if name == "Spock":
    print("Live long, and prosper. Playing FizzBuzz would be highly illogical.")
    break
  else:
    print("Hello, {name}! Let's play FizzBuzz:   ")
    print(HELP)

  #input
  number = input("\nEnter a number:   ")
  # Personalized Experience
  print(f"\nHey {name}!")

  # Expected Errors
  try:
    number = int(number)
  except ValueError as err:
    print("\n Oh no! There was an issue with your entry. Please enter a whole number. \n")
  else:

    # Quit Command
    if number == 0:
      print(f'Goodbye, {name}!')
      break

    #FizzBuzz Test 
    else:
      FizzBuzz(number)
