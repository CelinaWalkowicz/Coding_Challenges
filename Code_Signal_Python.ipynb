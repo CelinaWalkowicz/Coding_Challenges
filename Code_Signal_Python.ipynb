{
  "nbformat": 4,
  "nbformat_minor": 0,
  "metadata": {
    "colab": {
      "name": "Code Signal Python",
      "provenance": [],
      "collapsed_sections": [
        "bdYT7AfG25Fg",
        "yg5UJkuXJFuc",
        "oTA5iTIQRWo5",
        "Qz72boqtq_CK",
        "WgQbmb0VBSXk"
      ],
      "authorship_tag": "ABX9TyNyfm/FuNH9ZDy6cG+t9G2D",
      "include_colab_link": true
    },
    "kernelspec": {
      "name": "python3",
      "display_name": "Python 3"
    },
    "language_info": {
      "name": "python"
    }
  },
  "cells": [
    {
      "cell_type": "markdown",
      "metadata": {
        "id": "view-in-github",
        "colab_type": "text"
      },
      "source": [
        "<a href=\"https://colab.research.google.com/github/CelinaWalkowicz/Coding_Challenges/blob/main/Code_Signal_Python.ipynb\" target=\"_parent\"><img src=\"https://colab.research.google.com/assets/colab-badge.svg\" alt=\"Open In Colab\"/></a>"
      ]
    },
    {
      "cell_type": "markdown",
      "source": [
        "# Arcade Universe"
      ],
      "metadata": {
        "id": "bdYT7AfG25Fg"
      }
    },
    {
      "cell_type": "markdown",
      "source": [
        "## Sum of Two Numbers"
      ],
      "metadata": {
        "id": "yg5UJkuXJFuc"
      }
    },
    {
      "cell_type": "code",
      "execution_count": null,
      "metadata": {
        "id": "H6ZHJUQw21eX"
      },
      "outputs": [],
      "source": [
        "def sum2(num1, num2):\n",
        "  'Returns the Sum of Two Numbers'\n",
        "\n",
        "  return num1 + num2"
      ]
    },
    {
      "cell_type": "code",
      "source": [
        "sum2(2, 3)"
      ],
      "metadata": {
        "colab": {
          "base_uri": "https://localhost:8080/"
        },
        "id": "uMhdjUUC3JQ8",
        "outputId": "fff5fd22-8912-4cd9-a794-9f71febbb333"
      },
      "execution_count": null,
      "outputs": [
        {
          "output_type": "execute_result",
          "data": {
            "text/plain": [
              "5"
            ]
          },
          "metadata": {},
          "execution_count": 2
        }
      ]
    },
    {
      "cell_type": "markdown",
      "source": [
        "## Determine the Century for Each Year\n",
        "\n",
        "A Century is defined as year 1 - 100\n",
        "Examples: \n",
        "1st Century is from 1 - 100\n",
        "17th Century is from 1701 - 1800\n",
        "20th Century is from 1901 - 2000"
      ],
      "metadata": {
        "id": "y6-aCsDnJJ4l"
      }
    },
    {
      "cell_type": "code",
      "source": [
        "def calc_century(year):\n",
        "    '''\n",
        "    This function takes a year, and returns the century it is in.\n",
        "    '''\n",
        "    \n",
        "    # Ensure year is int\n",
        "    int(year)\n",
        "    # Change year to string for indexing\n",
        "    yr = str(year)\n",
        "\n",
        "    # Index yr into parts to determine cdef solution(year):\n",
        "    '''\n",
        "    This function takes a year, and returns the century it is in.\n",
        "    '''\n",
        "    \n",
        "    # Ensure year is int\n",
        "    int(year)\n",
        "    # Change year to string for indexing\n",
        "    yr = str(year)\n",
        "\n",
        "    # Ensure all years are YYYY format\n",
        "    # Find first century years\n",
        "    if year <= 1000:\n",
        "      # years less than 100 will need a 00\n",
        "      if year < 100:\n",
        "        yr_pt1 = '00'\n",
        "        yr_pt2 = str(year)\n",
        "        yr = yr_pt1 + yr_pt2\n",
        "      else:\n",
        "        yr_pt1 = '0'\n",
        "        yr_pt2 = str(year)\n",
        "        yr = yr_pt1 + yr_pt2\n",
        "    \n",
        "    # Save first 2 numbs to determine century\n",
        "    yr_idx1 = int(yr[:2])\n",
        "    # Save last 2 nums to check year range to check years are in century range\n",
        "    yr_idx2 = int(yr[2:4])\n",
        "    \n",
        "    # Check century range xx01-xx99\n",
        "    if yr_idx2 >= 1:\n",
        "        # Add 1 to find the century\n",
        "        century = yr_idx1 + 1\n",
        "    # Check century range xx00\n",
        "    elif yr_idx2 == 0:\n",
        "        century = yr_idx1\n",
        "      \n",
        "    return century"
      ],
      "metadata": {
        "id": "v4zYYyBt3NdN"
      },
      "execution_count": null,
      "outputs": []
    },
    {
      "cell_type": "code",
      "source": [
        "print(f'''\n",
        "The year 42 is in century {calc_century(42)}.\n",
        "The year 100 is in century {calc_century(100)}.\n",
        "The year 1000 is in century {calc_century(1000)}.\n",
        "The year 1500 is in century {calc_century(1500)}.\n",
        "The year 1701 is in century {calc_century(1701)}.\n",
        "The year 1994 is in century {calc_century(1994)}.\n",
        "The year 2022 is in century {calc_century(2022)}.\n",
        "''')"
      ],
      "metadata": {
        "colab": {
          "base_uri": "https://localhost:8080/"
        },
        "id": "4-3_HF3C3Y_e",
        "outputId": "763967cc-fa5b-48c1-cb3f-8bfd2c64c154"
      },
      "execution_count": null,
      "outputs": [
        {
          "output_type": "stream",
          "name": "stdout",
          "text": [
            "\n",
            "The year 42 is in century 1.\n",
            "The year 100 is in century 1.\n",
            "The year 1000 is in century 1.\n",
            "The year 1500 is in century 15.\n",
            "The year 1701 is in century 18.\n",
            "The year 1994 is in century 20.\n",
            "The year 2022 is in century 21.\n",
            "\n"
          ]
        }
      ]
    },
    {
      "cell_type": "markdown",
      "source": [
        "## Determine if a Given Input is a Palindrome"
      ],
      "metadata": {
        "id": "lYlunPxLJng6"
      }
    },
    {
      "cell_type": "code",
      "source": [
        "def is_palindrome(given_input):\n",
        "    '''\n",
        "    Takes an input and checks if it is a palindrome\n",
        "    '''\n",
        "    \n",
        "    # Ensure Input is String\n",
        "    fwd_string = str(given_input).lower()\n",
        "\n",
        "    # Reverse String\n",
        "    retro_string = fwd_string[::-1]\n",
        "\n",
        "    # Check if strings are equal\n",
        "    if fwd_string == retro_string:\n",
        "      return True\n",
        "    else:\n",
        "      return False"
      ],
      "metadata": {
        "id": "jgOfiyB-3bLQ"
      },
      "execution_count": null,
      "outputs": []
    },
    {
      "cell_type": "code",
      "source": [
        "print(f'''\n",
        "Tacocat is a palindrome: {is_palindrome('tacocat')}.\n",
        "Tacocorgi is a palindrome: {is_palindrome('tacocorgi')}.\n",
        "1111 is a palindrome: {is_palindrome(1111)}.\n",
        "1701 is a palindrome: {is_palindrome(1701)}.\n",
        "''')"
      ],
      "metadata": {
        "colab": {
          "base_uri": "https://localhost:8080/"
        },
        "id": "RHf-8cO84Eoq",
        "outputId": "d42ac998-5a38-4c33-c6ef-f4e666a3e84f"
      },
      "execution_count": null,
      "outputs": [
        {
          "output_type": "stream",
          "name": "stdout",
          "text": [
            "\n",
            "Tacocat is a palindrome: True.\n",
            "Tacocorgi is a palindrome: False.\n",
            "1111 is a palindrome: True.\n",
            "1701 is a palindrome: False.\n",
            "\n"
          ]
        }
      ]
    },
    {
      "cell_type": "markdown",
      "source": [
        "## Find the Largest Product of Adjacent Pairs in a List"
      ],
      "metadata": {
        "id": "DbTAAeKfJ222"
      }
    },
    {
      "cell_type": "code",
      "source": [
        "def adjacent_products(input_list):\n",
        "    '''\n",
        "    Finds the product of the the pair of adjacent elements within a list\n",
        "    and returns the largest product\n",
        "    '''\n",
        "    \n",
        "    # Create Product List\n",
        "    product_list = []\n",
        "\n",
        "    # Create Stop Number for List without last number\n",
        "    stop_num = len(input_list) - 1\n",
        "    \n",
        "    # Loop through array, and multiply each number by the next number, \n",
        "    # and save the value to product list\n",
        "    for idx in range(0, stop_num):\n",
        "      # Find Index Values of Numbers to Multiply\n",
        "      product_list.append(input_list[idx] * input_list[idx+1])\n",
        "\n",
        "    # Sort List Descending to find largest value\n",
        "    product_list.sort(reverse=True)\n",
        "    \n",
        "    return product_list[0]"
      ],
      "metadata": {
        "id": "R8Yq4cG67iRJ"
      },
      "execution_count": null,
      "outputs": []
    },
    {
      "cell_type": "code",
      "source": [
        "inputArray1 = [3, 6, -2, -5, 7, 3]\n",
        "inputArray2 = [2, 1, 3, 1, 2, 5]"
      ],
      "metadata": {
        "id": "ex8SACly5G1b"
      },
      "execution_count": null,
      "outputs": []
    },
    {
      "cell_type": "code",
      "source": [
        "print(f'''\n",
        "-------------------------------------\n",
        "Largest Products from Adjacent Values\n",
        "-------------------------------------\n",
        "\n",
        "inputArray1: {adjacent_products(inputArray1)}\n",
        "inputArray2: {adjacent_products(inputArray2)}\n",
        "''')"
      ],
      "metadata": {
        "colab": {
          "base_uri": "https://localhost:8080/"
        },
        "id": "ZXe1MXDt_-Oy",
        "outputId": "8f5f13ac-f794-4ef7-c49a-8e543dd3642d"
      },
      "execution_count": null,
      "outputs": [
        {
          "output_type": "stream",
          "name": "stdout",
          "text": [
            "\n",
            "-------------------------------------\n",
            "Largest Products from Adjacent Values\n",
            "-------------------------------------\n",
            "\n",
            "inputArray1: 21\n",
            "inputArray2: 10\n",
            "\n"
          ]
        }
      ]
    },
    {
      "cell_type": "markdown",
      "source": [
        "## Find the Area of A Polygon"
      ],
      "metadata": {
        "id": "L__E-e03spYr"
      }
    },
    {
      "cell_type": "code",
      "source": [
        "def area(n):\n",
        "    \n",
        "    # Area for len(n) == 1 will always be 1\n",
        "    if n == 1:\n",
        "        return 1\n",
        "    \n",
        "    # Define lenth of the main row\n",
        "    start_row = n + (n-1)\n",
        "    \n",
        "    # Area Counter\n",
        "    area = 0 \n",
        "    \n",
        "    # Create Remaining Rows\n",
        "    # They should be 2 smaller than the previous\n",
        "    count = start_row\n",
        "    \n",
        "    for i in range(start_row - 1):\n",
        "        if count > 2:\n",
        "            count -= 2\n",
        "            # a row will be added to each side of the main row\n",
        "            area += (count * 2)\n",
        "    \n",
        "    area = area + start_row\n",
        "                \n",
        "    return  area"
      ],
      "metadata": {
        "id": "wiKnyc2ost1e"
      },
      "execution_count": 1,
      "outputs": []
    },
    {
      "cell_type": "code",
      "source": [
        "for i in range(5):\n",
        "  print(area(i))"
      ],
      "metadata": {
        "colab": {
          "base_uri": "https://localhost:8080/"
        },
        "id": "t3Yq793sswCD",
        "outputId": "4cc64fa1-6def-450b-9a6e-9c861cc21571"
      },
      "execution_count": 2,
      "outputs": [
        {
          "output_type": "stream",
          "name": "stdout",
          "text": [
            "-1\n",
            "1\n",
            "5\n",
            "13\n",
            "25\n"
          ]
        }
      ]
    },
    {
      "cell_type": "markdown",
      "source": [
        "## Find the Missing Values in a Sequential Array"
      ],
      "metadata": {
        "id": "iGIo8HOIJ8Zu"
      }
    },
    {
      "cell_type": "markdown",
      "source": [
        "Ratiorg got statues of different sizes as a present from CodeMaster for his birthday, each statue having an non-negative integer size. Since he likes to make things perfect, he wants to arrange them from smallest to largest so that each statue will be bigger than the previous one exactly by 1. He may need some additional statues to be able to accomplish that. Help him figure out the minimum number of additional statues needed."
      ],
      "metadata": {
        "id": "K4vvSjveFE9f"
      }
    },
    {
      "cell_type": "code",
      "source": [
        "def missing_sequentials(inputArray):\n",
        "    'Returns Number of Missing Sequential Values from an Array'\n",
        "    \n",
        "    # Sort Statues in Order Ascencing\n",
        "    inputArray.sort()\n",
        "    # Find Min and Max Values\n",
        "    min_num = inputArray[0]\n",
        "    max_num = inputArray[-1]\n",
        "    \n",
        "    # Create Range between Min and Max Values as List\n",
        "    # Find Stop Number for inclusive Max Value\n",
        "    stop_num = max_num + 1\n",
        "    sequential_array = list(range(min_num, stop_num))\n",
        "    \n",
        "    # Find Lengths of Both Lists\n",
        "    input_length = len(inputArray)\n",
        "    complete_length = len(sequential_array)\n",
        "    \n",
        "    # Return Difference to Determine Number of Missing Statues\n",
        "    return complete_length - input_length"
      ],
      "metadata": {
        "id": "CD2AQJeZELdM"
      },
      "execution_count": null,
      "outputs": []
    },
    {
      "cell_type": "code",
      "source": [
        "inputArray = [6, 2, 3, 8]"
      ],
      "metadata": {
        "id": "g1jbLHLuFeuI"
      },
      "execution_count": null,
      "outputs": []
    },
    {
      "cell_type": "code",
      "source": [
        "missing_sequentials(inputArray)"
      ],
      "metadata": {
        "colab": {
          "base_uri": "https://localhost:8080/"
        },
        "id": "zwp9Lu2KFfhG",
        "outputId": "a57d6b70-8589-45dd-9b0e-6458b8a66164"
      },
      "execution_count": null,
      "outputs": [
        {
          "output_type": "execute_result",
          "data": {
            "text/plain": [
              "3"
            ]
          },
          "metadata": {},
          "execution_count": 12
        }
      ]
    },
    {
      "cell_type": "markdown",
      "source": [
        "## Determine if a Sequence will be Strictly Increasing if *ONLY* One Value is Removed."
      ],
      "metadata": {
        "id": "7jgySBjqKEgM"
      }
    },
    {
      "cell_type": "code",
      "source": [
        "def solution(sequence):\n",
        "    '''\n",
        "    Returns if a list is strictly increasingly if one or less numbers \n",
        "    needs to be removed\n",
        "    '''\n",
        "\n",
        "    # Set Failure Count = 0 \n",
        "    fc1 = 0\n",
        "    fc2 = 0\n",
        "    \n",
        "    # Verify Each Value is NOT Greater than the Following 2 Values\n",
        "\n",
        "    # Following 1\n",
        "    for i in range(len(sequence)-1):\n",
        "            if sequence[i] >= sequence[i+1]:\n",
        "                fc1 = fc1 + 1\n",
        "\n",
        "    # Following 2 \n",
        "    for i in range(len(sequence)-2):\n",
        "            if sequence[i] >= sequence[i+2]:\n",
        "                fc2 = fc2 + 1\n",
        "\n",
        "    # Verify Counts Do NOT Exceed 1 \n",
        "    if (fc1 < 2) and (fc2 < 2):                \n",
        "        return True\n",
        "    else:\n",
        "        return False "
      ],
      "metadata": {
        "id": "bxlCmrpRH_KN"
      },
      "execution_count": null,
      "outputs": []
    },
    {
      "cell_type": "code",
      "source": [
        "sequence1 = [1, 2, 3, 4, 99, 5, 6]\n",
        "sequence2 = [3, 5, 67, 98, 3]\n",
        "sequence3 = [10, 1, 2, 3, 4, 5, 6, 1]\n",
        "sequence4 = [1, 2, 1, 2]\n",
        "sequence5 = [0, -2, 5, 6]"
      ],
      "metadata": {
        "id": "G_dgIH0iKjUP"
      },
      "execution_count": null,
      "outputs": []
    },
    {
      "cell_type": "code",
      "source": [
        "print(f'''\n",
        "-------------------------------------------------\n",
        "Strictly Increasing Sequences with ONLY 1 removal\n",
        "-------------------------------------------------\n",
        "\n",
        "Sequence 1: {solution(sequence1)}\n",
        "{sequence1}\n",
        "\n",
        "Sequence 2: {solution(sequence2)}\n",
        "{sequence2}\n",
        "\n",
        "Sequence 3: {solution(sequence3)}\n",
        "{sequence3}\n",
        "\n",
        "Sequence 4: {solution(sequence4)}\n",
        "{sequence4}\n",
        "\n",
        "Sequence 5: {solution(sequence5)}\n",
        "{sequence5}\n",
        "''')"
      ],
      "metadata": {
        "colab": {
          "base_uri": "https://localhost:8080/"
        },
        "id": "TWJ1srIA6ooi",
        "outputId": "170b2008-9dca-4b7e-9c23-a7c1f4d9f05b"
      },
      "execution_count": null,
      "outputs": [
        {
          "output_type": "stream",
          "name": "stdout",
          "text": [
            "\n",
            "-------------------------------------------------\n",
            "Strictly Increasing Sequences with ONLY 1 removal\n",
            "-------------------------------------------------\n",
            "\n",
            "Sequence 1: True\n",
            "[1, 2, 3, 4, 99, 5, 6]\n",
            "\n",
            "Sequence 2: True\n",
            "[3, 5, 67, 98, 3]\n",
            "\n",
            "Sequence 3: False\n",
            "[10, 1, 2, 3, 4, 5, 6, 1]\n",
            "\n",
            "Sequence 4: False\n",
            "[1, 2, 1, 2]\n",
            "\n",
            "Sequence 5: True\n",
            "[0, -2, 5, 6]\n",
            "\n"
          ]
        }
      ]
    },
    {
      "cell_type": "markdown",
      "source": [
        "## Find ALL Zero Values, and Values \"Below\" Zero Values in a Given Matrix"
      ],
      "metadata": {
        "id": "M1SlnE9rNCmi"
      }
    },
    {
      "cell_type": "markdown",
      "source": [
        "After becoming famous, the CodeBots decided to move into a new building together. Each of the rooms has a different cost, and some of them are free, but there's a rumour that all the free rooms are haunted! Since the CodeBots are quite superstitious, they refuse to stay in any of the free rooms, or any of the rooms below any of the free rooms."
      ],
      "metadata": {
        "id": "dZrUQQxBNmLG"
      }
    },
    {
      "cell_type": "code",
      "source": [
        "def solution(matrix):\n",
        "    \n",
        "    cost = 0\n",
        "    \n",
        "    if len(matrix) == 0:\n",
        "        return 0\n",
        "    \n",
        "    if len(matrix) == 1:\n",
        "        return sum(matrix[0])\n",
        "    \n",
        "    haunted_idx = []\n",
        "    \n",
        "    for i in range(len(matrix)):\n",
        "        # Add first row sum to cost; haunted rooms do not need to be checked\n",
        "        if i == 0:\n",
        "            cost += sum(matrix[0])\n",
        "        # Add Index of any haunted rooms to haunted index list\n",
        "            for idx in range(len(matrix[0])):\n",
        "                if matrix[0][idx] == 0:\n",
        "                    haunted_idx.append(idx)\n",
        "        \n",
        "        # Check All Other Rows\n",
        "        if i >= 1:\n",
        "            # Check rooms above each \"room\"; if any \"haunted\" add 0 to cost else add value at j\n",
        "            for j in range(len(matrix[i])):\n",
        "                # Add indeces with 0's to haunted index list\n",
        "                if (matrix[i][j] == 0) and (j not in haunted_idx):\n",
        "                    haunted_idx.append(j)\n",
        "                # Add Safe Rooms cost\n",
        "                if j not in haunted_idx:\n",
        "                    cost += matrix[i][j]\n",
        "                    \n",
        "    return cost"
      ],
      "metadata": {
        "id": "BPk79qqRNg-s"
      },
      "execution_count": 15,
      "outputs": []
    },
    {
      "cell_type": "code",
      "source": [
        "matrix = [[0, 1, 1, 2], \n",
        "          [0, 5, 0, 0], \n",
        "          [2, 0, 3, 3]]"
      ],
      "metadata": {
        "id": "abzd35QPN3p8"
      },
      "execution_count": 16,
      "outputs": []
    },
    {
      "cell_type": "code",
      "source": [
        "print(f'The Cost for All Suitable Rooms is ${solution(matrix)}.00')"
      ],
      "metadata": {
        "colab": {
          "base_uri": "https://localhost:8080/"
        },
        "id": "89AiRM7mR_FC",
        "outputId": "528360a6-5fd0-4129-c065-62b073d68f68"
      },
      "execution_count": 18,
      "outputs": [
        {
          "output_type": "stream",
          "name": "stdout",
          "text": [
            "The Cost for All Suitable Rooms is $9.00\n"
          ]
        }
      ]
    },
    {
      "cell_type": "code",
      "source": [
        ""
      ],
      "metadata": {
        "id": "GMrX654zRUpr"
      },
      "execution_count": null,
      "outputs": []
    },
    {
      "cell_type": "markdown",
      "source": [
        "#The Core"
      ],
      "metadata": {
        "id": "m_mwLuZ720Hd"
      }
    },
    {
      "cell_type": "code",
      "source": [
        "def solution(n):\n",
        "    'Returns the Sum of the Digits in n'\n",
        "    nums = [int(x) for x in str(n)]\n",
        "    \n",
        "    return sum(nums)"
      ],
      "metadata": {
        "id": "8QKQ--ob26Xv"
      },
      "execution_count": 19,
      "outputs": []
    },
    {
      "cell_type": "code",
      "source": [
        "numbers = [3, 42, 1701]\n",
        "\n",
        "for num in numbers:\n",
        "  print(f'The sum of the digits in {num} is {solution(num)}')"
      ],
      "metadata": {
        "colab": {
          "base_uri": "https://localhost:8080/"
        },
        "id": "7mhRi1k43iOB",
        "outputId": "2bc735f7-13ec-4ffa-fb12-74ac60cb8ced"
      },
      "execution_count": 20,
      "outputs": [
        {
          "output_type": "stream",
          "name": "stdout",
          "text": [
            "The sum of the digits in 3 is 3\n",
            "The sum of the digits in 42 is 6\n",
            "The sum of the digits in 1701 is 9\n"
          ]
        }
      ]
    },
    {
      "cell_type": "code",
      "source": [
        "def solution(n):\n",
        "    'Return The largest Number at Length of N'\n",
        "    \n",
        "    return int('9'*n)"
      ],
      "metadata": {
        "id": "drIpShYw3u94"
      },
      "execution_count": 21,
      "outputs": []
    },
    {
      "cell_type": "code",
      "source": [
        "numbers = [3, 7, 42]\n",
        "\n",
        "for num in numbers:\n",
        "  print(f'The largest number of {num} digits is {solution(num)}')"
      ],
      "metadata": {
        "colab": {
          "base_uri": "https://localhost:8080/"
        },
        "id": "p63d5UeZ4UHy",
        "outputId": "6d89da2a-77c0-4598-d475-187335739bf5"
      },
      "execution_count": 22,
      "outputs": [
        {
          "output_type": "stream",
          "name": "stdout",
          "text": [
            "The largest number of 3 digits is 999\n",
            "The largest number of 7 digits is 9999999\n",
            "The largest number of 42 digits is 999999999999999999999999999999999999999999\n"
          ]
        }
      ]
    },
    {
      "cell_type": "code",
      "source": [
        "def solution(n, m):\n",
        "    'Find the Maximum Value where part of M can be evenly distributed across N'\n",
        "    \n",
        "    # Floor Divide to find even distribution number\n",
        "    # Multiple Number of N to find Max Value Needed\n",
        "    \n",
        "    return (m//n) * n"
      ],
      "metadata": {
        "id": "4bWYtH7O4fVo"
      },
      "execution_count": 27,
      "outputs": []
    },
    {
      "cell_type": "code",
      "source": [
        "print(f'To distribute 1701 pieces of candies evenly across 42 individuals, {solution(42, 1701)} candies will be used')"
      ],
      "metadata": {
        "colab": {
          "base_uri": "https://localhost:8080/"
        },
        "id": "JuAq4rLy6kSH",
        "outputId": "1b42d390-7982-4207-b226-fbbce3e88bf3"
      },
      "execution_count": 29,
      "outputs": [
        {
          "output_type": "stream",
          "name": "stdout",
          "text": [
            "To distribute 1701 pieces of candies evenly across 42 individuals, 1680 candies will be used\n"
          ]
        }
      ]
    },
    {
      "cell_type": "markdown",
      "source": [
        "Your friend advised you to see a new performance in the most popular theater in the city. He knows a lot about art and his advice is usually good, but not this time: the performance turned out to be awfully dull. It's so bad you want to sneak out, which is quite simple, especially since the exit is located right behind your row to the left. All you need to do is climb over your seat and make your way to the exit.\n",
        "\n",
        "The main problem is your shyness: you're afraid that you'll end up blocking the view (even if only for a couple of seconds) of all the people who sit behind you and in your column or the columns to your left. To gain some courage, you decide to calculate the number of such people and see if you can possibly make it to the exit without disturbing too many people."
      ],
      "metadata": {
        "id": "zPrcp_wC8PS6"
      }
    },
    {
      "cell_type": "code",
      "source": [
        "def solution(nCols, nRows, col, row):\n",
        "  'Determine the Number of Seats Pass'\n",
        "    \n",
        "  # Determine Number of Columns between Seat and Exit including seat column\n",
        "  cols_to_pass = nCols - (col-1)\n",
        "  # Determing Rows Behind Seat\n",
        "  rows_behind = nRows - row\n",
        "\n",
        "  # Return total number of seats to pass.\n",
        "  return cols_to_pass*rows_behind"
      ],
      "metadata": {
        "id": "Zq09QKCZ6ZNZ"
      },
      "execution_count": 32,
      "outputs": []
    },
    {
      "cell_type": "code",
      "source": [
        "print(f'You will need to pass {solution(16, 11, 5, 3)} seats to exit a theater with 16 rows, and 11 columns, if you are in column 5, row 3.')"
      ],
      "metadata": {
        "colab": {
          "base_uri": "https://localhost:8080/"
        },
        "id": "4SsidL1a8RvR",
        "outputId": "c08bbbf2-1655-4729-e992-bfdd150edd0f"
      },
      "execution_count": 33,
      "outputs": [
        {
          "output_type": "stream",
          "name": "stdout",
          "text": [
            "You will need to pass 96 seats to exit a theater with 16 rows, and 11 columns, if you are in column 5, row 3.\n"
          ]
        }
      ]
    },
    {
      "cell_type": "code",
      "source": [
        "def solution(divisor, bound):\n",
        "    'Find the Largest Number divisible by the divisor, but is not greater than the bound'\n",
        "    \n",
        "    largest = 0\n",
        "    \n",
        "    for i in range(1, (bound+1)):\n",
        "        if (i % divisor == 0) and i > 0:\n",
        "            largest = i\n",
        "    \n",
        "    return largest"
      ],
      "metadata": {
        "id": "Y51Hwo9B8kRD"
      },
      "execution_count": 36,
      "outputs": []
    },
    {
      "cell_type": "code",
      "source": [
        "divisor = [3, 7, 10]\n",
        "bound = [42, 221, 1701]\n",
        "\n",
        "for x in divisor:\n",
        "  for y in bound:\n",
        "    print(f'The largest number divisibile by {x} without being greater than {y} is {solution(x,y)}')"
      ],
      "metadata": {
        "colab": {
          "base_uri": "https://localhost:8080/"
        },
        "id": "thZMNn9l9lOg",
        "outputId": "1df5c506-22dc-40e2-97f9-64072714e835"
      },
      "execution_count": 39,
      "outputs": [
        {
          "output_type": "stream",
          "name": "stdout",
          "text": [
            "The largest number divisibile by 3 without being greater than 42 is 42\n",
            "The largest number divisibile by 3 without being greater than 221 is 219\n",
            "The largest number divisibile by 3 without being greater than 1701 is 1701\n",
            "The largest number divisibile by 7 without being greater than 42 is 42\n",
            "The largest number divisibile by 7 without being greater than 221 is 217\n",
            "The largest number divisibile by 7 without being greater than 1701 is 1701\n",
            "The largest number divisibile by 10 without being greater than 42 is 40\n",
            "The largest number divisibile by 10 without being greater than 221 is 220\n",
            "The largest number divisibile by 10 without being greater than 1701 is 1700\n"
          ]
        }
      ]
    },
    {
      "cell_type": "code",
      "source": [
        "def solution(n, firstNumber):\n",
        "    \n",
        "    'Find the Radial Opposite NufirstNumberber on A circle to a given First NufirstNumberber'\n",
        "    \n",
        "    # Add or Subtract Radius to First Number\n",
        "    if firstNumber >= (n/2):\n",
        "        return firstNumber - (n/2)\n",
        "    else:\n",
        "        return firstNumber + (n/2)"
      ],
      "metadata": {
        "id": "h2DrHa5c-HbZ"
      },
      "execution_count": 40,
      "outputs": []
    },
    {
      "cell_type": "code",
      "source": [
        "print(f'The radial opposite of 3, in a circle with 42 points ranging from 0 to 41 is {solution(42, 3)}')"
      ],
      "metadata": {
        "colab": {
          "base_uri": "https://localhost:8080/"
        },
        "id": "CPsOq565Cd5g",
        "outputId": "1f17ac2a-6f18-4266-e041-dee2b4e90fae"
      },
      "execution_count": 42,
      "outputs": [
        {
          "output_type": "stream",
          "name": "stdout",
          "text": [
            "The radial opposite of 3, in a circle with 42 points ranging from 0 to 41 is 24.0\n"
          ]
        }
      ]
    },
    {
      "cell_type": "code",
      "source": [
        "def solution(n):\n",
        "    'Find the time for given n minutes which have passed since midnight'\n",
        "    \n",
        "    if n == 0:\n",
        "        return 0\n",
        "    \n",
        "    if n < 60:\n",
        "        minutes = str(n)\n",
        "        minutes = [int(num) for num in minutes]\n",
        "        return sum(minutes)\n",
        "        \n",
        "    if n % 60 == 0:\n",
        "        hours = str(int(n/60))\n",
        "        if len(hours) > 1:\n",
        "            hours = [int(x) for x in hours] \n",
        "            return sum(hours)\n",
        "        else:\n",
        "            return int(hours)\n",
        "        \n",
        "    time = []\n",
        "    \n",
        "    # Find Hours and Minutes Passed\n",
        "    elapsed = str(n/60)\n",
        "    elapsed = elapsed.split('.')\n",
        "    \n",
        "    # Find Append Numbers to Time\n",
        "    hours = elapsed[0]\n",
        "    for x in hours:\n",
        "        time.append(int(x))\n",
        "        \n",
        "\n",
        "    min_per_dec = 60/100\n",
        "    minutes = f'.{elapsed[1]}'\n",
        "    minutes = round((float(minutes) * min_per_dec * 100), 0)\n",
        "    minutes = str(int(minutes))\n",
        "    \n",
        "    for y in minutes:\n",
        "        time.append(int(y))\n",
        "    \n",
        "    return sum(time)"
      ],
      "metadata": {
        "id": "W2wrq24gCu0H"
      },
      "execution_count": 48,
      "outputs": []
    },
    {
      "cell_type": "code",
      "source": [
        "numbers = [0, 42, 60, 221, 1701]"
      ],
      "metadata": {
        "id": "CEOXf6zILswG"
      },
      "execution_count": 49,
      "outputs": []
    },
    {
      "cell_type": "code",
      "source": [
        "for num in numbers:\n",
        "  print(f'If {num} minutes have passed since midnight(00:00), the sum of the digits of the current time is {solution(num)}')"
      ],
      "metadata": {
        "colab": {
          "base_uri": "https://localhost:8080/"
        },
        "id": "of6-14W6L0aF",
        "outputId": "01d1fa2a-3ec9-4aea-80bd-bedb18fd6294"
      },
      "execution_count": 50,
      "outputs": [
        {
          "output_type": "stream",
          "name": "stdout",
          "text": [
            "If 0 minutes have passed since midnight(00:00), the sum of the digits of the current time is 0\n",
            "If 42 minutes have passed since midnight(00:00), the sum of the digits of the current time is 6\n",
            "If 60 minutes have passed since midnight(00:00), the sum of the digits of the current time is 1\n",
            "If 221 minutes have passed since midnight(00:00), the sum of the digits of the current time is 8\n",
            "If 1701 minutes have passed since midnight(00:00), the sum of the digits of the current time is 13\n"
          ]
        }
      ]
    },
    {
      "cell_type": "code",
      "source": [
        "def solution(min1, min2_10, min11, s):\n",
        "    'Find the Max Duration of a Call with the Given Rates per Minute'\n",
        "    \n",
        "    # If less money is available than the first minute of a call costs, return 0\n",
        "    if s < min1:\n",
        "        return 0\n",
        "    \n",
        "    # If the money available is the exact cost of the first minute of a call, return 1\n",
        "    if s == min1:\n",
        "        return 1\n",
        "        \n",
        "    bank = s-min1\n",
        "    minutes = 1\n",
        "    \n",
        "    while (minutes <= 10) and (bank >= min2_10):\n",
        "        bank -= min2_10\n",
        "        minutes +=1\n",
        "    \n",
        "    while (minutes >= 11) and (bank > min11):\n",
        "        bank -= min11\n",
        "        minutes += 1\n",
        "    \n",
        "    return minutes"
      ],
      "metadata": {
        "id": "tTTB7au4MAed"
      },
      "execution_count": 54,
      "outputs": []
    },
    {
      "cell_type": "code",
      "source": [
        "min1 = 3\n",
        "min2_10 = 2\n",
        "min11 = 2\n",
        "s = 20\n",
        "\n",
        "print(f'''\n",
        "--------------------------\n",
        "--------------------------\n",
        " Cell Phone Minutes Rates\n",
        "--------------------------\n",
        "First Minutes: {min1}¢\n",
        "Minutes 2 - 10: {min2_10}¢\n",
        "Minutes 11+: {min11}¢\n",
        "--------------------------\n",
        "Account Balance: {s}¢\n",
        "--------------------------\n",
        "Longest Possible Call:\n",
        "{solution(min1, min2_10, min11, s)} minutes\n",
        "--------------------------\n",
        "--------------------------\n",
        "''')"
      ],
      "metadata": {
        "colab": {
          "base_uri": "https://localhost:8080/"
        },
        "id": "qhhGtvqPQ2-9",
        "outputId": "5c3c7866-caad-4f2e-f176-267b71dba3d4"
      },
      "execution_count": 61,
      "outputs": [
        {
          "output_type": "stream",
          "name": "stdout",
          "text": [
            "\n",
            "--------------------------\n",
            "--------------------------\n",
            " Cell Phone Minutes Rates\n",
            "--------------------------\n",
            "First Minutes: 3¢\n",
            "Minutes 2 - 10: 2¢\n",
            "Minutes 11+: 2¢\n",
            "--------------------------\n",
            "Account Balance: 20¢\n",
            "--------------------------\n",
            "Longest Possible Call:\n",
            "9 minutes\n",
            "--------------------------\n",
            "--------------------------\n",
            "\n"
          ]
        }
      ]
    },
    {
      "cell_type": "code",
      "source": [
        "def solution(experience, threshold, reward):\n",
        "    'Determines if Threshold will be met with Next Kill'\n",
        "    \n",
        "    if (experience + reward) < threshold:\n",
        "        return False\n",
        "    else:\n",
        "        return True"
      ],
      "metadata": {
        "id": "l_-ArvoIRAd8"
      },
      "execution_count": 62,
      "outputs": []
    },
    {
      "cell_type": "code",
      "source": [
        "xp = [221, 1500]\n",
        "thresh = 1701\n",
        "mob_xp = [42, 221]"
      ],
      "metadata": {
        "id": "MsX_9SsKS2Y0"
      },
      "execution_count": 63,
      "outputs": []
    },
    {
      "cell_type": "code",
      "source": [
        "for x in xp:\n",
        "  for p in mob_xp:\n",
        "    print(f'''\n",
        "-----------------------------------\n",
        "Current Experience: {x}/{thresh}\n",
        "-----------------------------------\n",
        "Monster was slain for {y}!\n",
        "-----------------------------------\n",
        "''')\n",
        "    if solution(x, thresh, p) == True:\n",
        "      print('''      \n",
        "Congratulations! You Leveled Up!\n",
        "-----------------------------------\n",
        "      ''')\n",
        "    else:\n",
        "      print(f'''\n",
        "Current Experience: {(x+p)}/{thresh}\n",
        "-----------------------------------\n",
        "      ''')"
      ],
      "metadata": {
        "colab": {
          "base_uri": "https://localhost:8080/"
        },
        "id": "OdZvzx3UTHfD",
        "outputId": "ebc1589c-863d-4a0d-953c-27edffab7a41"
      },
      "execution_count": 66,
      "outputs": [
        {
          "output_type": "stream",
          "name": "stdout",
          "text": [
            "\n",
            "-----------------------------------\n",
            "Current Experience: 221/1701\n",
            "-----------------------------------\n",
            "Monster was slain for 1701!\n",
            "-----------------------------------\n",
            "\n",
            "\n",
            "Current Experience: 263/1701\n",
            "-----------------------------------\n",
            "      \n",
            "\n",
            "-----------------------------------\n",
            "Current Experience: 221/1701\n",
            "-----------------------------------\n",
            "Monster was slain for 1701!\n",
            "-----------------------------------\n",
            "\n",
            "\n",
            "Current Experience: 442/1701\n",
            "-----------------------------------\n",
            "      \n",
            "\n",
            "-----------------------------------\n",
            "Current Experience: 1500/1701\n",
            "-----------------------------------\n",
            "Monster was slain for 1701!\n",
            "-----------------------------------\n",
            "\n",
            "\n",
            "Current Experience: 1542/1701\n",
            "-----------------------------------\n",
            "      \n",
            "\n",
            "-----------------------------------\n",
            "Current Experience: 1500/1701\n",
            "-----------------------------------\n",
            "Monster was slain for 1701!\n",
            "-----------------------------------\n",
            "\n",
            "      \n",
            "Congratulations! You Leveled Up!\n",
            "-----------------------------------\n",
            "      \n"
          ]
        }
      ]
    },
    {
      "cell_type": "code",
      "source": [
        "def solution(value1, weight1, value2, weight2, maxW):\n",
        "    'Determine Max Value which can be carried from two items'\n",
        "\n",
        "    if (weight1 + weight2) <= maxW:\n",
        "        return value1 + value2\n",
        "    \n",
        "    elif (weight1 <= maxW) and (weight2 <= maxW):\n",
        "        return max(value1, value2)\n",
        "    \n",
        "    else:\n",
        "        if weight1 <= maxW:\n",
        "            return value1\n",
        "        elif weight2 <= maxW:\n",
        "            return value2\n",
        "        else:\n",
        "            return 0\n"
      ],
      "metadata": {
        "id": "IymmefZYTzMe"
      },
      "execution_count": 71,
      "outputs": []
    },
    {
      "cell_type": "code",
      "source": [
        "def solution(a, b, c):\n",
        "    'Find the Number which is not Equal'\n",
        "    \n",
        "    if a == b:\n",
        "        return c\n",
        "    elif a == c:\n",
        "        return b\n",
        "    else:\n",
        "        return a"
      ],
      "metadata": {
        "id": "SZSogV57WcN_"
      },
      "execution_count": 78,
      "outputs": []
    },
    {
      "cell_type": "code",
      "source": [
        "print(solution(42, 1701, 42), solution(221, 42, 42), solution(42, 42, 3.14))"
      ],
      "metadata": {
        "colab": {
          "base_uri": "https://localhost:8080/"
        },
        "id": "C9CtsTODXcls",
        "outputId": "67bdd326-b911-4043-d7a9-0b84f19488d7"
      },
      "execution_count": 81,
      "outputs": [
        {
          "output_type": "stream",
          "name": "stdout",
          "text": [
            "1701 221 3.14\n"
          ]
        }
      ]
    },
    {
      "cell_type": "code",
      "source": [
        "def solution(a, b):\n",
        "    'Determine if an infinite loop is possible while a does not equal b, and a increasing by 1 and b is decreasing by 1'\n",
        "    \n",
        "    # If start numbers are equal, infinite loop is immediately False\n",
        "    if a == b:\n",
        "        return False\n",
        "    \n",
        "    # Find largest Value a which can be reached\n",
        "    max_num = max(a, b)\n",
        "    \n",
        "    for i in range(max_num+1):\n",
        "        a += 1\n",
        "        b -= 1\n",
        "         \n",
        "        if a == b:\n",
        "            return False\n",
        "    \n",
        "    return True"
      ],
      "metadata": {
        "id": "gf0TRFTOXqCb"
      },
      "execution_count": 82,
      "outputs": []
    },
    {
      "cell_type": "code",
      "source": [
        "def solution(a, b, c):\n",
        "    'Determine if an a solution of a [operator] b can equal c'\n",
        "    \n",
        "    if ((a + b == c) or \n",
        "        (a * b == c) or\n",
        "        (a - b == c) or\n",
        "        (a / b == c)):\n",
        "        return True\n",
        "    else:\n",
        "        return False"
      ],
      "metadata": {
        "id": "98SuZHeMazcr"
      },
      "execution_count": 91,
      "outputs": []
    },
    {
      "cell_type": "markdown",
      "source": [
        "In tennis, the winner of a set is based on how many games each player wins. The first player to win 6 games is declared the winner unless their opponent had already won 5 games, in which case the set continues until one of the players has won 7 games.\n",
        "\n",
        "Given two integers score1 and score2, your task is to determine if it is possible for a tennis set to be finished with a final score of score1 : score2"
      ],
      "metadata": {
        "id": "Q9M_q27Lcse7"
      }
    },
    {
      "cell_type": "code",
      "source": [
        "def solution(score1, score2):\n",
        "    \n",
        "    # Scores > 7 not Possible\n",
        "    if (score1 > 7) or (score2 > 7):\n",
        "        return False\n",
        "    \n",
        "    # There are no ties\n",
        "    if score1 == score2:\n",
        "        return False\n",
        "    \n",
        "    # 7 Set Games requires, when one score is 5 when the other reaches 6\n",
        "    if ((score1 >= 5) and (score2 > 6)) or ((score2 >= 5) and (score1 > 6)):\n",
        "        return True\n",
        "    \n",
        "    if ((score1 < 5) and (score2 == 6)) or ((score2 < 5) and (score1 == 6)):\n",
        "        return True\n",
        "        \n",
        "    else:\n",
        "        return False"
      ],
      "metadata": {
        "id": "dTqNfKyicUyc"
      },
      "execution_count": 92,
      "outputs": []
    },
    {
      "cell_type": "markdown",
      "source": [
        "Once Mary heard a famous song, and a line from it stuck in her head. That line was \"Will you still love me when I'm no longer young and beautiful?\". Mary believes that a person is loved if and only if he/she is both young and beautiful, but this is quite a depressing thought, so she wants to put her belief to the test.\n",
        "\n",
        "Knowing whether a person is young, beautiful and loved, find out if they contradict Mary's belief."
      ],
      "metadata": {
        "id": "np6ztnyIgOxX"
      }
    },
    {
      "cell_type": "code",
      "source": [
        "def solution(young, beautiful, loved):\n",
        "    \n",
        "    if ((young != True) or (beautiful != True)) and loved == True:\n",
        "        return True\n",
        "    \n",
        "    elif ((young == True) and (beautiful == True)) and loved != True:\n",
        "        return True\n",
        "    \n",
        "    else:\n",
        "        return False"
      ],
      "metadata": {
        "id": "V4CLXKepevav"
      },
      "execution_count": 93,
      "outputs": []
    },
    {
      "cell_type": "markdown",
      "source": [
        "You just bought a public transit card that allows you to ride the Metro for a certain number of days.\n",
        "\n",
        "Here is how it works: upon first receiving the card, the system allocates you a 31-day pass, which equals the number of days in January. The second time you pay for the card, your pass is extended by 28 days, i.e. the number of days in February (note that leap years are not considered), and so on. The 13th time you extend the pass, you get 31 days again.\n",
        "\n",
        "You just ran out of days on the card, and unfortunately you've forgotten how many times your pass has been extended so far. However, you do remember the number of days you were able to ride the Metro during this most recent month. Figure out the number of days by which your pass will now be extended, and return all the options as an array sorted in increasing order."
      ],
      "metadata": {
        "id": "SDV7lkVVhjfC"
      }
    },
    {
      "cell_type": "code",
      "source": [
        "def solution(lastNumberOfDays):\n",
        "    \n",
        "    if lastNumberOfDays == 31:\n",
        "        return [28, 30, 31]\n",
        "    else:\n",
        "        return [31]"
      ],
      "metadata": {
        "id": "mI-8THIgg1uV"
      },
      "execution_count": 94,
      "outputs": []
    },
    {
      "cell_type": "code",
      "source": [
        ""
      ],
      "metadata": {
        "id": "cbP42VMwhmTG"
      },
      "execution_count": null,
      "outputs": []
    }
  ]
}