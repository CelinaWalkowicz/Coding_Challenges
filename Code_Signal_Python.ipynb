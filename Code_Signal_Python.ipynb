{
  "nbformat": 4,
  "nbformat_minor": 0,
  "metadata": {
    "colab": {
      "name": "Code Signal Python",
      "provenance": [],
      "collapsed_sections": [],
      "authorship_tag": "ABX9TyNYs2v+YQLzS1eUxCjibhxk",
      "include_colab_link": true
    },
    "kernelspec": {
      "name": "python3",
      "display_name": "Python 3"
    },
    "language_info": {
      "name": "python"
    }
  },
  "cells": [
    {
      "cell_type": "markdown",
      "metadata": {
        "id": "view-in-github",
        "colab_type": "text"
      },
      "source": [
        "<a href=\"https://colab.research.google.com/github/CelinaWalkowicz/Coding_Challenges/blob/main/Code_Signal_Python.ipynb\" target=\"_parent\"><img src=\"https://colab.research.google.com/assets/colab-badge.svg\" alt=\"Open In Colab\"/></a>"
      ]
    },
    {
      "cell_type": "markdown",
      "source": [
        "# Arcade Universe"
      ],
      "metadata": {
        "id": "bdYT7AfG25Fg"
      }
    },
    {
      "cell_type": "markdown",
      "source": [
        "## Sum of Two Numbers"
      ],
      "metadata": {
        "id": "yg5UJkuXJFuc"
      }
    },
    {
      "cell_type": "code",
      "execution_count": 1,
      "metadata": {
        "id": "H6ZHJUQw21eX"
      },
      "outputs": [],
      "source": [
        "def sum2(num1, num2):\n",
        "  'Returns the Sum of Two Numbers'\n",
        "\n",
        "  return num1 + num2"
      ]
    },
    {
      "cell_type": "code",
      "source": [
        "sum2(2, 3)"
      ],
      "metadata": {
        "colab": {
          "base_uri": "https://localhost:8080/"
        },
        "id": "uMhdjUUC3JQ8",
        "outputId": "0c5aa726-4b9a-447d-e786-498a613d6a80"
      },
      "execution_count": 2,
      "outputs": [
        {
          "output_type": "execute_result",
          "data": {
            "text/plain": [
              "5"
            ]
          },
          "metadata": {},
          "execution_count": 2
        }
      ]
    },
    {
      "cell_type": "markdown",
      "source": [
        "## Determine the Century for Each Year\n",
        "\n",
        "A Century is defined as year 1 - 100\n",
        "Examples: \n",
        "1st Century is from 1 - 100\n",
        "17th Century is from 1701 - 1800\n",
        "20th Century is from 1901 - 2000"
      ],
      "metadata": {
        "id": "y6-aCsDnJJ4l"
      }
    },
    {
      "cell_type": "code",
      "source": [
        "def calc_century(year):\n",
        "    '''\n",
        "    This function takes a year, and returns the century it is in.\n",
        "    '''\n",
        "    \n",
        "    # Ensure year is int\n",
        "    int(year)\n",
        "    # Change year to string for indexing\n",
        "    yr = str(year)\n",
        "\n",
        "    # Index yr into parts to determine cdef solution(year):\n",
        "    '''\n",
        "    This function takes a year, and returns the century it is in.\n",
        "    '''\n",
        "    \n",
        "    # Ensure year is int\n",
        "    int(year)\n",
        "    # Change year to string for indexing\n",
        "    yr = str(year)\n",
        "\n",
        "    # Ensure all years are YYYY format\n",
        "    # Find first century years\n",
        "    if year <= 1000:\n",
        "      # years less than 100 will need a 00\n",
        "      if year < 100:\n",
        "        yr_pt1 = '00'\n",
        "        yr_pt2 = str(year)\n",
        "        yr = yr_pt1 + yr_pt2\n",
        "      else:\n",
        "        yr_pt1 = '0'\n",
        "        yr_pt2 = str(year)\n",
        "        yr = yr_pt1 + yr_pt2\n",
        "    \n",
        "    # Save first 2 numbs to determine century\n",
        "    yr_idx1 = int(yr[:2])\n",
        "    # Save last 2 nums to check year range to check years are in century range\n",
        "    yr_idx2 = int(yr[2:4])\n",
        "    \n",
        "    # Check century range xx01-xx99\n",
        "    if yr_idx2 >= 1:\n",
        "        # Add 1 to find the century\n",
        "        century = yr_idx1 + 1\n",
        "    # Check century range xx00\n",
        "    elif yr_idx2 == 0:\n",
        "        century = yr_idx1\n",
        "      \n",
        "    return century"
      ],
      "metadata": {
        "id": "v4zYYyBt3NdN"
      },
      "execution_count": 3,
      "outputs": []
    },
    {
      "cell_type": "code",
      "source": [
        "print(f'''\n",
        "The year 42 is in century {calc_century(42)}.\n",
        "The year 100 is in century {calc_century(100)}.\n",
        "The year 1000 is in century {calc_century(1000)}.\n",
        "The year 1500 is in century {calc_century(1500)}.\n",
        "The year 1701 is in century {calc_century(1701)}.\n",
        "The year 1994 is in century {calc_century(1994)}.\n",
        "The year 2022 is in century {calc_century(2022)}.\n",
        "''')"
      ],
      "metadata": {
        "colab": {
          "base_uri": "https://localhost:8080/"
        },
        "id": "4-3_HF3C3Y_e",
        "outputId": "4dda65df-880e-4bd0-8345-2e059e38a377"
      },
      "execution_count": 4,
      "outputs": [
        {
          "output_type": "stream",
          "name": "stdout",
          "text": [
            "\n",
            "The year 42 is in century 1.\n",
            "The year 100 is in century 1.\n",
            "The year 1000 is in century 1.\n",
            "The year 1500 is in century 15.\n",
            "The year 1701 is in century 18.\n",
            "The year 1994 is in century 20.\n",
            "The year 2022 is in century 21.\n",
            "\n"
          ]
        }
      ]
    },
    {
      "cell_type": "markdown",
      "source": [
        "## Determine if a Given Input is a Palindrome"
      ],
      "metadata": {
        "id": "lYlunPxLJng6"
      }
    },
    {
      "cell_type": "code",
      "source": [
        "def is_palindrome(given_input):\n",
        "    '''\n",
        "    Takes an input and checks if it is a palindrome\n",
        "    '''\n",
        "    \n",
        "    # Ensure Input is String\n",
        "    fwd_string = str(given_input).lower()\n",
        "\n",
        "    # Reverse String\n",
        "    retro_string = fwd_string[::-1]\n",
        "\n",
        "    # Check if strings are equal\n",
        "    if fwd_string == retro_string:\n",
        "      return True\n",
        "    else:\n",
        "      return False"
      ],
      "metadata": {
        "id": "jgOfiyB-3bLQ"
      },
      "execution_count": 5,
      "outputs": []
    },
    {
      "cell_type": "code",
      "source": [
        "print(f'''\n",
        "Tacocat is a palindrome: {is_palindrome('tacocat')}.\n",
        "Tacocorgi is a palindrome: {is_palindrome('tacocorgi')}.\n",
        "1111 is a palindrome: {is_palindrome(1111)}.\n",
        "1701 is a palindrome: {is_palindrome(1701)}.\n",
        "''')"
      ],
      "metadata": {
        "colab": {
          "base_uri": "https://localhost:8080/"
        },
        "id": "RHf-8cO84Eoq",
        "outputId": "1f1108d1-bcdb-42e5-c873-a8e845fad89f"
      },
      "execution_count": 6,
      "outputs": [
        {
          "output_type": "stream",
          "name": "stdout",
          "text": [
            "\n",
            "Tacocat is a palindrome: True.\n",
            "Tacocorgi is a palindrome: False.\n",
            "1111 is a palindrome: True.\n",
            "1701 is a palindrome: False.\n",
            "\n"
          ]
        }
      ]
    },
    {
      "cell_type": "markdown",
      "source": [
        "## Find the Largest Product of Adjacent Pairs in a List"
      ],
      "metadata": {
        "id": "DbTAAeKfJ222"
      }
    },
    {
      "cell_type": "code",
      "source": [
        "def adjacent_products(input_list):\n",
        "    '''\n",
        "    Finds the product of the the pair of adjacent elements within a list\n",
        "    and returns the largest product\n",
        "    '''\n",
        "    \n",
        "    # Create Product List\n",
        "    product_list = []\n",
        "\n",
        "    # Create Stop Number for List without last number\n",
        "    stop_num = len(input_list) - 1\n",
        "    \n",
        "    # Loop through array, and multiply each number by the next number, \n",
        "    # and save the value to product list\n",
        "    for idx in range(0, stop_num):\n",
        "      # Find Index Values of Numbers to Multiply\n",
        "      product_list.append(input_list[idx] * input_list[idx+1])\n",
        "\n",
        "    # Sort List Descending to find largest value\n",
        "    product_list.sort(reverse=True)\n",
        "    \n",
        "    return product_list[0]"
      ],
      "metadata": {
        "id": "R8Yq4cG67iRJ"
      },
      "execution_count": 7,
      "outputs": []
    },
    {
      "cell_type": "code",
      "source": [
        "inputArray1 = [3, 6, -2, -5, 7, 3]\n",
        "inputArray2 = [2, 1, 3, 1, 2, 5]"
      ],
      "metadata": {
        "id": "ex8SACly5G1b"
      },
      "execution_count": 8,
      "outputs": []
    },
    {
      "cell_type": "code",
      "source": [
        "print(f'''\n",
        "-------------------------------------\n",
        "Largest Products from Adjacent Values\n",
        "-------------------------------------\n",
        "\n",
        "inputArray1: {adjacent_products(inputArray1)}\n",
        "inputArray2: {adjacent_products(inputArray2)}\n",
        "''')"
      ],
      "metadata": {
        "colab": {
          "base_uri": "https://localhost:8080/"
        },
        "id": "ZXe1MXDt_-Oy",
        "outputId": "b73e5887-f2d2-480e-9957-0fd2ba622d07"
      },
      "execution_count": 9,
      "outputs": [
        {
          "output_type": "stream",
          "name": "stdout",
          "text": [
            "\n",
            "-------------------------------------\n",
            "Largest Products from Adjacent Values\n",
            "-------------------------------------\n",
            "\n",
            "inputArray1: 21\n",
            "inputArray2: 10\n",
            "\n"
          ]
        }
      ]
    },
    {
      "cell_type": "markdown",
      "source": [
        "## Find the Missing Values in a Sequential Array"
      ],
      "metadata": {
        "id": "iGIo8HOIJ8Zu"
      }
    },
    {
      "cell_type": "markdown",
      "source": [
        "Ratiorg got statues of different sizes as a present from CodeMaster for his birthday, each statue having an non-negative integer size. Since he likes to make things perfect, he wants to arrange them from smallest to largest so that each statue will be bigger than the previous one exactly by 1. He may need some additional statues to be able to accomplish that. Help him figure out the minimum number of additional statues needed."
      ],
      "metadata": {
        "id": "K4vvSjveFE9f"
      }
    },
    {
      "cell_type": "code",
      "source": [
        "def missing_sequentials(inputArray):\n",
        "    'Returns Number of Missing Sequential Values from an Array'\n",
        "    \n",
        "    # Sort Statues in Order Ascencing\n",
        "    inputArray.sort()\n",
        "    # Find Min and Max Values\n",
        "    min_num = inputArray[0]\n",
        "    max_num = inputArray[-1]\n",
        "    \n",
        "    # Create Range between Min and Max Values as List\n",
        "    # Find Stop Number for inclusive Max Value\n",
        "    stop_num = max_num + 1\n",
        "    sequential_array = list(range(min_num, stop_num))\n",
        "    \n",
        "    # Find Lengths of Both Lists\n",
        "    input_length = len(inputArray)\n",
        "    complete_length = len(sequential_array)\n",
        "    \n",
        "    # Return Difference to Determine Number of Missing Statues\n",
        "    return complete_length - input_length"
      ],
      "metadata": {
        "id": "CD2AQJeZELdM"
      },
      "execution_count": 10,
      "outputs": []
    },
    {
      "cell_type": "code",
      "source": [
        "inputArray = [6, 2, 3, 8]"
      ],
      "metadata": {
        "id": "g1jbLHLuFeuI"
      },
      "execution_count": 11,
      "outputs": []
    },
    {
      "cell_type": "code",
      "source": [
        "missing_sequentials(inputArray)"
      ],
      "metadata": {
        "colab": {
          "base_uri": "https://localhost:8080/"
        },
        "id": "zwp9Lu2KFfhG",
        "outputId": "515d17ad-8638-47c7-d458-360260e160e0"
      },
      "execution_count": 12,
      "outputs": [
        {
          "output_type": "execute_result",
          "data": {
            "text/plain": [
              "3"
            ]
          },
          "metadata": {},
          "execution_count": 12
        }
      ]
    },
    {
      "cell_type": "markdown",
      "source": [
        "## Determine if a Sequence will be Strictly Increasing if *ONLY* One Value is Removed."
      ],
      "metadata": {
        "id": "7jgySBjqKEgM"
      }
    },
    {
      "cell_type": "code",
      "source": [
        "def solution(sequence):\n",
        "    '''\n",
        "    Returns if a list is strictly increasingly if one or less numbers \n",
        "    needs to be removed\n",
        "    '''\n",
        "\n",
        "    # Set Failure Count = 0 \n",
        "    fc1 = 0\n",
        "    fc2 = 0\n",
        "    \n",
        "    # Verify Each Value is NOT Greater than the Following 2 Values\n",
        "\n",
        "    # Following 1\n",
        "    for i in range(len(sequence)-1):\n",
        "            if sequence[i] >= sequence[i+1]:\n",
        "                fc1 = fc1 + 1\n",
        "\n",
        "    # Following 2 \n",
        "    for i in range(len(sequence)-2):\n",
        "            if sequence[i] >= sequence[i+2]:\n",
        "                fc2 = fc2 + 1\n",
        "\n",
        "    # Verify Counts Do NOT Exceed 1 \n",
        "    if (fc1 < 2) and (fc2 < 2):                \n",
        "        return True\n",
        "    else:\n",
        "        return False "
      ],
      "metadata": {
        "id": "bxlCmrpRH_KN"
      },
      "execution_count": 13,
      "outputs": []
    },
    {
      "cell_type": "code",
      "source": [
        "sequence1 = [1, 2, 3, 4, 99, 5, 6]\n",
        "sequence2 = [3, 5, 67, 98, 3]\n",
        "sequence3 = [10, 1, 2, 3, 4, 5, 6, 1]\n",
        "sequence4 = [1, 2, 1, 2]\n",
        "sequence5 = [0, -2, 5, 6]"
      ],
      "metadata": {
        "id": "G_dgIH0iKjUP"
      },
      "execution_count": 14,
      "outputs": []
    },
    {
      "cell_type": "code",
      "source": [
        "print(f'''\n",
        "-------------------------------------------------\n",
        "Strictly Increasing Sequences with ONLY 1 removal\n",
        "-------------------------------------------------\n",
        "\n",
        "Sequence 1: {solution(sequence1)}\n",
        "{sequence1}\n",
        "\n",
        "Sequence 2: {solution(sequence2)}\n",
        "{sequence2}\n",
        "\n",
        "Sequence 3: {solution(sequence3)}\n",
        "{sequence3}\n",
        "\n",
        "Sequence 4: {solution(sequence4)}\n",
        "{sequence4}\n",
        "\n",
        "Sequence 5: {solution(sequence5)}\n",
        "{sequence5}\n",
        "''')"
      ],
      "metadata": {
        "colab": {
          "base_uri": "https://localhost:8080/"
        },
        "id": "TWJ1srIA6ooi",
        "outputId": "2f8670d4-c731-4cb2-fc90-500f3faa9a2c"
      },
      "execution_count": 15,
      "outputs": [
        {
          "output_type": "stream",
          "name": "stdout",
          "text": [
            "\n",
            "-------------------------------------------------\n",
            "Strictly Increasing Sequences with ONLY 1 removal\n",
            "-------------------------------------------------\n",
            "\n",
            "Sequence 1: True\n",
            "[1, 2, 3, 4, 99, 5, 6]\n",
            "\n",
            "Sequence 2: True\n",
            "[3, 5, 67, 98, 3]\n",
            "\n",
            "Sequence 3: False\n",
            "[10, 1, 2, 3, 4, 5, 6, 1]\n",
            "\n",
            "Sequence 4: False\n",
            "[1, 2, 1, 2]\n",
            "\n",
            "Sequence 5: True\n",
            "[0, -2, 5, 6]\n",
            "\n"
          ]
        }
      ]
    },
    {
      "cell_type": "markdown",
      "source": [
        "## Find ALL Zero Values, and Values \"Below\" Zero Values in a Given Matrix"
      ],
      "metadata": {
        "id": "M1SlnE9rNCmi"
      }
    },
    {
      "cell_type": "markdown",
      "source": [
        "After becoming famous, the CodeBots decided to move into a new building together. Each of the rooms has a different cost, and some of them are free, but there's a rumour that all the free rooms are haunted! Since the CodeBots are quite superstitious, they refuse to stay in any of the free rooms, or any of the rooms below any of the free rooms."
      ],
      "metadata": {
        "id": "dZrUQQxBNmLG"
      }
    },
    {
      "cell_type": "code",
      "source": [
        "def solution(matrix):\n",
        "  '''\n",
        "  Returns the Count of All Values which do NOT Equal 0, and are NOT located\n",
        "  \"Below\" a Zero Value.\n",
        "  '''\n",
        "\n",
        "  # Imports \n",
        "  import numpy as np\n",
        "\n",
        "  # Set Haunted Rooms Equal to 0\n",
        "  haunted = 0\n",
        "\n",
        "  # Find Indices of Haunted Rooms\n",
        "  return np.where(matrix==5)\n",
        "\n"
      ],
      "metadata": {
        "id": "BPk79qqRNg-s"
      },
      "execution_count": 16,
      "outputs": []
    },
    {
      "cell_type": "code",
      "source": [
        "matrix = [[0, 1, 1, 2], \n",
        "          [0, 5, 0, 0], \n",
        "          [2, 0, 3, 3]]"
      ],
      "metadata": {
        "id": "abzd35QPN3p8"
      },
      "execution_count": 17,
      "outputs": []
    },
    {
      "cell_type": "code",
      "source": [
        "matrix"
      ],
      "metadata": {
        "colab": {
          "base_uri": "https://localhost:8080/"
        },
        "id": "89AiRM7mR_FC",
        "outputId": "aaaa6117-5170-4b90-e7f5-1fc1cb8cef54"
      },
      "execution_count": 18,
      "outputs": [
        {
          "output_type": "execute_result",
          "data": {
            "text/plain": [
              "[[0, 1, 1, 2], [0, 5, 0, 0], [2, 0, 3, 3]]"
            ]
          },
          "metadata": {},
          "execution_count": 18
        }
      ]
    },
    {
      "cell_type": "code",
      "source": [
        "solution(matrix)"
      ],
      "metadata": {
        "colab": {
          "base_uri": "https://localhost:8080/"
        },
        "id": "BpJRjJ0oRRCS",
        "outputId": "e3112bec-35df-4d61-ae12-3c6ece441ec4"
      },
      "execution_count": 19,
      "outputs": [
        {
          "output_type": "execute_result",
          "data": {
            "text/plain": [
              "(array([], dtype=int64),)"
            ]
          },
          "metadata": {},
          "execution_count": 19
        }
      ]
    },
    {
      "cell_type": "code",
      "source": [
        ""
      ],
      "metadata": {
        "id": "GMrX654zRUpr"
      },
      "execution_count": 19,
      "outputs": []
    },
    {
      "cell_type": "markdown",
      "source": [
        "# BloomTech Code Signal"
      ],
      "metadata": {
        "id": "kouGXkwdq8eY"
      }
    },
    {
      "cell_type": "markdown",
      "source": [
        "## Day 1"
      ],
      "metadata": {
        "id": "oTA5iTIQRWo5"
      }
    },
    {
      "cell_type": "code",
      "source": [
        "def sum2(arg1, arg2):\n",
        "    'Returns the Sum of 2 Numbers'\n",
        "    \n",
        "    return arg1 + arg2"
      ],
      "metadata": {
        "id": "vfFXbLBfRZiP"
      },
      "execution_count": 20,
      "outputs": []
    },
    {
      "cell_type": "code",
      "source": [
        "num1 = 3.14\n",
        "num2 = 42"
      ],
      "metadata": {
        "id": "k7_SrxlxRh09"
      },
      "execution_count": 21,
      "outputs": []
    },
    {
      "cell_type": "code",
      "source": [
        "print(f'The sum of {num1} and {num2} is {sum2(num1, num2)}')"
      ],
      "metadata": {
        "colab": {
          "base_uri": "https://localhost:8080/"
        },
        "id": "4nHSoJY4RldM",
        "outputId": "0d58653c-6804-4c62-c502-fd538e7b36b7"
      },
      "execution_count": 22,
      "outputs": [
        {
          "output_type": "stream",
          "name": "stdout",
          "text": [
            "The sum of 3.14 and 42 is 45.14\n"
          ]
        }
      ]
    },
    {
      "cell_type": "code",
      "source": [
        "def prod2(arg1, arg2):\n",
        "    'Returns the Product of 2 Numbers'\n",
        "    \n",
        "    return arg1 * arg2"
      ],
      "metadata": {
        "id": "5KoLrCnDRuoT"
      },
      "execution_count": 23,
      "outputs": []
    },
    {
      "cell_type": "code",
      "source": [
        "num1 = 3.14\n",
        "num2 = 42"
      ],
      "metadata": {
        "id": "5nz1PTb7R7GG"
      },
      "execution_count": 24,
      "outputs": []
    },
    {
      "cell_type": "code",
      "source": [
        "print(f'The product of {num1} and {num2} is {prod2(num1, num2)}')"
      ],
      "metadata": {
        "colab": {
          "base_uri": "https://localhost:8080/"
        },
        "id": "tEEsKMplR7v4",
        "outputId": "e05246b2-b689-46de-ebf0-319c3d733dbd"
      },
      "execution_count": 25,
      "outputs": [
        {
          "output_type": "stream",
          "name": "stdout",
          "text": [
            "The product of 3.14 and 42 is 131.88\n"
          ]
        }
      ]
    },
    {
      "cell_type": "code",
      "source": [
        "def solution(n):\n",
        "    'Returns the Solution to A Series of Operations'\n",
        "    \n",
        "    n = n + 7\n",
        "    n = n / 2\n",
        "    n = n * 5\n",
        "    \n",
        "    return n"
      ],
      "metadata": {
        "id": "alfATYZlSQzh"
      },
      "execution_count": 26,
      "outputs": []
    },
    {
      "cell_type": "code",
      "source": [
        "num1 = 3.14\n",
        "num2 = 42"
      ],
      "metadata": {
        "id": "X_yaiiQKSZVE"
      },
      "execution_count": 27,
      "outputs": []
    },
    {
      "cell_type": "code",
      "source": [
        "print(f'''\n",
        "The Solution for ({num1} + 7)/2*5 is: {solution(num1)}\n",
        "The Solution for ({num2} + 7)/2*5 is: {solution(num2)}\n",
        "''')"
      ],
      "metadata": {
        "colab": {
          "base_uri": "https://localhost:8080/"
        },
        "id": "BdsemctiSU2P",
        "outputId": "4f43a5ed-5526-4aab-fd45-035fda616ad5"
      },
      "execution_count": 28,
      "outputs": [
        {
          "output_type": "stream",
          "name": "stdout",
          "text": [
            "\n",
            "The Solution for (3.14 + 7)/2*5 is: 25.35\n",
            "The Solution for (42 + 7)/2*5 is: 122.5\n",
            "\n"
          ]
        }
      ]
    },
    {
      "cell_type": "code",
      "source": [
        "def sum_range1(n):\n",
        "    '''\n",
        "    Returns the Sum of all Values in an Inclusive Range \n",
        "    Between 1 and a Given Number\n",
        "    '''\n",
        "    \n",
        "    # Stop Number for Range\n",
        "    stop_num = n + 1\n",
        "    \n",
        "    # List of Numbers to Sum from Range\n",
        "    nums_to_sum = []\n",
        "    \n",
        "    for num in range(1, stop_num):\n",
        "        nums_to_sum.append(num)\n",
        "    \n",
        "    summed = sum(nums_to_sum)\n",
        "    \n",
        "    return summed"
      ],
      "metadata": {
        "id": "gpjgKjFGSY5u"
      },
      "execution_count": 29,
      "outputs": []
    },
    {
      "cell_type": "code",
      "source": [
        "num = 42"
      ],
      "metadata": {
        "id": "8qZcOJK-TqhU"
      },
      "execution_count": 30,
      "outputs": []
    },
    {
      "cell_type": "code",
      "source": [
        "print(f'The sum all of all numbers between 1 and {num}, inclusively is {sum_range1(num)}')"
      ],
      "metadata": {
        "colab": {
          "base_uri": "https://localhost:8080/"
        },
        "id": "LziClo9aTtQG",
        "outputId": "56c37086-bd8e-4df2-a655-4e637bbcae7a"
      },
      "execution_count": 31,
      "outputs": [
        {
          "output_type": "stream",
          "name": "stdout",
          "text": [
            "The sum all of all numbers between 1 and 42, inclusively is 903\n"
          ]
        }
      ]
    },
    {
      "cell_type": "code",
      "source": [
        "def find_equal_past_yr(given_year, current_year):\n",
        "    '''\n",
        "    Returns the Year the same distance between the Current Year\n",
        "    and a given year\n",
        "    '''\n",
        "    \n",
        "    # Calculate Number of Years Between Given Year and Current\n",
        "    # Year\n",
        "    time_btwn = current_year - given_year\n",
        "    past_year = given_year - time_btwn\n",
        "    \n",
        "    return past_year"
      ],
      "metadata": {
        "id": "fIV8ZXdtUXku"
      },
      "execution_count": 32,
      "outputs": []
    },
    {
      "cell_type": "code",
      "source": [
        "given_yr = 1994\n",
        "current_yr = 2022"
      ],
      "metadata": {
        "id": "1-SZVcn1Uf3-"
      },
      "execution_count": 33,
      "outputs": []
    },
    {
      "cell_type": "code",
      "source": [
        "print(f'''\n",
        "The amount of time passed between {given_yr} and {current_yr} is the\n",
        "same amount of time passed between {find_equal_past_yr(given_yr, current_yr)} and {given_yr}\n",
        "''')"
      ],
      "metadata": {
        "colab": {
          "base_uri": "https://localhost:8080/"
        },
        "id": "KsOMfCgvUmMo",
        "outputId": "62d2049b-51b0-4802-dd6d-3ceb619bf138"
      },
      "execution_count": 34,
      "outputs": [
        {
          "output_type": "stream",
          "name": "stdout",
          "text": [
            "\n",
            "The amount of time passed between 1994 and 2022 is the\n",
            "same amount of time passed between 1966 and 1994\n",
            "\n"
          ]
        }
      ]
    },
    {
      "cell_type": "code",
      "source": [
        "def sum_range(n, m):\n",
        "    '''\n",
        "    Returns the Sum of all Values in an Inclusive Range \n",
        "    Between 2 Given Numbers\n",
        "    '''\n",
        "    \n",
        "    # Stop Number for Range\n",
        "    stop_num = m + 1\n",
        "    \n",
        "    # List of Numbers to Sum from Range\n",
        "    nums_to_sum = []\n",
        "    \n",
        "    for num in range(n, stop_num):\n",
        "        nums_to_sum.append(num)\n",
        "    \n",
        "    summed = sum(nums_to_sum)\n",
        "    \n",
        "    return summed"
      ],
      "metadata": {
        "id": "TjMkUXY-VEjg"
      },
      "execution_count": 35,
      "outputs": []
    },
    {
      "cell_type": "code",
      "source": [
        "num1 = 42\n",
        "num2 = 1701"
      ],
      "metadata": {
        "id": "uNVi8eZhVqD4"
      },
      "execution_count": 36,
      "outputs": []
    },
    {
      "cell_type": "code",
      "source": [
        "print(f'The sum all of all numbers between {num1} and {num2}, inclusively is {sum_range(num1, num2)}')"
      ],
      "metadata": {
        "colab": {
          "base_uri": "https://localhost:8080/"
        },
        "id": "AwkfQfZFVs_b",
        "outputId": "54cf746d-7108-406a-88c0-f6c7cffbf4ff"
      },
      "execution_count": 37,
      "outputs": [
        {
          "output_type": "stream",
          "name": "stdout",
          "text": [
            "The sum all of all numbers between 42 and 1701, inclusively is 1446690\n"
          ]
        }
      ]
    },
    {
      "cell_type": "markdown",
      "source": [
        "## Day 2"
      ],
      "metadata": {
        "id": "Qz72boqtq_CK"
      }
    },
    {
      "cell_type": "markdown",
      "source": [
        "### Convertind Class Types: Strings, Floats, and Ints"
      ],
      "metadata": {
        "id": "zDofnSwV4AdR"
      }
    },
    {
      "cell_type": "code",
      "source": [
        "def str_to_int(s):\n",
        "    'Returns a String as Int'\n",
        "    \n",
        "    return int(s)"
      ],
      "metadata": {
        "id": "rG9zp8lJq-oh"
      },
      "execution_count": 38,
      "outputs": []
    },
    {
      "cell_type": "code",
      "source": [
        "string1 = '1'\n",
        "string2 = '42'\n",
        "string3 = '1701'"
      ],
      "metadata": {
        "id": "sSnvDMCUrCHN"
      },
      "execution_count": 39,
      "outputs": []
    },
    {
      "cell_type": "code",
      "source": [
        "print(f'''\n",
        "String1 - {string1}\n",
        "Type: {type(string1)}\n",
        "Converted Type: {type(str_to_int(string1))}\n",
        "\n",
        "String2 - {string2}\n",
        "Type: {type(string2)}\n",
        "Converted Type: {type(str_to_int(string2))}\n",
        "\n",
        "String3 - {string3}\n",
        "Type: {type(string3)}\n",
        "Converted Type: {type(str_to_int(string3))}\n",
        "''')"
      ],
      "metadata": {
        "colab": {
          "base_uri": "https://localhost:8080/"
        },
        "id": "5mOQw8C6rIjU",
        "outputId": "94801e3f-b66d-42b9-b689-655f194e5f3e"
      },
      "execution_count": 40,
      "outputs": [
        {
          "output_type": "stream",
          "name": "stdout",
          "text": [
            "\n",
            "String1 - 1\n",
            "Type: <class 'str'>\n",
            "Converted Type: <class 'int'>\n",
            "\n",
            "String2 - 42\n",
            "Type: <class 'str'>\n",
            "Converted Type: <class 'int'>\n",
            "\n",
            "String3 - 1701\n",
            "Type: <class 'str'>\n",
            "Converted Type: <class 'int'>\n",
            "\n"
          ]
        }
      ]
    },
    {
      "cell_type": "code",
      "source": [
        "def float_to_str(f):\n",
        "    'Takes a float, and returns a string'\n",
        "    \n",
        "    return str(f)"
      ],
      "metadata": {
        "id": "UtH10PXQrplD"
      },
      "execution_count": 41,
      "outputs": []
    },
    {
      "cell_type": "code",
      "source": [
        "float1 = 1.34\n",
        "float2 = 4.2\n",
        "float3 = 17.01"
      ],
      "metadata": {
        "id": "fJ-jvfMLr55g"
      },
      "execution_count": 42,
      "outputs": []
    },
    {
      "cell_type": "code",
      "source": [
        "print(f'''\n",
        "Float1 - {float1}\n",
        "Type: {type(float1)}\n",
        "Converted Type: {type(float_to_str(float1))}\n",
        "\n",
        "Float2 - {float2}\n",
        "Type: {type(float2)}\n",
        "Converted Type: {type(float_to_str(float2))}\n",
        "\n",
        "Float3 - {float3}\n",
        "Type: {type(float3)}\n",
        "Converted Type: {type(float_to_str(float3))}\n",
        "''')"
      ],
      "metadata": {
        "colab": {
          "base_uri": "https://localhost:8080/"
        },
        "id": "HRoFAU9jsA6W",
        "outputId": "3bfd1d04-9099-4350-ce25-4621405219e9"
      },
      "execution_count": 43,
      "outputs": [
        {
          "output_type": "stream",
          "name": "stdout",
          "text": [
            "\n",
            "Float1 - 1.34\n",
            "Type: <class 'float'>\n",
            "Converted Type: <class 'str'>\n",
            "\n",
            "Float2 - 4.2\n",
            "Type: <class 'float'>\n",
            "Converted Type: <class 'str'>\n",
            "\n",
            "Float3 - 17.01\n",
            "Type: <class 'float'>\n",
            "Converted Type: <class 'str'>\n",
            "\n"
          ]
        }
      ]
    },
    {
      "cell_type": "code",
      "source": [
        "def int_to_float(i):\n",
        "    'Takes an Int and Converts to Float'\n",
        "    \n",
        "    return float(i)"
      ],
      "metadata": {
        "id": "4pcFA2xbsQVd"
      },
      "execution_count": 44,
      "outputs": []
    },
    {
      "cell_type": "code",
      "source": [
        "int1 = 1\n",
        "int2 = 42\n",
        "int3 = 1701"
      ],
      "metadata": {
        "id": "D4q99RRcsyeQ"
      },
      "execution_count": 45,
      "outputs": []
    },
    {
      "cell_type": "code",
      "source": [
        "print(f'''\n",
        "Int1 - {int1}\n",
        "Type: {type(int1)}\n",
        "Converted Type: {type(int_to_float(int1))}\n",
        "\n",
        "Int2 - {int2}\n",
        "Type: {type(int2)}\n",
        "Converted Type: {type(int_to_float(int2))}\n",
        "\n",
        "Int1 - {int2}\n",
        "Type: {type(int2)}\n",
        "Converted Type: {type(int_to_float(int2))}\n",
        "''')"
      ],
      "metadata": {
        "colab": {
          "base_uri": "https://localhost:8080/"
        },
        "id": "I3lKoghxs2N7",
        "outputId": "5f99d829-47b7-45c9-ce1b-45c048483c16"
      },
      "execution_count": 46,
      "outputs": [
        {
          "output_type": "stream",
          "name": "stdout",
          "text": [
            "\n",
            "Int1 - 1\n",
            "Type: <class 'int'>\n",
            "Converted Type: <class 'float'>\n",
            "\n",
            "Int2 - 42\n",
            "Type: <class 'int'>\n",
            "Converted Type: <class 'float'>\n",
            "\n",
            "Int1 - 42\n",
            "Type: <class 'int'>\n",
            "Converted Type: <class 'float'>\n",
            "\n"
          ]
        }
      ]
    },
    {
      "cell_type": "code",
      "source": [
        "def rounded_float_to_str(f, places):\n",
        "    '''\n",
        "    Takes a Float, Rounds, and Converts to String\n",
        "    '''\n",
        "    \n",
        "    format_key = f'.{places}f'\n",
        "    rounded = format(f, format_key)\n",
        "\n",
        "    return rounded"
      ],
      "metadata": {
        "id": "-GtrC4C_tEoX"
      },
      "execution_count": 47,
      "outputs": []
    },
    {
      "cell_type": "code",
      "source": [
        "float1 = 1.3400\n",
        "float2 = 4.200\n",
        "float3 = 17.01000"
      ],
      "metadata": {
        "id": "GTNd1477x34n"
      },
      "execution_count": 48,
      "outputs": []
    },
    {
      "cell_type": "code",
      "source": [
        "print(f'''\n",
        "Float1 - {float1}\n",
        "Type: {type(float1)}\n",
        "Rounded: {rounded_float_to_str(float1, 3)}\n",
        "Converted Type: {type(rounded_float_to_str(float1, 3))}\n",
        "\n",
        "Float2 - {float2}\n",
        "Type: {type(float2)}\n",
        "Rounded: {rounded_float_to_str(float2, 2)}\n",
        "Converted Type: {type(rounded_float_to_str(float2, 2))}\n",
        "\n",
        "Float3 - {float3}\n",
        "Type: {type(float3)}\n",
        "Rounded: {rounded_float_to_str(float3, 4)}\n",
        "Converted Type: {type(rounded_float_to_str(float3, 4))}\n",
        "''')"
      ],
      "metadata": {
        "colab": {
          "base_uri": "https://localhost:8080/"
        },
        "id": "QvOpiDMZx7IS",
        "outputId": "eb623848-37c6-4111-e351-aa841f96d2a2"
      },
      "execution_count": 49,
      "outputs": [
        {
          "output_type": "stream",
          "name": "stdout",
          "text": [
            "\n",
            "Float1 - 1.34\n",
            "Type: <class 'float'>\n",
            "Rounded: 1.340\n",
            "Converted Type: <class 'str'>\n",
            "\n",
            "Float2 - 4.2\n",
            "Type: <class 'float'>\n",
            "Rounded: 4.20\n",
            "Converted Type: <class 'str'>\n",
            "\n",
            "Float3 - 17.01\n",
            "Type: <class 'float'>\n",
            "Rounded: 17.0100\n",
            "Converted Type: <class 'str'>\n",
            "\n"
          ]
        }
      ]
    },
    {
      "cell_type": "code",
      "source": [
        "def abs_val(x):\n",
        "    'Returns the absolute value of a number'\n",
        "    \n",
        "    return abs(x)"
      ],
      "metadata": {
        "id": "40XP9c-YycHh"
      },
      "execution_count": 50,
      "outputs": []
    },
    {
      "cell_type": "code",
      "source": [
        "num1 = -3.14\n",
        "num2 = 42\n",
        "num3 = 1701\n",
        "num4 = -1701"
      ],
      "metadata": {
        "id": "xVo1_IKBzOGh"
      },
      "execution_count": 51,
      "outputs": []
    },
    {
      "cell_type": "code",
      "source": [
        "print(f'''\n",
        "Number1: {num1}\n",
        "Absolute Value: {abs_val(num1)}\n",
        "Number2: {num2}\n",
        "Absolute Value: {abs_val(num2)}\n",
        "Number3: {num3}\n",
        "Absolute Value: {abs_val(num3)}\n",
        "Number4: {num4}\n",
        "Absolute Value: {abs_val(num4)}\n",
        "''')"
      ],
      "metadata": {
        "colab": {
          "base_uri": "https://localhost:8080/"
        },
        "id": "Um-G4XYjzVTl",
        "outputId": "a8c145f3-c098-4f08-82aa-7b94f1535c09"
      },
      "execution_count": 52,
      "outputs": [
        {
          "output_type": "stream",
          "name": "stdout",
          "text": [
            "\n",
            "Number1: -3.14\n",
            "Absolute Value: 3.14\n",
            "Number2: 42\n",
            "Absolute Value: 42\n",
            "Number3: 1701\n",
            "Absolute Value: 1701\n",
            "Number4: -1701\n",
            "Absolute Value: 1701\n",
            "\n"
          ]
        }
      ]
    },
    {
      "cell_type": "code",
      "source": [
        "def is_btwn(n):\n",
        "    'Determines if a Number is between 2 and 7, exclusive'\n",
        "    \n",
        "    if (n > 2) and (n < 7):\n",
        "        return True\n",
        "    else:\n",
        "        return False"
      ],
      "metadata": {
        "id": "71nZiU-5zlI7"
      },
      "execution_count": 53,
      "outputs": []
    },
    {
      "cell_type": "code",
      "source": [
        "num1 = 3.14\n",
        "num2 = 42\n",
        "num3 = 1701"
      ],
      "metadata": {
        "id": "sEsH-rma0PuR"
      },
      "execution_count": 54,
      "outputs": []
    },
    {
      "cell_type": "code",
      "source": [
        "print(f'''\n",
        "Number1: {num1}\n",
        "Between 2 and 7? {is_btwn(num1)}\n",
        "Number2: {num2}\n",
        "Between 2 and 7? {is_btwn(num2)}\n",
        "Number3: {num3}\n",
        "Between 2 and 7? {is_btwn(num3)}\n",
        "''')"
      ],
      "metadata": {
        "colab": {
          "base_uri": "https://localhost:8080/"
        },
        "id": "7aRdn3xC0RV5",
        "outputId": "f435dca1-e35a-46b4-e26f-7932ac15ed8a"
      },
      "execution_count": 55,
      "outputs": [
        {
          "output_type": "stream",
          "name": "stdout",
          "text": [
            "\n",
            "Number1: 3.14\n",
            "Between 2 and 7? True\n",
            "Number2: 42\n",
            "Between 2 and 7? False\n",
            "Number3: 1701\n",
            "Between 2 and 7? False\n",
            "\n"
          ]
        }
      ]
    },
    {
      "cell_type": "code",
      "source": [
        "def int_to_str(i):\n",
        "    'Returns an Integer as a String'\n",
        "    \n",
        "    return str(i)"
      ],
      "metadata": {
        "id": "BI4DWQ0W0esc"
      },
      "execution_count": 56,
      "outputs": []
    },
    {
      "cell_type": "code",
      "source": [
        "int1 = 1\n",
        "int2 = 42\n",
        "int3 = 1701"
      ],
      "metadata": {
        "id": "Zudh04G-0yoD"
      },
      "execution_count": 57,
      "outputs": []
    },
    {
      "cell_type": "code",
      "source": [
        "print(f'''\n",
        "Int1 - {int1}\n",
        "Type: {type(int1)}\n",
        "Converted Type: {type(int_to_str(int1))}\n",
        "\n",
        "Int2 - {int2}\n",
        "Type: {type(int2)}\n",
        "Converted Type: {type(int_to_str(int2))}\n",
        "\n",
        "Int3 - {int3}\n",
        "Type: {type(int3)}\n",
        "Converted Type: {type(int_to_str(int3))}\n",
        "''')"
      ],
      "metadata": {
        "colab": {
          "base_uri": "https://localhost:8080/"
        },
        "id": "Ad3OHJ2t02_m",
        "outputId": "43029f45-3632-452d-be64-57533e77724a"
      },
      "execution_count": 58,
      "outputs": [
        {
          "output_type": "stream",
          "name": "stdout",
          "text": [
            "\n",
            "Int1 - 1\n",
            "Type: <class 'int'>\n",
            "Converted Type: <class 'str'>\n",
            "\n",
            "Int2 - 42\n",
            "Type: <class 'int'>\n",
            "Converted Type: <class 'str'>\n",
            "\n",
            "Int3 - 1701\n",
            "Type: <class 'int'>\n",
            "Converted Type: <class 'str'>\n",
            "\n"
          ]
        }
      ]
    },
    {
      "cell_type": "code",
      "source": [
        "def float_to_int(f):\n",
        "    'Takes a Float and Returns an Int'\n",
        "    \n",
        "    return int(f)"
      ],
      "metadata": {
        "id": "H0tWLdpI07xa"
      },
      "execution_count": 59,
      "outputs": []
    },
    {
      "cell_type": "code",
      "source": [
        "float1 = 1.34\n",
        "float2 = 4.2\n",
        "float3 = 17.01"
      ],
      "metadata": {
        "id": "LGnhK5fC1sT0"
      },
      "execution_count": 60,
      "outputs": []
    },
    {
      "cell_type": "code",
      "source": [
        "print(f'''\n",
        "Float1 - {float1}\n",
        "Type: {type(float1)}\n",
        "Converted Type: {type(float_to_int(float1))}\n",
        "\n",
        "Float2 - {float2}\n",
        "Type: {type(float2)}\n",
        "Converted Type: {type(float_to_int(float2))}\n",
        "\n",
        "Float3 - {float3}\n",
        "Type: {type(float3)}\n",
        "Converted Type: {type(float_to_int(float3))}\n",
        "''')"
      ],
      "metadata": {
        "colab": {
          "base_uri": "https://localhost:8080/"
        },
        "id": "2IiwSGTi1s_F",
        "outputId": "4a587542-ce7a-4682-a04c-bd43f4c4ec9d"
      },
      "execution_count": 61,
      "outputs": [
        {
          "output_type": "stream",
          "name": "stdout",
          "text": [
            "\n",
            "Float1 - 1.34\n",
            "Type: <class 'float'>\n",
            "Converted Type: <class 'int'>\n",
            "\n",
            "Float2 - 4.2\n",
            "Type: <class 'float'>\n",
            "Converted Type: <class 'int'>\n",
            "\n",
            "Float3 - 17.01\n",
            "Type: <class 'float'>\n",
            "Converted Type: <class 'int'>\n",
            "\n"
          ]
        }
      ]
    },
    {
      "cell_type": "code",
      "source": [
        "def str_to_float(s):\n",
        "    'Takes a String, and Returns a Float'\n",
        "    \n",
        "    return float(s)"
      ],
      "metadata": {
        "id": "nJnndpdB12IW"
      },
      "execution_count": 62,
      "outputs": []
    },
    {
      "cell_type": "code",
      "source": [
        "string1 = '1.34'\n",
        "string2 = '4.2'\n",
        "string3 = '17.01'"
      ],
      "metadata": {
        "id": "e1Vi81Pr2CsO"
      },
      "execution_count": 63,
      "outputs": []
    },
    {
      "cell_type": "code",
      "source": [
        "print(f'''\n",
        "String1 - {string1}\n",
        "Type: {type(string1)}\n",
        "Converted Type: {type(str_to_float(string1))}\n",
        "\n",
        "String2 - {string2}\n",
        "Type: {type(string2)}\n",
        "Converted Type: {type(str_to_float(string2))}\n",
        "\n",
        "String3 - {string3}\n",
        "Type: {type(string3)}\n",
        "Converted Type: {type(str_to_float(string3))}\n",
        "''')"
      ],
      "metadata": {
        "colab": {
          "base_uri": "https://localhost:8080/"
        },
        "id": "zvmGp5mN2LvO",
        "outputId": "93cd4ad7-3312-46bf-ff0d-e77e2d66876b"
      },
      "execution_count": 64,
      "outputs": [
        {
          "output_type": "stream",
          "name": "stdout",
          "text": [
            "\n",
            "String1 - 1.34\n",
            "Type: <class 'str'>\n",
            "Converted Type: <class 'float'>\n",
            "\n",
            "String2 - 4.2\n",
            "Type: <class 'str'>\n",
            "Converted Type: <class 'float'>\n",
            "\n",
            "String3 - 17.01\n",
            "Type: <class 'str'>\n",
            "Converted Type: <class 'float'>\n",
            "\n"
          ]
        }
      ]
    },
    {
      "cell_type": "markdown",
      "source": [
        "### Operators"
      ],
      "metadata": {
        "id": "REhSUvTX4HzV"
      }
    },
    {
      "cell_type": "code",
      "source": [
        "def divide(numerator, denominator):\n",
        "    '''\n",
        "    Divides a Numerator by a Denominator; 0 Denominators will\n",
        "    return as 0 \n",
        "    '''\n",
        "    \n",
        "    # Check Denominator =/= 0\n",
        "    if denominator == 0:\n",
        "        return 0\n",
        "    else:\n",
        "        return numerator / denominator"
      ],
      "metadata": {
        "id": "mJSJP6-_2Zzj"
      },
      "execution_count": 65,
      "outputs": []
    },
    {
      "cell_type": "code",
      "source": [
        "num1 = 1701\n",
        "num2 = 42\n",
        "denom1 = 3.14\n",
        "denom2 = 0"
      ],
      "metadata": {
        "id": "PwiGRYJ927hF"
      },
      "execution_count": 66,
      "outputs": []
    },
    {
      "cell_type": "code",
      "source": [
        "print(f'''\n",
        "Numerator1: {num1}\n",
        "Denominator1: {denom1}\n",
        "Result: {divide(num1, denom1)}\n",
        "\n",
        "Numerator2: {num2}\n",
        "Denominator2: {denom2}\n",
        "Result: {divide(num2, denom2)}\n",
        "\n",
        "Numerator1: {num1}\n",
        "Denominator2: {denom2}\n",
        "Result: {divide(num1, denom2)}\n",
        "\n",
        "Numerator2: {num2}\n",
        "Denominator2: {denom1}\n",
        "Result: {divide(num2, denom1)}\n",
        "''')"
      ],
      "metadata": {
        "colab": {
          "base_uri": "https://localhost:8080/"
        },
        "id": "IMzPhf013N4N",
        "outputId": "fd5dd70b-3633-4a03-c09f-0f83a1dde95f"
      },
      "execution_count": 67,
      "outputs": [
        {
          "output_type": "stream",
          "name": "stdout",
          "text": [
            "\n",
            "Numerator1: 1701\n",
            "Denominator1: 3.14\n",
            "Result: 541.7197452229299\n",
            "\n",
            "Numerator2: 42\n",
            "Denominator2: 0\n",
            "Result: 0\n",
            "\n",
            "Numerator1: 1701\n",
            "Denominator2: 0\n",
            "Result: 0\n",
            "\n",
            "Numerator2: 42\n",
            "Denominator2: 3.14\n",
            "Result: 13.375796178343949\n",
            "\n"
          ]
        }
      ]
    },
    {
      "cell_type": "code",
      "source": [
        "def calc_larger_num(a, b):\n",
        "    'Returns the larger of two numbers'\n",
        "    \n",
        "    if a > b:\n",
        "        return a\n",
        "    else:\n",
        "        return b"
      ],
      "metadata": {
        "id": "EZ-k47vQ3woq"
      },
      "execution_count": 68,
      "outputs": []
    },
    {
      "cell_type": "code",
      "source": [
        "num1 = 1701\n",
        "num2 = 42\n",
        "num3 = 3.14"
      ],
      "metadata": {
        "id": "8q920hOp4Y1D"
      },
      "execution_count": 69,
      "outputs": []
    },
    {
      "cell_type": "code",
      "source": [
        "print(f'''\n",
        "Number1: {num1}\n",
        "Number2: {num2}\n",
        "Larger: {calc_larger_num(num1, num2)}\n",
        "\n",
        "Number1: {num1}\n",
        "Number3: {num3}\n",
        "Larger: {calc_larger_num(num1, num3)}\n",
        "\n",
        "Number2: {num2}\n",
        "Number3: {num3}\n",
        "Larger: {calc_larger_num(num2, num3)}\n",
        "''')"
      ],
      "metadata": {
        "colab": {
          "base_uri": "https://localhost:8080/"
        },
        "id": "-Nz7973Q4dBn",
        "outputId": "263db32b-0b56-4118-c523-910f4bfd26d7"
      },
      "execution_count": 70,
      "outputs": [
        {
          "output_type": "stream",
          "name": "stdout",
          "text": [
            "\n",
            "Number1: 1701\n",
            "Number2: 42\n",
            "Larger: 1701\n",
            "\n",
            "Number1: 1701\n",
            "Number3: 3.14\n",
            "Larger: 1701\n",
            "\n",
            "Number2: 42\n",
            "Number3: 3.14\n",
            "Larger: 42\n",
            "\n"
          ]
        }
      ]
    },
    {
      "cell_type": "code",
      "source": [
        "def lexigraphically_larger(a, b):\n",
        "    'Returns the Larger of two Characters in  Lexographical Order'\n",
        "    \n",
        "    # Store Inputs in a List\n",
        "    li = [a, b]\n",
        "    # Sort\n",
        "    li = sorted(li)\n",
        "    \n",
        "    return li[-1]"
      ],
      "metadata": {
        "id": "VMmmm8hj47Jg"
      },
      "execution_count": 71,
      "outputs": []
    },
    {
      "cell_type": "code",
      "source": [
        "char1 = 'b'\n",
        "char2 = 'd'\n",
        "char3 = 'x'"
      ],
      "metadata": {
        "id": "xjDeh8585uQr"
      },
      "execution_count": 72,
      "outputs": []
    },
    {
      "cell_type": "code",
      "source": [
        "print(f'''\n",
        "Character1: {char1}\n",
        "Character2: {char2}\n",
        "Larger: {lexigraphically_larger(char1, char2)}\n",
        "\n",
        "Character2: {char2}\n",
        "Character3: {char3}\n",
        "Larger: {lexigraphically_larger(char2, char3)}\n",
        "\n",
        "Character1: {char1}\n",
        "Character3: {char3}\n",
        "Larger: {lexigraphically_larger(char1, char3)}\n",
        "''')"
      ],
      "metadata": {
        "colab": {
          "base_uri": "https://localhost:8080/"
        },
        "id": "lQ4WZIQu5-1R",
        "outputId": "3fc83553-1489-4e93-d6a5-cce0191bc890"
      },
      "execution_count": 73,
      "outputs": [
        {
          "output_type": "stream",
          "name": "stdout",
          "text": [
            "\n",
            "Character1: b\n",
            "Character2: d\n",
            "Larger: d\n",
            "\n",
            "Character2: d\n",
            "Character3: x\n",
            "Larger: x\n",
            "\n",
            "Character1: b\n",
            "Character3: x\n",
            "Larger: x\n",
            "\n"
          ]
        }
      ]
    },
    {
      "cell_type": "code",
      "source": [
        "def num_to_kw(n):\n",
        "    'Analyzes Number Input and Returns Keyword'\n",
        "    \n",
        "    # Ensure Entry is float to account for string input decimals\n",
        "    float(n)\n",
        "    \n",
        "    # If 0 Return None\n",
        "    if n == 0:\n",
        "        return 'none'\n",
        "    # If n Rounds to 1, return One\n",
        "    elif (n >= 0.5) and (n < 1.5):\n",
        "        return 'one'\n",
        "    # If n Rounds to 2, return Two\n",
        "    elif (n >= 1.5) and (n < 2.5):\n",
        "        return 'two'\n",
        "    # All Else Return Some\n",
        "    else:\n",
        "        return 'some'"
      ],
      "metadata": {
        "id": "mR-xdHnG6QJI"
      },
      "execution_count": 74,
      "outputs": []
    },
    {
      "cell_type": "code",
      "source": [
        "num1 = 0\n",
        "num2 = .75\n",
        "num3 = 1.75\n",
        "num4 = 3.14"
      ],
      "metadata": {
        "id": "pbJ2p2bg7bnF"
      },
      "execution_count": 75,
      "outputs": []
    },
    {
      "cell_type": "code",
      "source": [
        "print(f'''\n",
        "Number: {num1}\n",
        "Result: {num_to_kw(num1)}\n",
        "\n",
        "Number: {num2}\n",
        "Result: {num_to_kw(num2)}\n",
        "\n",
        "Number: {num3}\n",
        "Result: {num_to_kw(num3)}\n",
        "\n",
        "Number: {num4}\n",
        "Result: {num_to_kw(num4)}\n",
        "''')"
      ],
      "metadata": {
        "colab": {
          "base_uri": "https://localhost:8080/"
        },
        "id": "hWWX6CpV7xHx",
        "outputId": "2971baf0-12f2-4532-f726-4a9044c97ae2"
      },
      "execution_count": 76,
      "outputs": [
        {
          "output_type": "stream",
          "name": "stdout",
          "text": [
            "\n",
            "Number: 0\n",
            "Result: none\n",
            "\n",
            "Number: 0.75\n",
            "Result: one\n",
            "\n",
            "Number: 1.75\n",
            "Result: two\n",
            "\n",
            "Number: 3.14\n",
            "Result: some\n",
            "\n"
          ]
        }
      ]
    },
    {
      "cell_type": "code",
      "source": [
        "def return_largest_3(a, b, c):\n",
        "    'Return the Larger of 3 Numbers'\n",
        "    \n",
        "    # Save Inputs to List\n",
        "    num_li = [a, b, c]\n",
        "    # Sort\n",
        "    num_li = sorted(num_li)\n",
        "    \n",
        "    return num_li[-1]"
      ],
      "metadata": {
        "id": "VVlT2QdF8AVt"
      },
      "execution_count": 77,
      "outputs": []
    },
    {
      "cell_type": "code",
      "source": [
        "num1 = 3.14\n",
        "num2 = 42\n",
        "num3 = 1701"
      ],
      "metadata": {
        "id": "c7ObFlQP8VEn"
      },
      "execution_count": 78,
      "outputs": []
    },
    {
      "cell_type": "code",
      "source": [
        "print(f'''\n",
        "The Largest Number of {num2}, {num3}, and {num1} is: {return_largest_3(num1, num2, num3)}\n",
        "''')"
      ],
      "metadata": {
        "colab": {
          "base_uri": "https://localhost:8080/"
        },
        "id": "J3j_YYR-8YkB",
        "outputId": "08e59ef8-67ca-4a80-910d-1a5ed074082e"
      },
      "execution_count": 79,
      "outputs": [
        {
          "output_type": "stream",
          "name": "stdout",
          "text": [
            "\n",
            "The Largest Number of 42, 1701, and 3.14 is: 1701\n",
            "\n"
          ]
        }
      ]
    },
    {
      "cell_type": "code",
      "source": [
        "def return_largest_6(a, b, c, d, e, f):\n",
        "    'Return the Larger of 6 Numbers'\n",
        "    \n",
        "    # Save Inputs to List\n",
        "    num_li = [a, b, c, d, e, f]\n",
        "    # Sort\n",
        "    num_li = sorted(num_li)\n",
        "    \n",
        "    return num_li[-1]"
      ],
      "metadata": {
        "id": "yr3cEgEI8mT1"
      },
      "execution_count": 80,
      "outputs": []
    },
    {
      "cell_type": "code",
      "source": [
        "num1 = 0\n",
        "num2 = 3.14\n",
        "num3 = 42\n",
        "num4 = 217\n",
        "num5 = 1433\n",
        "num6 = 1701"
      ],
      "metadata": {
        "id": "GqwMr8QM855c"
      },
      "execution_count": 81,
      "outputs": []
    },
    {
      "cell_type": "code",
      "source": [
        "print(f'''\n",
        "Numers: {num2}, {num4}, {num5}, {num1}, {num3}, {num6}\n",
        "Largest: {return_largest_6(num1, num2, num3, num4, num5, num6)}\n",
        "''')"
      ],
      "metadata": {
        "colab": {
          "base_uri": "https://localhost:8080/"
        },
        "id": "DM85Z30T9Hzh",
        "outputId": "4b18eb45-2f8d-47fd-f229-6958ffaf6035"
      },
      "execution_count": 82,
      "outputs": [
        {
          "output_type": "stream",
          "name": "stdout",
          "text": [
            "\n",
            "Numers: 3.14, 217, 1433, 0, 42, 1701\n",
            "Largest: 1701\n",
            "\n"
          ]
        }
      ]
    },
    {
      "cell_type": "code",
      "source": [
        "def eval_tests_3(a, b, c):\n",
        "    '''\n",
        "    Evalutes a Number with Three Tests and returns a \n",
        "    Pass(OK) or Fail(NOK) Result\n",
        "    '''\n",
        "    \n",
        "    if (\n",
        "        (a > b) and\n",
        "        (b <= c) and\n",
        "        (\n",
        "            ((a * 3) > c) or\n",
        "            (c <= a)\n",
        "        )\n",
        "    ):\n",
        "        return \"OK\"\n",
        "    else:\n",
        "        return \"NOK\""
      ],
      "metadata": {
        "id": "7flC4eY49bcr"
      },
      "execution_count": 83,
      "outputs": []
    },
    {
      "cell_type": "code",
      "source": [
        "num1 = 42\n",
        "num2 = 3.14\n",
        "num3 = 1701\n",
        "num4 = 130\n",
        "num5 = -91\n",
        "num6 = 215"
      ],
      "metadata": {
        "id": "iSZkH2N2-sJ-"
      },
      "execution_count": 84,
      "outputs": []
    },
    {
      "cell_type": "code",
      "source": [
        "print(f'''\n",
        "Evalute: a = {num1}, b = {num2}, c = {num3}\n",
        "Result: {eval_tests_3(num1, num2, num3)}\n",
        "\n",
        "Evalute: a = {num4}, b = {num5}, c = {num6}\n",
        "Result: {eval_tests_3(num4, num5, num6)}\n",
        "''')"
      ],
      "metadata": {
        "colab": {
          "base_uri": "https://localhost:8080/"
        },
        "id": "dJIesuLI-z1D",
        "outputId": "a78240f3-cf3f-42d9-af94-7f7bc6a078d8"
      },
      "execution_count": 85,
      "outputs": [
        {
          "output_type": "stream",
          "name": "stdout",
          "text": [
            "\n",
            "Evalute: a = 42, b = 3.14, c = 1701\n",
            "Result: NOK\n",
            "\n",
            "Evalute: a = 130, b = -91, c = 215\n",
            "Result: OK\n",
            "\n"
          ]
        }
      ]
    },
    {
      "cell_type": "code",
      "source": [
        "def od_protect(amount, balance):\n",
        "    '''\n",
        "    Evaluates Bank Balance to Determine if Withdrawals are Valid.\n",
        "    If Valid: Returns New Balance\n",
        "    If Not (Overdrafts): Returns -1\n",
        "    '''\n",
        "    \n",
        "    # Run Transaction\n",
        "    new_balance = balance - amount\n",
        "    \n",
        "    # Evaluate\n",
        "    if new_balance < 0:\n",
        "        return -1\n",
        "    else:\n",
        "        return new_balance"
      ],
      "metadata": {
        "id": "Et3OdNEu_I0E"
      },
      "execution_count": 86,
      "outputs": []
    },
    {
      "cell_type": "code",
      "source": [
        "num1 = 42\n",
        "num2 = 3.14\n",
        "num3 = 1701"
      ],
      "metadata": {
        "id": "3IlF_4CrAI2p"
      },
      "execution_count": 87,
      "outputs": []
    },
    {
      "cell_type": "code",
      "source": [
        "print(f'''\n",
        "Transaction 1\n",
        "-------------------------\n",
        "Account Balance: {num1}\n",
        "Withdrawal Amount: -{num2}\n",
        "Current Balance: {od_protect(num1, num2)}\n",
        "  If -1, Transaction Failed\n",
        "\n",
        "Transaction 2\n",
        "-------------------------\n",
        "Account Balance: {num2}\n",
        "Withdrawal Amount: -{num3}\n",
        "Current Balance: {od_protect(num2, num3)}\n",
        "  If -1, Transaction Failed\n",
        "\n",
        "Transaction 3\n",
        "-------------------------\n",
        "Account Balance: {num3}\n",
        "Withdrawal Amount: -{num1}\n",
        "Current Balance: {od_protect(num3, num1)}\n",
        "  If -1, Transaction Failed\n",
        "''')"
      ],
      "metadata": {
        "colab": {
          "base_uri": "https://localhost:8080/"
        },
        "id": "Dxr3xEL2ANon",
        "outputId": "5bc0aa87-7f6a-4821-bf87-cb35b2b45202"
      },
      "execution_count": 88,
      "outputs": [
        {
          "output_type": "stream",
          "name": "stdout",
          "text": [
            "\n",
            "Transaction 1\n",
            "-------------------------\n",
            "Account Balance: 42\n",
            "Withdrawal Amount: -3.14\n",
            "Current Balance: -1\n",
            "  If -1, Transaction Failed\n",
            "\n",
            "Transaction 2\n",
            "-------------------------\n",
            "Account Balance: 3.14\n",
            "Withdrawal Amount: -1701\n",
            "Current Balance: 1697.86\n",
            "  If -1, Transaction Failed\n",
            "\n",
            "Transaction 3\n",
            "-------------------------\n",
            "Account Balance: 1701\n",
            "Withdrawal Amount: -42\n",
            "Current Balance: -1\n",
            "  If -1, Transaction Failed\n",
            "\n"
          ]
        }
      ]
    },
    {
      "cell_type": "markdown",
      "source": [
        "## Day 3"
      ],
      "metadata": {
        "id": "WgQbmb0VBSXk"
      }
    },
    {
      "cell_type": "code",
      "source": [
        "def factorial(n):\n",
        "    '''\n",
        "    Computes the Factorial is of the Absolute Value of an Integer\n",
        "    '''\n",
        "    \n",
        "    num = abs(n)\n",
        "    fact = 1\n",
        "        \n",
        "    if (num == 0) or (num == 1):\n",
        "        fact = 1\n",
        "    else:\n",
        "        for i in range(2, int(num + 1)):\n",
        "            fact *= i \n",
        "        \n",
        "    return fact"
      ],
      "metadata": {
        "id": "BP9CURQiBTU4"
      },
      "execution_count": 89,
      "outputs": []
    },
    {
      "cell_type": "code",
      "source": [
        "num1 = 3.14\n",
        "num2 = 42\n",
        "num3 = 1701"
      ],
      "metadata": {
        "id": "6ESVu-0E6jgL"
      },
      "execution_count": 90,
      "outputs": []
    },
    {
      "cell_type": "code",
      "source": [
        "print(f'''\n",
        "The Factorial of {num1} is {factorial(num1)}.\n",
        "The Factorial of {num2} is {factorial(num2)}.\n",
        "The Factorial of {num3} is {factorial(num3)}.\n",
        "''')"
      ],
      "metadata": {
        "colab": {
          "base_uri": "https://localhost:8080/"
        },
        "id": "5Cm5Oufl6qXe",
        "outputId": "19c87cc2-13a0-4d9e-9158-9a7c953cc338"
      },
      "execution_count": 91,
      "outputs": [
        {
          "output_type": "stream",
          "name": "stdout",
          "text": [
            "\n",
            "The Factorial of 3.14 is 6.\n",
            "The Factorial of 42 is 1405006117752879898543142606244511569936384000000000.\n",
            "The Factorial of 1701 is 5100198802654869179086624027745507495205141616734700802358003958599469552062774532400112810986339542987829574585586952412752662229913936856005150261207876974968392613013872390397111108225897608045787538112740556177599591297019995412019187092063396967620321073129322681945883817792633017668424240685201661215817985671857643796692243770110959603596284487475249289893020792271447939171164011600451235134769988723419047819700262428834329262919287060643869526986476402090917213792281954137503100442725673518498192040956767002134849203823145434191828223897681122341704440301281245784896666673332467685847552275233672700897793872508543991037940286618985931699450456361213443359450792348863871531139796304637077460526755809304264465787922384433164552300676396854447279772742890668198551599965915660243071356315501902882848952922036387796466323319705447499971017111477766572193415333982404464137752526666668547644666443128065627727117695546501586428076574330208192254908646153005458729692983015162632817826308500830252518256647893898911552573663457430266840097091623875985217837911219093951162697202454190689189771433069663889868271737877118355382202332302981877619625701757935844352555318900773409352508413165982848340096341807357349481334763857418401436796999702259188863191766583803118403006444484460820940450255280867353614355896430333469445261967372129455662470910001937158513714671319946733636811144753557662166584734642129876969435005976703081388846569625455736639320428092506969598302458927916720964240662608186245917160179518039777990170857220697435795661986407536353845877769388251880844295191608494849114375479481066852223591002381726395957496128675899214711464687693826702335949927148012753892582625806519190799277101418398102945869655800553112831128825535095291757116935068334158291601084051749571699970207808689233609550589963895415588946670448878742950432446105159034380067346713209966070910275110410658058042622088323795518024326563471236851525818334576484133534560794243136571533690129940332899430406484896724417181245723375128374648687703706490973255257416946947046241667407154527205494507975910041046205692661016503495682878351194481736689501116994438465604280052815954610129445029838078033205888373156396202707251416553977793195376621874748708315793920812459625131246269731162076180996764472460280551566283062234186253109315551235459989574672487154862148678656171658370627111747480215053070472269015001675205455848248780949307525095967470158671354727905323725284947228213860874472308954325021349920311588014495495397545503751053013036373682864446030019745002299309956694901133813864537153410555238072185901521270845814604145205927803127988382657741955916091851501070216919857921792189518274813475478264828597946844971013365320185004827980837845482573564550108861618616568350020443533529542867392085676204586219725411100865302773758919636143154527184254963575131606989298144576465915661677907061177068657285521439457850539739675446108714997455856973693032498081038780292177338732776860872536314031313292175434795973238507531107171900826280609535531884948467461595994458931163284094435361842166053563445865946396880769066580379452930834969557760104582345018532275761212835453069870465512040199234617255763405659341420573067715553792567736987566336904276962972843072581508285353014494303440466537510392253613970146561628801236410096702471365724200065942424091893051778465898503070420030950723307320722995192787786864054085401734087140629709560721048646143799486686066741238430682879289885909179843666360549708348788673189055535725156016118041034279584130131158992983305403846014536001734105346878183152892288984250341365488490323058028302033852417664843865338202127307427639256509678474169569581791139348139819597914161273819759708415033448915070052078588141414265368504431421008731844117858856420062803953863032187145488270821980785166878584437971446464939889352218410112517345206729022078952738326971078196999216053483382236540795998982307443877258151900390069184034271217020962191370722212975596473882777375822008062592311649855623990826006512465246634027744031073125733401174766709074432166231472241703170290813957539685217855171812054021313900733798537851359870464924414248558694124338709040639607786814833638099653468228644114906438820452887745253649415591404403586502793968869275458101659186693318392803550945685291401216000000000000000000000000000000000000000000000000000000000000000000000000000000000000000000000000000000000000000000000000000000000000000000000000000000000000000000000000000000000000000000000000000000000000000000000000000000000000000000000000000000000000000000000000000000000000000000000000000000000000000000000000000000000000000000000000000000000000000000000000000000000000000000000000000000000000000000000000000000000000000.\n",
            "\n"
          ]
        }
      ]
    },
    {
      "cell_type": "code",
      "source": [
        "def prod_of_range(a, b):\n",
        "    'Finds the products for all numbers from a to b, inclusive'\n",
        "    \n",
        "    # Determine which Number is Larger for the Min and Max Range\n",
        "    if a > b:\n",
        "        lg_num = a\n",
        "        sm_num = b\n",
        "    else:\n",
        "        lg_num = b\n",
        "        sm_num = a\n",
        "            \n",
        "    # Set the Stop Number for the Number Range\n",
        "    stop_num = lg_num + 1\n",
        "    \n",
        "    # Store Range of Numbers in a List\n",
        "    num_list = []\n",
        "    for i in range(sm_num, stop_num):\n",
        "        num_list.append(i)\n",
        "    \n",
        "    # Set Base Value to 1\n",
        "    product = 1\n",
        "    for num in num_list:\n",
        "        product *= num\n",
        "    \n",
        "    return product"
      ],
      "metadata": {
        "id": "AAze5dLl8dhg"
      },
      "execution_count": 92,
      "outputs": []
    },
    {
      "cell_type": "code",
      "source": [
        "num1 = 3\n",
        "num2 = 42"
      ],
      "metadata": {
        "id": "nkTfCIK0Y9gb"
      },
      "execution_count": 93,
      "outputs": []
    },
    {
      "cell_type": "code",
      "source": [
        "print(f'''\n",
        "The product of all numbers between {num1} and {num2}, inclusively is \n",
        "{prod_of_range(num1, num2)}\n",
        "''')"
      ],
      "metadata": {
        "colab": {
          "base_uri": "https://localhost:8080/"
        },
        "id": "MPRVhmWpZBpv",
        "outputId": "afafd158-4348-4855-f3d9-e15f8e1259a4"
      },
      "execution_count": 94,
      "outputs": [
        {
          "output_type": "stream",
          "name": "stdout",
          "text": [
            "\n",
            "The product of all numbers between 3 and 42, inclusively is \n",
            "702503058876439949271571303122255784968192000000000\n",
            "\n"
          ]
        }
      ]
    },
    {
      "cell_type": "code",
      "source": [
        "def str_len(s):\n",
        "    'Returns the Length of a String'\n",
        "    \n",
        "    return len(s)"
      ],
      "metadata": {
        "id": "oEL6A4D5Afxv"
      },
      "execution_count": 95,
      "outputs": []
    },
    {
      "cell_type": "code",
      "source": [
        "string1 = 'tacocat'\n",
        "string2 = 'Live long and prosper'"
      ],
      "metadata": {
        "id": "Q4TjEF47Digq"
      },
      "execution_count": 96,
      "outputs": []
    },
    {
      "cell_type": "code",
      "source": [
        "print(f'''\n",
        "The length of \"{string1}\" is {str_len(string1)}.\n",
        "The length of \"{string2}\" is {str_len(string2)}.\n",
        "''')"
      ],
      "metadata": {
        "colab": {
          "base_uri": "https://localhost:8080/"
        },
        "id": "AEl_qoBnDpdY",
        "outputId": "927205b8-5efe-4360-f8c3-eeabed230b88"
      },
      "execution_count": 97,
      "outputs": [
        {
          "output_type": "stream",
          "name": "stdout",
          "text": [
            "\n",
            "The length of \"tacocat\" is 7.\n",
            "The length of \"Live long and prosper\" is 21.\n",
            "\n"
          ]
        }
      ]
    },
    {
      "cell_type": "code",
      "source": [
        "def char_at_idx(s, n):\n",
        "    'Return the Character at a Given Index(n) in a String'\n",
        "    \n",
        "    # Check String is not Empty\n",
        "    if len(s) < 1:\n",
        "        return 'none'\n",
        "    # Check N is not Greater than String Length\n",
        "    elif (n >= len(s)) or (n < 0):\n",
        "        return 'none'\n",
        "    # Return Index\n",
        "    else:\n",
        "        return s[n]"
      ],
      "metadata": {
        "id": "vi7zMyueDxOJ"
      },
      "execution_count": 98,
      "outputs": []
    },
    {
      "cell_type": "code",
      "source": [
        "string1 = 'tacocat'\n",
        "string2 = 'Live long and prosper'\n",
        "num1 = 42\n",
        "num2 = 17"
      ],
      "metadata": {
        "id": "-B7kxFwPD8dk"
      },
      "execution_count": 99,
      "outputs": []
    },
    {
      "cell_type": "code",
      "source": [
        "print(f'''\n",
        "The letter at index {num1} in \"{string1}\" is \"{char_at_idx(string1, num1)}\".\n",
        "The letter at index {num2} in \"{string2}\" is \"{char_at_idx(string2, num2)}\".\n",
        "''')"
      ],
      "metadata": {
        "colab": {
          "base_uri": "https://localhost:8080/"
        },
        "id": "yQDFK_ruEGWg",
        "outputId": "41cf602d-0878-41d3-b1a9-f7f205535407"
      },
      "execution_count": 100,
      "outputs": [
        {
          "output_type": "stream",
          "name": "stdout",
          "text": [
            "\n",
            "The letter at index 42 in \"tacocat\" is \"none\".\n",
            "The letter at index 17 in \"Live long and prosper\" is \"s\".\n",
            "\n"
          ]
        }
      ]
    },
    {
      "cell_type": "code",
      "source": [
        "def upper_str(s):\n",
        "    'Returns a Given String as Uppercase'\n",
        "    \n",
        "    return s.upper()"
      ],
      "metadata": {
        "id": "UjpxPvGWEffe"
      },
      "execution_count": 101,
      "outputs": []
    },
    {
      "cell_type": "code",
      "source": [
        "string1 = 'tacocat'\n",
        "string2 = 'Live long and prosper'"
      ],
      "metadata": {
        "id": "0xsNzx_VEwWe"
      },
      "execution_count": 102,
      "outputs": []
    },
    {
      "cell_type": "code",
      "source": [
        "print(f'''\n",
        "Initial String: {string1}\n",
        "Uppercase String: {upper_str(string1)}\n",
        "\n",
        "Initial String: {string2}\n",
        "Uppercase String: {upper_str(string2)}\n",
        "''')"
      ],
      "metadata": {
        "colab": {
          "base_uri": "https://localhost:8080/"
        },
        "id": "WY_cp6CqExgJ",
        "outputId": "efc8c1b4-a62d-41ea-9010-7f068df110f7"
      },
      "execution_count": 103,
      "outputs": [
        {
          "output_type": "stream",
          "name": "stdout",
          "text": [
            "\n",
            "Initial String: tacocat\n",
            "Uppercase String: TACOCAT\n",
            "\n",
            "Initial String: Live long and prosper\n",
            "Uppercase String: LIVE LONG AND PROSPER\n",
            "\n"
          ]
        }
      ]
    },
    {
      "cell_type": "code",
      "source": [
        "def is_lower(s):\n",
        "    'Returns True if String is Lower'\n",
        "    \n",
        "    if s == s.lower():\n",
        "        return True\n",
        "    else:\n",
        "        return False"
      ],
      "metadata": {
        "id": "uuemJchDFCFV"
      },
      "execution_count": 104,
      "outputs": []
    },
    {
      "cell_type": "code",
      "source": [
        "string1 = 'tacocat'\n",
        "string2 = 'Live long and prosper'"
      ],
      "metadata": {
        "id": "hZT0_l9RFbJi"
      },
      "execution_count": 105,
      "outputs": []
    },
    {
      "cell_type": "code",
      "source": [
        "print(f'''\n",
        "Initial String: {string1}\n",
        "String is Lowercase: {is_lower(string1)}\n",
        "\n",
        "Initial String: {string2}\n",
        "String is Lowercase: {is_lower(string2)}\n",
        "''')"
      ],
      "metadata": {
        "colab": {
          "base_uri": "https://localhost:8080/"
        },
        "id": "j2sk7B9pFdNZ",
        "outputId": "5c65896e-def6-4be1-ac26-aca784828c87"
      },
      "execution_count": 106,
      "outputs": [
        {
          "output_type": "stream",
          "name": "stdout",
          "text": [
            "\n",
            "Initial String: tacocat\n",
            "String is Lowercase: True\n",
            "\n",
            "Initial String: Live long and prosper\n",
            "String is Lowercase: False\n",
            "\n"
          ]
        }
      ]
    },
    {
      "cell_type": "code",
      "source": [
        "def count_letter(s, letter):\n",
        "    'Returns the Number of Occurrences of a Letter in a String'\n",
        "    \n",
        "    letter_list = []\n",
        "    \n",
        "    for char in s:\n",
        "        if char == letter:\n",
        "            letter_list.append(char)\n",
        "            \n",
        "    return len(letter_list)"
      ],
      "metadata": {
        "id": "NidBtTOPFi9N"
      },
      "execution_count": 107,
      "outputs": []
    },
    {
      "cell_type": "code",
      "source": [
        "string1 = 'tacocat'\n",
        "string2 = 'Live long and prosper'"
      ],
      "metadata": {
        "id": "DMw-z7aWGrkb"
      },
      "execution_count": 108,
      "outputs": []
    },
    {
      "cell_type": "code",
      "source": [
        "print(f'''\n",
        "The letter \"t\" appears {count_letter(string1, 't')} times in {string1}.\n",
        "The letter \"t\" appears {count_letter(string2, 't')} times in {string2}.\n",
        "''')"
      ],
      "metadata": {
        "colab": {
          "base_uri": "https://localhost:8080/"
        },
        "id": "87HxqUiCGs5U",
        "outputId": "23a6a5a9-4909-46f9-d113-ed45ccdd9601"
      },
      "execution_count": 109,
      "outputs": [
        {
          "output_type": "stream",
          "name": "stdout",
          "text": [
            "\n",
            "The letter \"t\" appears 2 times in tacocat.\n",
            "The letter \"t\" appears 0 times in Live long and prosper.\n",
            "\n"
          ]
        }
      ]
    },
    {
      "cell_type": "code",
      "source": [
        "def count_digits(n):\n",
        "    'Returns the Number of Digits in a Number'\n",
        "    \n",
        "    # Convert to String\n",
        "    num_string = str(n)\n",
        "    \n",
        "    # Remove Non Numerics\n",
        "    num_list = []\n",
        "    \n",
        "    for char in num_string:\n",
        "        if char.isnumeric():\n",
        "            num_list.append(char)\n",
        "            \n",
        "    return len(num_list)"
      ],
      "metadata": {
        "id": "MLl6Vm2FG3Ws"
      },
      "execution_count": 110,
      "outputs": []
    },
    {
      "cell_type": "code",
      "source": [
        "num1 = 3.14\n",
        "num2 = 42\n",
        "num3 = -1701"
      ],
      "metadata": {
        "id": "XAT5Rm99INs7"
      },
      "execution_count": 111,
      "outputs": []
    },
    {
      "cell_type": "code",
      "source": [
        "print(f'''\n",
        "The number of digits in {num1} is {count_digits(num1)}.\n",
        "The number of digits in {num2} is {count_digits(num2)}.\n",
        "The number of digits in {num3} is {count_digits(num3)}.\n",
        "''')"
      ],
      "metadata": {
        "colab": {
          "base_uri": "https://localhost:8080/"
        },
        "id": "mR6h5deYISn4",
        "outputId": "5dbc9da3-ef32-4d3f-d64e-a5ab3c147910"
      },
      "execution_count": 112,
      "outputs": [
        {
          "output_type": "stream",
          "name": "stdout",
          "text": [
            "\n",
            "The number of digits in 3.14 is 3.\n",
            "The number of digits in 42 is 2.\n",
            "The number of digits in -1701 is 4.\n",
            "\n"
          ]
        }
      ]
    },
    {
      "cell_type": "code",
      "source": [
        "def find_last_idx(s):\n",
        "    '''\n",
        "    Returns the Index of the Last Character in a String.\n",
        "    If empty string, returns -1.\n",
        "    '''\n",
        "    \n",
        "    if len(s) == 0:\n",
        "        return -1\n",
        "    else:\n",
        "        return (len(s)-1)"
      ],
      "metadata": {
        "id": "s1S_l9b5Ia7P"
      },
      "execution_count": 113,
      "outputs": []
    },
    {
      "cell_type": "code",
      "source": [
        "string1 = 'tacocat'\n",
        "string2 = 'Live long and prosper'\n",
        "string3 = ''"
      ],
      "metadata": {
        "id": "sGGe4UVII63L"
      },
      "execution_count": 114,
      "outputs": []
    },
    {
      "cell_type": "code",
      "source": [
        "print(f'''\n",
        "Index of the Last Chracter in Each String. If the String is Empty Index = -1.\n",
        "\n",
        "{string1}: {find_last_idx(string1)}\n",
        "{string2}: {find_last_idx(string2)}\n",
        "{string3}: {find_last_idx(string3)}\n",
        "''')"
      ],
      "metadata": {
        "colab": {
          "base_uri": "https://localhost:8080/"
        },
        "id": "evPshcsgI-C1",
        "outputId": "0c750525-ee7d-49bd-8539-dd2394a8a17a"
      },
      "execution_count": 115,
      "outputs": [
        {
          "output_type": "stream",
          "name": "stdout",
          "text": [
            "\n",
            "Index of the Last Chracter in Each String. If the String is Empty Index = -1.\n",
            "\n",
            "tacocat: 6\n",
            "Live long and prosper: 20\n",
            ": -1\n",
            "\n"
          ]
        }
      ]
    },
    {
      "cell_type": "code",
      "source": [
        "def last_idx_ele(s):\n",
        "    'Returns the Final Element'\n",
        "    \n",
        "    if len(s) == 0:\n",
        "        return 'none'\n",
        "    else:\n",
        "        return s[-1]"
      ],
      "metadata": {
        "id": "P7iZHkHoJdpH"
      },
      "execution_count": 116,
      "outputs": []
    },
    {
      "cell_type": "code",
      "source": [
        "string1 = 'tacocat'\n",
        "string2 = 'Live long and prosper'\n",
        "string3 = ''"
      ],
      "metadata": {
        "id": "LiQGRzIgJupa"
      },
      "execution_count": 117,
      "outputs": []
    },
    {
      "cell_type": "code",
      "source": [
        "print(f'''\n",
        "The Last Character in Each String is \n",
        "\n",
        "{string1}: {last_idx_ele(string1)}\n",
        "{string2}: {last_idx_ele(string2)}\n",
        "{string3}: {last_idx_ele(string3)}\n",
        "''')"
      ],
      "metadata": {
        "colab": {
          "base_uri": "https://localhost:8080/"
        },
        "id": "M0JKp1i-J4fm",
        "outputId": "bc0f3426-4bf6-47a1-8070-df5c5b4c0b88"
      },
      "execution_count": 118,
      "outputs": [
        {
          "output_type": "stream",
          "name": "stdout",
          "text": [
            "\n",
            "The Last Character in Each String is \n",
            "\n",
            "tacocat: t\n",
            "Live long and prosper: r\n",
            ": none\n",
            "\n"
          ]
        }
      ]
    },
    {
      "cell_type": "code",
      "source": [
        "def char1_is_char2(s):\n",
        "    '''\n",
        "    Returns True if the First & Second Characters in a String are     Equal\n",
        "    '''\n",
        "    \n",
        "    # If String is Empty Return False\n",
        "    if len(s) == 0:\n",
        "        return False\n",
        "    else:    \n",
        "        # Find 1st and 2nd Chars\n",
        "        char1 = s[0]\n",
        "        char2 = s[1]\n",
        "        # Check if Equal\n",
        "        if char1 == char2:\n",
        "            return True\n",
        "        else:\n",
        "            return False"
      ],
      "metadata": {
        "id": "3Ilg2n5UKA_k"
      },
      "execution_count": 119,
      "outputs": []
    },
    {
      "cell_type": "code",
      "source": [
        "string1 = 'tacocat'\n",
        "string2 = 'aardvark'"
      ],
      "metadata": {
        "id": "LOYVp2kiKxF2"
      },
      "execution_count": 120,
      "outputs": []
    },
    {
      "cell_type": "code",
      "source": [
        "print(f'''\n",
        "The first two characters of {string1} are the same: {char1_is_char2(string1)}.\n",
        "The first two characters of {string2} are the same: {char1_is_char2(string2)}.\n",
        "''')"
      ],
      "metadata": {
        "colab": {
          "base_uri": "https://localhost:8080/"
        },
        "id": "NGhaxDfXKzCO",
        "outputId": "09fac00c-60ba-4774-bebb-9b1ca9ba50b4"
      },
      "execution_count": 121,
      "outputs": [
        {
          "output_type": "stream",
          "name": "stdout",
          "text": [
            "\n",
            "The first two characters of tacocat are the same: False.\n",
            "The first two characters of aardvark are the same: True.\n",
            "\n"
          ]
        }
      ]
    },
    {
      "cell_type": "code",
      "source": [
        "def char1_is_last_char(s):\n",
        "    '''\n",
        "    Returns True if the First & Last Characters in a String are\n",
        "    Equal\n",
        "    '''\n",
        "    \n",
        "    # If String is Empty Return False\n",
        "    if len(s) == 0:\n",
        "        return False\n",
        "    else:    \n",
        "        # Find 1st and Last Chars\n",
        "        char1 = s[0]\n",
        "        char_fin = s[-1]\n",
        "        # Check if Equal\n",
        "        if char1 == char_fin:\n",
        "            return True\n",
        "        else:\n",
        "            return False"
      ],
      "metadata": {
        "id": "Vj96mLnaLBrG"
      },
      "execution_count": 122,
      "outputs": []
    },
    {
      "cell_type": "code",
      "source": [
        "string1 = 'tacocat'\n",
        "string2 = 'aardvark'"
      ],
      "metadata": {
        "id": "69Po1lRwLXD7"
      },
      "execution_count": 123,
      "outputs": []
    },
    {
      "cell_type": "code",
      "source": [
        "print(f'''\n",
        "The first and last characters of {string1} are the same: {char1_is_last_char(string1)}.\n",
        "The first and last characters of {string2} are the same: {char1_is_last_char(string2)}.\n",
        "''')"
      ],
      "metadata": {
        "colab": {
          "base_uri": "https://localhost:8080/"
        },
        "id": "6f6VritgLYIS",
        "outputId": "d0649375-013a-4a53-bc18-2723ddf5c068"
      },
      "execution_count": 124,
      "outputs": [
        {
          "output_type": "stream",
          "name": "stdout",
          "text": [
            "\n",
            "The first and last characters of tacocat are the same: True.\n",
            "The first and last characters of aardvark are the same: False.\n",
            "\n"
          ]
        }
      ]
    },
    {
      "cell_type": "code",
      "source": [
        "def same_last_chars(s):\n",
        "    '''\n",
        "    Returns True if the Last 2 Characters in a String are Equal\n",
        "    '''\n",
        "    \n",
        "    # If String is Empty Return False\n",
        "    if len(s) == 0:\n",
        "        return False\n",
        "    else:    \n",
        "        # Find 1st and 2nd Chars\n",
        "        char_fin = s[-1]\n",
        "        char_fin2 = s[-2]\n",
        "        # Check if Equal\n",
        "        if char_fin == char_fin2:\n",
        "            return True\n",
        "        else:\n",
        "            return False"
      ],
      "metadata": {
        "id": "FzsKW-BCLfmk"
      },
      "execution_count": 125,
      "outputs": []
    },
    {
      "cell_type": "code",
      "source": [
        "string1 = 'tacocat'\n",
        "string2 = 'squeegee'"
      ],
      "metadata": {
        "id": "vwM7VfdrL32v"
      },
      "execution_count": 126,
      "outputs": []
    },
    {
      "cell_type": "code",
      "source": [
        "print(f'''\n",
        "The last two characters of {string1} are the same: {same_last_chars(string1)}.\n",
        "The last two characters of {string2} are the same: {same_last_chars(string2)}.\n",
        "''')"
      ],
      "metadata": {
        "colab": {
          "base_uri": "https://localhost:8080/"
        },
        "id": "k71f2G0dL4nY",
        "outputId": "a6c2204d-b187-4423-f27c-a6c67743bae4"
      },
      "execution_count": 127,
      "outputs": [
        {
          "output_type": "stream",
          "name": "stdout",
          "text": [
            "\n",
            "The last two characters of tacocat are the same: False.\n",
            "The last two characters of squeegee are the same: True.\n",
            "\n"
          ]
        }
      ]
    },
    {
      "cell_type": "code",
      "source": [
        "def lower_str(s):\n",
        "    'Returns a String as Lowercase'\n",
        "    \n",
        "    return s.lower()"
      ],
      "metadata": {
        "id": "hDAso88vMCRo"
      },
      "execution_count": 128,
      "outputs": []
    },
    {
      "cell_type": "code",
      "source": [
        "string1 = 'TACOCAT'\n",
        "string2 = 'Live long and prosper'"
      ],
      "metadata": {
        "id": "TrpNneAAMQ3-"
      },
      "execution_count": 129,
      "outputs": []
    },
    {
      "cell_type": "code",
      "source": [
        "print(f'''\n",
        "Initial String: {string1}\n",
        "Lowercase String: {lower_str(string1)}\n",
        "\n",
        "Initial String: {string2}\n",
        "Lowercase String: {lower_str(string2)}\n",
        "''')"
      ],
      "metadata": {
        "colab": {
          "base_uri": "https://localhost:8080/"
        },
        "id": "firjf98RMU1A",
        "outputId": "2fc828a3-f5dc-4184-f897-6d23a86c1430"
      },
      "execution_count": 130,
      "outputs": [
        {
          "output_type": "stream",
          "name": "stdout",
          "text": [
            "\n",
            "Initial String: TACOCAT\n",
            "Lowercase String: tacocat\n",
            "\n",
            "Initial String: Live long and prosper\n",
            "Lowercase String: live long and prosper\n",
            "\n"
          ]
        }
      ]
    },
    {
      "cell_type": "code",
      "source": [
        "def is_upper(s):\n",
        "    'Returns True if String is Uppercase'\n",
        "    \n",
        "    # Check for Empty String\n",
        "    if len(s) <= 0:\n",
        "        return False\n",
        "    else:\n",
        "        if s == s.upper():\n",
        "            return True\n",
        "        else:\n",
        "            return False"
      ],
      "metadata": {
        "id": "ZBCw4llYMdb0"
      },
      "execution_count": 131,
      "outputs": []
    },
    {
      "cell_type": "code",
      "source": [
        "string1 = 'TACOCAT'\n",
        "string2 = 'Live long and prosper'"
      ],
      "metadata": {
        "id": "3_NpxOCQMztR"
      },
      "execution_count": 132,
      "outputs": []
    },
    {
      "cell_type": "code",
      "source": [
        "print(f'''\n",
        "{string1} is uppercase: {is_upper(string1)}.\n",
        "{string2} is uppercase: {is_upper(string3)}.\n",
        "''')"
      ],
      "metadata": {
        "colab": {
          "base_uri": "https://localhost:8080/"
        },
        "id": "WIwivPQtM1Ey",
        "outputId": "c837b940-de47-4467-d3f8-2aa5fcb871d0"
      },
      "execution_count": 133,
      "outputs": [
        {
          "output_type": "stream",
          "name": "stdout",
          "text": [
            "\n",
            "TACOCAT is uppercase: True.\n",
            "Live long and prosper is uppercase: False.\n",
            "\n"
          ]
        }
      ]
    },
    {
      "cell_type": "code",
      "source": [
        "def starry_str(s):\n",
        "    'Returns a String with an * on each side of each character'\n",
        "    \n",
        "    # List to Hold New Character Sets\n",
        "    new_chars = []\n",
        "    \n",
        "    # Loop Through String to Add *'s\n",
        "    for char in s:\n",
        "        new_char = '*' + char + '*'\n",
        "        new_chars.append(new_char)\n",
        "    \n",
        "    return ''.join(new_chars)"
      ],
      "metadata": {
        "id": "717_jYFAM9sS"
      },
      "execution_count": 134,
      "outputs": []
    },
    {
      "cell_type": "code",
      "source": [
        "string1 = 'TACOCAT'\n",
        "string2 = 'Live long and prosper'"
      ],
      "metadata": {
        "id": "7XX_Fn6XN7La"
      },
      "execution_count": 135,
      "outputs": []
    },
    {
      "cell_type": "code",
      "source": [
        "print(f'''\n",
        "Initial String: {string1}\n",
        "Starry String: {starry_str(string1)}\n",
        "\n",
        "Initial String: {string2}\n",
        "Starry String: {starry_str(string2)}\n",
        "''')"
      ],
      "metadata": {
        "colab": {
          "base_uri": "https://localhost:8080/"
        },
        "id": "0sWZy0LHN9Zl",
        "outputId": "47084dca-e467-407e-8033-e9219e6424ba"
      },
      "execution_count": 136,
      "outputs": [
        {
          "output_type": "stream",
          "name": "stdout",
          "text": [
            "\n",
            "Initial String: TACOCAT\n",
            "Starry String: *T**A**C**O**C**A**T*\n",
            "\n",
            "Initial String: Live long and prosper\n",
            "Starry String: *L**i**v**e** **l**o**n**g** **a**n**d** **p**r**o**s**p**e**r*\n",
            "\n"
          ]
        }
      ]
    },
    {
      "cell_type": "code",
      "source": [
        "def star_str(s):\n",
        "    '''\n",
        "    Returns a String with a single * between each character\n",
        "    and on the ends of the string without Built in Functions\n",
        "    '''\n",
        "    \n",
        "    star_str = '*'\n",
        "    \n",
        "    # Loop Through String to Add *'s\n",
        "    for char in s:\n",
        "        star_str += f'{char}*'\n",
        "    \n",
        "    return star_str"
      ],
      "metadata": {
        "id": "ghT2qzuTOEfE"
      },
      "execution_count": 137,
      "outputs": []
    },
    {
      "cell_type": "code",
      "source": [
        "string1 = 'TACOCAT'\n",
        "string2 = 'Live long and prosper'"
      ],
      "metadata": {
        "id": "sciq4b8bO9x9"
      },
      "execution_count": 138,
      "outputs": []
    },
    {
      "cell_type": "code",
      "source": [
        "print(f'''\n",
        "Initial String: {string1}\n",
        "Star String: {star_str(string1)}\n",
        "\n",
        "Initial String: {string2}\n",
        "Star String: {star_str(string2)}\n",
        "''')"
      ],
      "metadata": {
        "colab": {
          "base_uri": "https://localhost:8080/"
        },
        "id": "C27PgIVrO_Ap",
        "outputId": "ebad1fa6-4fb2-4a96-91b7-6a8579cd3aff"
      },
      "execution_count": 139,
      "outputs": [
        {
          "output_type": "stream",
          "name": "stdout",
          "text": [
            "\n",
            "Initial String: TACOCAT\n",
            "Star String: *T*A*C*O*C*A*T*\n",
            "\n",
            "Initial String: Live long and prosper\n",
            "Star String: *L*i*v*e* *l*o*n*g* *a*n*d* *p*r*o*s*p*e*r*\n",
            "\n"
          ]
        }
      ]
    },
    {
      "cell_type": "code",
      "source": [
        "def lrg_char(s):\n",
        "    '''\n",
        "    Returns the Largest Character in a String by Lexographical\n",
        "    Order\n",
        "    '''\n",
        "    \n",
        "    # Store Characters in a List\n",
        "    char_list = []\n",
        "    for char in s:\n",
        "        char_list.append(char)\n",
        "        \n",
        "    # Sort\n",
        "    char_list = sorted(char_list)\n",
        "    \n",
        "    return char_list[-1]"
      ],
      "metadata": {
        "id": "K_JC7L5qPE1g"
      },
      "execution_count": 140,
      "outputs": []
    },
    {
      "cell_type": "code",
      "source": [
        "string1 = 'tacocat'\n",
        "string2 = 'Live long and prosper'"
      ],
      "metadata": {
        "id": "g2IyUghdPs8O"
      },
      "execution_count": 141,
      "outputs": []
    },
    {
      "cell_type": "code",
      "source": [
        "print(f'''\n",
        "The largest character in each word by lexographical order.\n",
        "\n",
        "{string1}: {lrg_char(string1)}\n",
        "{string2}: {lrg_char(string2)}\n",
        "''')"
      ],
      "metadata": {
        "colab": {
          "base_uri": "https://localhost:8080/"
        },
        "id": "aBbXwHfFPvSu",
        "outputId": "c19b307d-e2bc-4f7f-93b8-9697c01281c5"
      },
      "execution_count": 142,
      "outputs": [
        {
          "output_type": "stream",
          "name": "stdout",
          "text": [
            "\n",
            "The largest character in each word by lexographical order.\n",
            "\n",
            "tacocat: t\n",
            "Live long and prosper: v\n",
            "\n"
          ]
        }
      ]
    },
    {
      "cell_type": "code",
      "source": [
        "def repeat_a(n):\n",
        "    \"\"\"\n",
        "    Returns a String of n Number of Capital A's Using a \n",
        "    Required For Loop\n",
        "    \"\"\"\n",
        "    \n",
        "    # Create Base String\n",
        "    a_string = ''\n",
        "    \n",
        "    # Create Stop Number for Range\n",
        "    stop_num = n + 1\n",
        "    \n",
        "    for i in range(1, stop_num):\n",
        "        a_string += 'A'\n",
        "    \n",
        "    return a_string"
      ],
      "metadata": {
        "id": "uuBWbQ8qQA2O"
      },
      "execution_count": 143,
      "outputs": []
    },
    {
      "cell_type": "code",
      "source": [
        "num1 = 3\n",
        "num2 = 42\n",
        "num3 = 1701"
      ],
      "metadata": {
        "id": "wXOr1xCRQynQ"
      },
      "execution_count": 144,
      "outputs": []
    },
    {
      "cell_type": "code",
      "source": [
        "print(f'''\n",
        "A repeated {num1} times: {repeat_a(num1)}\n",
        "A repeated {num2} times: {repeat_a(num2)}\n",
        "A repeated {num3} times: {repeat_a(num3)}\n",
        "''')"
      ],
      "metadata": {
        "colab": {
          "base_uri": "https://localhost:8080/"
        },
        "id": "7OoFxlxrQ4es",
        "outputId": "4f60f651-e72b-488a-edb8-4e2453d4c8c5"
      },
      "execution_count": 145,
      "outputs": [
        {
          "output_type": "stream",
          "name": "stdout",
          "text": [
            "\n",
            "A repeated 3 times: AAA\n",
            "A repeated 42 times: AAAAAAAAAAAAAAAAAAAAAAAAAAAAAAAAAAAAAAAAAA\n",
            "A repeated 1701 times: AAAAAAAAAAAAAAAAAAAAAAAAAAAAAAAAAAAAAAAAAAAAAAAAAAAAAAAAAAAAAAAAAAAAAAAAAAAAAAAAAAAAAAAAAAAAAAAAAAAAAAAAAAAAAAAAAAAAAAAAAAAAAAAAAAAAAAAAAAAAAAAAAAAAAAAAAAAAAAAAAAAAAAAAAAAAAAAAAAAAAAAAAAAAAAAAAAAAAAAAAAAAAAAAAAAAAAAAAAAAAAAAAAAAAAAAAAAAAAAAAAAAAAAAAAAAAAAAAAAAAAAAAAAAAAAAAAAAAAAAAAAAAAAAAAAAAAAAAAAAAAAAAAAAAAAAAAAAAAAAAAAAAAAAAAAAAAAAAAAAAAAAAAAAAAAAAAAAAAAAAAAAAAAAAAAAAAAAAAAAAAAAAAAAAAAAAAAAAAAAAAAAAAAAAAAAAAAAAAAAAAAAAAAAAAAAAAAAAAAAAAAAAAAAAAAAAAAAAAAAAAAAAAAAAAAAAAAAAAAAAAAAAAAAAAAAAAAAAAAAAAAAAAAAAAAAAAAAAAAAAAAAAAAAAAAAAAAAAAAAAAAAAAAAAAAAAAAAAAAAAAAAAAAAAAAAAAAAAAAAAAAAAAAAAAAAAAAAAAAAAAAAAAAAAAAAAAAAAAAAAAAAAAAAAAAAAAAAAAAAAAAAAAAAAAAAAAAAAAAAAAAAAAAAAAAAAAAAAAAAAAAAAAAAAAAAAAAAAAAAAAAAAAAAAAAAAAAAAAAAAAAAAAAAAAAAAAAAAAAAAAAAAAAAAAAAAAAAAAAAAAAAAAAAAAAAAAAAAAAAAAAAAAAAAAAAAAAAAAAAAAAAAAAAAAAAAAAAAAAAAAAAAAAAAAAAAAAAAAAAAAAAAAAAAAAAAAAAAAAAAAAAAAAAAAAAAAAAAAAAAAAAAAAAAAAAAAAAAAAAAAAAAAAAAAAAAAAAAAAAAAAAAAAAAAAAAAAAAAAAAAAAAAAAAAAAAAAAAAAAAAAAAAAAAAAAAAAAAAAAAAAAAAAAAAAAAAAAAAAAAAAAAAAAAAAAAAAAAAAAAAAAAAAAAAAAAAAAAAAAAAAAAAAAAAAAAAAAAAAAAAAAAAAAAAAAAAAAAAAAAAAAAAAAAAAAAAAAAAAAAAAAAAAAAAAAAAAAAAAAAAAAAAAAAAAAAAAAAAAAAAAAAAAAAAAAAAAAAAAAAAAAAAAAAAAAAAAAAAAAAAAAAAAAAAAAAAAAAAAAAAAAAAAAAAAAAAAAAAAAAAAAAAAAAAAAAAAAAAAAAAAAAAAAAAAAAAAAAAAAAAAAAAAAAAAAAAAAAAAAAAAAAAAAAAAAAAAAAAAAAAAAAAAAAAAAAAAAAAAAAAAAAAAAAAAAAAAAAAAAAAAAAAAAAAAAAAAAAAAAAAAAAAAAAAAAAAAAAAAAAAAAAAAAAAAAAAAAAAAAAAAAAAAAAAAAAAAAAAAAAAAAAAAAAAAAAAAAAAAAAAAAAAAAAAAAAAAAAAAAAAAAAAAAAAAAAAAAAAAAAAAAAAAAAAAAAAAAAAAAAAAAAAAAAAAAAAAAAAAAAAAAAAAAAAAAAAAAAAAAAAAAAAAAAAAAAAAAAAAAAAAAAAAAAAAAAAAAAAAAAAAAAAAAAAAAAAAAAAAAAAAAAAAAAAAAAAAAAAAAAAAAAAAAAAAAAAAAAAAAAAAAAAAAAAAAAAAAAAAAAAAAAAAAAAAAAAAAAAAAAAAAAAAAAAAAAAAAAAAAA\n",
            "\n"
          ]
        }
      ]
    }
  ]
}