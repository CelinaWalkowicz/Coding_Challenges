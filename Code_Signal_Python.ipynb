{
  "nbformat": 4,
  "nbformat_minor": 0,
  "metadata": {
    "colab": {
      "name": "Code Signal Python",
      "provenance": [],
      "authorship_tag": "ABX9TyNge9tYE+8tACOkQ5gZz4c5",
      "include_colab_link": true
    },
    "kernelspec": {
      "name": "python3",
      "display_name": "Python 3"
    },
    "language_info": {
      "name": "python"
    }
  },
  "cells": [
    {
      "cell_type": "markdown",
      "metadata": {
        "id": "view-in-github",
        "colab_type": "text"
      },
      "source": [
        "<a href=\"https://colab.research.google.com/github/CelinaWalkowicz/Coding_Challenges/blob/main/Code_Signal_Python.ipynb\" target=\"_parent\"><img src=\"https://colab.research.google.com/assets/colab-badge.svg\" alt=\"Open In Colab\"/></a>"
      ]
    },
    {
      "cell_type": "markdown",
      "source": [
        "Arcade Universe"
      ],
      "metadata": {
        "id": "bdYT7AfG25Fg"
      }
    },
    {
      "cell_type": "markdown",
      "source": [
        "## The Journey Begins"
      ],
      "metadata": {
        "id": "fQjQ-kLy27H8"
      }
    },
    {
      "cell_type": "code",
      "execution_count": 5,
      "metadata": {
        "id": "H6ZHJUQw21eX"
      },
      "outputs": [],
      "source": [
        "def sum2(num1, num2):\n",
        "  'Returns the Sum of Two Numbers'\n",
        "\n",
        "  return num1 + num2"
      ]
    },
    {
      "cell_type": "code",
      "source": [
        "sum2(2, 3)"
      ],
      "metadata": {
        "colab": {
          "base_uri": "https://localhost:8080/"
        },
        "id": "uMhdjUUC3JQ8",
        "outputId": "da0691a4-fc2c-490b-aa92-181f9b4e2701"
      },
      "execution_count": 6,
      "outputs": [
        {
          "output_type": "execute_result",
          "data": {
            "text/plain": [
              "5"
            ]
          },
          "metadata": {},
          "execution_count": 6
        }
      ]
    },
    {
      "cell_type": "code",
      "source": [
        "def calc_century(year):\n",
        "    '''\n",
        "    This function takes a year, and returns the century it is in.\n",
        "    '''\n",
        "    \n",
        "    # Ensure year is int\n",
        "    int(year)\n",
        "    # Change year to string for indexing\n",
        "    yr = str(year)\n",
        "\n",
        "    # Index yr into parts to determine cdef solution(year):\n",
        "    '''\n",
        "    This function takes a year, and returns the century it is in.\n",
        "    '''\n",
        "    \n",
        "    # Ensure year is int\n",
        "    int(year)\n",
        "    # Change year to string for indexing\n",
        "    yr = str(year)\n",
        "\n",
        "    # Ensure all years are YYYY format\n",
        "    # Find first century years\n",
        "    if year <= 1000:\n",
        "      # years less than 100 will need a 00\n",
        "      if year < 100:\n",
        "        yr_pt1 = '00'\n",
        "        yr_pt2 = str(year)\n",
        "        yr = yr_pt1 + yr_pt2\n",
        "      else:\n",
        "        yr_pt1 = '0'\n",
        "        yr_pt2 = str(year)\n",
        "        yr = yr_pt1 + yr_pt2\n",
        "    \n",
        "    # Save first 2 numbs to determine century\n",
        "    yr_idx1 = int(yr[:2])\n",
        "    # Save last 2 nums to check year range to check years are in century range\n",
        "    yr_idx2 = int(yr[2:4])\n",
        "    \n",
        "    # Check century range xx01-xx99\n",
        "    if yr_idx2 >= 1:\n",
        "        # Add 1 to find the century\n",
        "        century = yr_idx1 + 1\n",
        "    # Check century range xx00\n",
        "    elif yr_idx2 == 0:\n",
        "        century = yr_idx1\n",
        "      \n",
        "    return century"
      ],
      "metadata": {
        "id": "v4zYYyBt3NdN"
      },
      "execution_count": 7,
      "outputs": []
    },
    {
      "cell_type": "code",
      "source": [
        "print(f'''\n",
        "The year 42 is in century {calc_century(42)}.\n",
        "The year 100 is in century {calc_century(100)}.\n",
        "The year 1000 is in century {calc_century(1000)}.\n",
        "The year 1500 is in century {calc_century(1500)}.\n",
        "The year 1701 is in century {calc_century(1701)}.\n",
        "The year 1994 is in century {calc_century(1994)}.\n",
        "The year 2022 is in century {calc_century(2022)}.\n",
        "''')"
      ],
      "metadata": {
        "colab": {
          "base_uri": "https://localhost:8080/"
        },
        "id": "4-3_HF3C3Y_e",
        "outputId": "971a5854-50ca-4d1d-9b61-7a2da9c52719"
      },
      "execution_count": 9,
      "outputs": [
        {
          "output_type": "stream",
          "name": "stdout",
          "text": [
            "\n",
            "The year 42 is in century 1.\n",
            "The year 100 is in century 1.\n",
            "The year 1000 is in century 1.\n",
            "The year 1500 is in century 15.\n",
            "The year 1701 is in century 18.\n",
            "The year 1994 is in century 20.\n",
            "The year 2022 is in century 21.\n",
            "\n"
          ]
        }
      ]
    },
    {
      "cell_type": "code",
      "source": [
        "def is_palindrome(inputString):\n",
        "    '''\n",
        "    Takes an input and checks if it is a palindrome\n",
        "    '''\n",
        "    \n",
        "    # Ensure Input is String\n",
        "    fwd_string = str(inputString).lower()\n",
        "\n",
        "    # Reverse String\n",
        "    retro_string = fwd_string[::-1]\n",
        "\n",
        "    # Check if strings are equal\n",
        "    if fwd_string == retro_string:\n",
        "      return True\n",
        "    else:\n",
        "      return False"
      ],
      "metadata": {
        "id": "jgOfiyB-3bLQ"
      },
      "execution_count": 11,
      "outputs": []
    },
    {
      "cell_type": "code",
      "source": [
        "print(f'''\n",
        "Tacocat is a palindrome: {is_palindrome('tacocat')}.\n",
        "Tacocorgi is a palindrome: {is_palindrome('tacocorgi')}.\n",
        "1111 is a palindrome: {is_palindrome(1111)}.\n",
        "1701 is a palindrome: {is_palindrome(1701)}.\n",
        "''')"
      ],
      "metadata": {
        "colab": {
          "base_uri": "https://localhost:8080/"
        },
        "id": "RHf-8cO84Eoq",
        "outputId": "ed8432ef-17ab-49a0-ac39-c8cddda7fff3"
      },
      "execution_count": 12,
      "outputs": [
        {
          "output_type": "stream",
          "name": "stdout",
          "text": [
            "\n",
            "Tacocat is a palindrome: True.\n",
            "Tacocorgi is a palindrome: False.\n",
            "1111 is a palindrome: True.\n",
            "1701 is a palindrome: False.\n",
            "\n"
          ]
        }
      ]
    }
  ]
}