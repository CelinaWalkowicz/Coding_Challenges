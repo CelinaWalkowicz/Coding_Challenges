{
  "nbformat": 4,
  "nbformat_minor": 0,
  "metadata": {
    "colab": {
      "name": "Code Signal Python",
      "provenance": [],
      "authorship_tag": "ABX9TyPlF33paEz2dXR4V4mOvxPV",
      "include_colab_link": true
    },
    "kernelspec": {
      "name": "python3",
      "display_name": "Python 3"
    },
    "language_info": {
      "name": "python"
    }
  },
  "cells": [
    {
      "cell_type": "markdown",
      "metadata": {
        "id": "view-in-github",
        "colab_type": "text"
      },
      "source": [
        "<a href=\"https://colab.research.google.com/github/CelinaWalkowicz/Coding_Challenges/blob/main/Code_Signal_Python.ipynb\" target=\"_parent\"><img src=\"https://colab.research.google.com/assets/colab-badge.svg\" alt=\"Open In Colab\"/></a>"
      ]
    },
    {
      "cell_type": "markdown",
      "source": [
        "# Arcade Universe"
      ],
      "metadata": {
        "id": "bdYT7AfG25Fg"
      }
    },
    {
      "cell_type": "markdown",
      "source": [
        "## Sum of Two Numbers"
      ],
      "metadata": {
        "id": "yg5UJkuXJFuc"
      }
    },
    {
      "cell_type": "code",
      "execution_count": 17,
      "metadata": {
        "id": "H6ZHJUQw21eX"
      },
      "outputs": [],
      "source": [
        "def sum2(num1, num2):\n",
        "  'Returns the Sum of Two Numbers'\n",
        "\n",
        "  return num1 + num2"
      ]
    },
    {
      "cell_type": "code",
      "source": [
        "sum2(2, 3)"
      ],
      "metadata": {
        "colab": {
          "base_uri": "https://localhost:8080/"
        },
        "id": "uMhdjUUC3JQ8",
        "outputId": "da6d228d-7fc3-472c-f083-00264d8849a9"
      },
      "execution_count": 2,
      "outputs": [
        {
          "output_type": "execute_result",
          "data": {
            "text/plain": [
              "5"
            ]
          },
          "metadata": {},
          "execution_count": 2
        }
      ]
    },
    {
      "cell_type": "markdown",
      "source": [
        "## Determine the Century for Each Year\n",
        "\n",
        "A Century is defined as year 1 - 100\n",
        "Examples: \n",
        "1st Century is from 1 - 100\n",
        "17th Century is from 1701 - 1800\n",
        "20th Century is from 1901 - 2000"
      ],
      "metadata": {
        "id": "y6-aCsDnJJ4l"
      }
    },
    {
      "cell_type": "code",
      "source": [
        "def calc_century(year):\n",
        "    '''\n",
        "    This function takes a year, and returns the century it is in.\n",
        "    '''\n",
        "    \n",
        "    # Ensure year is int\n",
        "    int(year)\n",
        "    # Change year to string for indexing\n",
        "    yr = str(year)\n",
        "\n",
        "    # Index yr into parts to determine cdef solution(year):\n",
        "    '''\n",
        "    This function takes a year, and returns the century it is in.\n",
        "    '''\n",
        "    \n",
        "    # Ensure year is int\n",
        "    int(year)\n",
        "    # Change year to string for indexing\n",
        "    yr = str(year)\n",
        "\n",
        "    # Ensure all years are YYYY format\n",
        "    # Find first century years\n",
        "    if year <= 1000:\n",
        "      # years less than 100 will need a 00\n",
        "      if year < 100:\n",
        "        yr_pt1 = '00'\n",
        "        yr_pt2 = str(year)\n",
        "        yr = yr_pt1 + yr_pt2\n",
        "      else:\n",
        "        yr_pt1 = '0'\n",
        "        yr_pt2 = str(year)\n",
        "        yr = yr_pt1 + yr_pt2\n",
        "    \n",
        "    # Save first 2 numbs to determine century\n",
        "    yr_idx1 = int(yr[:2])\n",
        "    # Save last 2 nums to check year range to check years are in century range\n",
        "    yr_idx2 = int(yr[2:4])\n",
        "    \n",
        "    # Check century range xx01-xx99\n",
        "    if yr_idx2 >= 1:\n",
        "        # Add 1 to find the century\n",
        "        century = yr_idx1 + 1\n",
        "    # Check century range xx00\n",
        "    elif yr_idx2 == 0:\n",
        "        century = yr_idx1\n",
        "      \n",
        "    return century"
      ],
      "metadata": {
        "id": "v4zYYyBt3NdN"
      },
      "execution_count": 3,
      "outputs": []
    },
    {
      "cell_type": "code",
      "source": [
        "print(f'''\n",
        "The year 42 is in century {calc_century(42)}.\n",
        "The year 100 is in century {calc_century(100)}.\n",
        "The year 1000 is in century {calc_century(1000)}.\n",
        "The year 1500 is in century {calc_century(1500)}.\n",
        "The year 1701 is in century {calc_century(1701)}.\n",
        "The year 1994 is in century {calc_century(1994)}.\n",
        "The year 2022 is in century {calc_century(2022)}.\n",
        "''')"
      ],
      "metadata": {
        "colab": {
          "base_uri": "https://localhost:8080/"
        },
        "id": "4-3_HF3C3Y_e",
        "outputId": "4e68d6bd-d138-493d-fc76-a38a5ef81f8f"
      },
      "execution_count": 4,
      "outputs": [
        {
          "output_type": "stream",
          "name": "stdout",
          "text": [
            "\n",
            "The year 42 is in century 1.\n",
            "The year 100 is in century 1.\n",
            "The year 1000 is in century 1.\n",
            "The year 1500 is in century 15.\n",
            "The year 1701 is in century 18.\n",
            "The year 1994 is in century 20.\n",
            "The year 2022 is in century 21.\n",
            "\n"
          ]
        }
      ]
    },
    {
      "cell_type": "markdown",
      "source": [
        "## Determine if a Given Input is a Palindrome"
      ],
      "metadata": {
        "id": "lYlunPxLJng6"
      }
    },
    {
      "cell_type": "code",
      "source": [
        "def is_palindrome(given_input):\n",
        "    '''\n",
        "    Takes an input and checks if it is a palindrome\n",
        "    '''\n",
        "    \n",
        "    # Ensure Input is String\n",
        "    fwd_string = str(given_input).lower()\n",
        "\n",
        "    # Reverse String\n",
        "    retro_string = fwd_string[::-1]\n",
        "\n",
        "    # Check if strings are equal\n",
        "    if fwd_string == retro_string:\n",
        "      return True\n",
        "    else:\n",
        "      return False"
      ],
      "metadata": {
        "id": "jgOfiyB-3bLQ"
      },
      "execution_count": 18,
      "outputs": []
    },
    {
      "cell_type": "code",
      "source": [
        "print(f'''\n",
        "Tacocat is a palindrome: {is_palindrome('tacocat')}.\n",
        "Tacocorgi is a palindrome: {is_palindrome('tacocorgi')}.\n",
        "1111 is a palindrome: {is_palindrome(1111)}.\n",
        "1701 is a palindrome: {is_palindrome(1701)}.\n",
        "''')"
      ],
      "metadata": {
        "colab": {
          "base_uri": "https://localhost:8080/"
        },
        "id": "RHf-8cO84Eoq",
        "outputId": "25ac8a87-5033-455e-88d8-d82077659dab"
      },
      "execution_count": 19,
      "outputs": [
        {
          "output_type": "stream",
          "name": "stdout",
          "text": [
            "\n",
            "Tacocat is a palindrome: True.\n",
            "Tacocorgi is a palindrome: False.\n",
            "1111 is a palindrome: True.\n",
            "1701 is a palindrome: False.\n",
            "\n"
          ]
        }
      ]
    },
    {
      "cell_type": "markdown",
      "source": [
        "## Find the Largest Product of Adjacent Pairs in a List"
      ],
      "metadata": {
        "id": "DbTAAeKfJ222"
      }
    },
    {
      "cell_type": "code",
      "source": [
        "def adjacent_products(input_list):\n",
        "    '''\n",
        "    Finds the product of the the pair of adjacent elements within a list\n",
        "    and returns the largest product\n",
        "    '''\n",
        "    \n",
        "    # Create Product List\n",
        "    product_list = []\n",
        "\n",
        "    # Create Stop Number for List without last number\n",
        "    stop_num = len(input_list) - 1\n",
        "    \n",
        "    # Loop through array, and multiply each number by the next number, \n",
        "    # and save the value to product list\n",
        "    for idx in range(0, stop_num):\n",
        "      # Find Index Values of Numbers to Multiply\n",
        "      product_list.append(input_list[idx] * input_list[idx+1])\n",
        "\n",
        "    # Sort List Descending to find largest value\n",
        "    product_list.sort(reverse=True)\n",
        "    \n",
        "    return product_list[0]"
      ],
      "metadata": {
        "id": "R8Yq4cG67iRJ"
      },
      "execution_count": 20,
      "outputs": []
    },
    {
      "cell_type": "code",
      "source": [
        "inputArray1 = [3, 6, -2, -5, 7, 3]\n",
        "inputArray2 = [2, 1, 3, 1, 2, 5]"
      ],
      "metadata": {
        "id": "ex8SACly5G1b"
      },
      "execution_count": 8,
      "outputs": []
    },
    {
      "cell_type": "code",
      "source": [
        "print(f'''\n",
        "-------------------------------------\n",
        "Largest Products from Adjacent Values\n",
        "-------------------------------------\n",
        "\n",
        "inputArray1: {adjacent_products(inputArray1)}\n",
        "inputArray2: {adjacent_products(inputArray2)}\n",
        "''')"
      ],
      "metadata": {
        "colab": {
          "base_uri": "https://localhost:8080/"
        },
        "id": "ZXe1MXDt_-Oy",
        "outputId": "f2f32f71-1a89-405d-ffa5-527bdaf5319b"
      },
      "execution_count": 9,
      "outputs": [
        {
          "output_type": "stream",
          "name": "stdout",
          "text": [
            "\n",
            "-------------------------------------\n",
            "Largest Products from Adjacent Values\n",
            "-------------------------------------\n",
            "\n",
            "inputArray1: 21\n",
            "inputArray2: 10\n",
            "\n"
          ]
        }
      ]
    },
    {
      "cell_type": "markdown",
      "source": [
        "# Find the Missing Values in a Sequential Array"
      ],
      "metadata": {
        "id": "iGIo8HOIJ8Zu"
      }
    },
    {
      "cell_type": "markdown",
      "source": [
        "Ratiorg got statues of different sizes as a present from CodeMaster for his birthday, each statue having an non-negative integer size. Since he likes to make things perfect, he wants to arrange them from smallest to largest so that each statue will be bigger than the previous one exactly by 1. He may need some additional statues to be able to accomplish that. Help him figure out the minimum number of additional statues needed."
      ],
      "metadata": {
        "id": "K4vvSjveFE9f"
      }
    },
    {
      "cell_type": "code",
      "source": [
        "def missing_sequentials(inputArray):\n",
        "    'Returns Number of Missing Sequential Values from an Array'\n",
        "    \n",
        "    # Sort Statues in Order Ascencing\n",
        "    inputArray.sort()\n",
        "    # Find Min and Max Values\n",
        "    min_num = inputArray[0]\n",
        "    max_num = inputArray[-1]\n",
        "    \n",
        "    # Create Range between Min and Max Values as List\n",
        "    # Find Stop Number for inclusive Max Value\n",
        "    stop_num = max_num + 1\n",
        "    sequential_array = list(range(min_num, stop_num))\n",
        "    \n",
        "    # Find Lengths of Both Lists\n",
        "    input_length = len(inputArray)\n",
        "    complete_length = len(sequential_array)\n",
        "    \n",
        "    # Return Difference to Determine Number of Missing Statues\n",
        "    return complete_length - input_length"
      ],
      "metadata": {
        "id": "CD2AQJeZELdM"
      },
      "execution_count": 10,
      "outputs": []
    },
    {
      "cell_type": "code",
      "source": [
        "inputArray = [6, 2, 3, 8]"
      ],
      "metadata": {
        "id": "g1jbLHLuFeuI"
      },
      "execution_count": 11,
      "outputs": []
    },
    {
      "cell_type": "code",
      "source": [
        "missing_sequentials(inputArray)"
      ],
      "metadata": {
        "colab": {
          "base_uri": "https://localhost:8080/"
        },
        "id": "zwp9Lu2KFfhG",
        "outputId": "f6a2ea02-37d9-4b54-d868-7d0dd612d68a"
      },
      "execution_count": 12,
      "outputs": [
        {
          "output_type": "execute_result",
          "data": {
            "text/plain": [
              "3"
            ]
          },
          "metadata": {},
          "execution_count": 12
        }
      ]
    },
    {
      "cell_type": "markdown",
      "source": [
        "# Determine if a Sequence will be Strictly Increasing if *ONLY* One Value is Removed."
      ],
      "metadata": {
        "id": "7jgySBjqKEgM"
      }
    },
    {
      "cell_type": "code",
      "source": [
        "def solution(sequence):\n",
        "    '''\n",
        "    Returns if a list is strictly increasingly if one or less numbers \n",
        "    needs to be removed\n",
        "    '''\n",
        "\n",
        "    # Set Failure Count = 0 \n",
        "    fc1 = 0\n",
        "    fc2 = 0\n",
        "    \n",
        "    # Verify Each Value is NOT Greater than the Following 2 Values\n",
        "\n",
        "    # Following 1\n",
        "    for i in range(len(sequence)-1):\n",
        "            if sequence[i] >= sequence[i+1]:\n",
        "                fc1 = fc1 + 1\n",
        "\n",
        "    # Following 2 \n",
        "    for i in range(len(sequence)-2):\n",
        "            if sequence[i] >= sequence[i+2]:\n",
        "                fc2 = fc2 + 1\n",
        "\n",
        "    # Verify Counts Do NOT Exceed 1 \n",
        "    if (fc1 < 2) and (fc2 < 2):                \n",
        "        return True\n",
        "    else:\n",
        "        return False "
      ],
      "metadata": {
        "id": "bxlCmrpRH_KN"
      },
      "execution_count": 14,
      "outputs": []
    },
    {
      "cell_type": "code",
      "source": [
        "sequence1 = [1, 2, 3, 4, 99, 5, 6]\n",
        "sequence2 = [3, 5, 67, 98, 3]\n",
        "sequence3 = [10, 1, 2, 3, 4, 5, 6, 1]\n",
        "sequence4 = [1, 2, 1, 2]\n",
        "sequence5 = [0, -2, 5, 6]"
      ],
      "metadata": {
        "id": "G_dgIH0iKjUP"
      },
      "execution_count": 15,
      "outputs": []
    },
    {
      "cell_type": "code",
      "source": [
        "print(f'''\n",
        "-------------------------------------------------\n",
        "Strictly Increasing Sequences with ONLY 1 removal\n",
        "-------------------------------------------------\n",
        "\n",
        "Sequence 1: {solution(sequence1)}\n",
        "{sequence1}\n",
        "\n",
        "Sequence 2: {solution(sequence2)}\n",
        "{sequence2}\n",
        "\n",
        "Sequence 3: {solution(sequence3)}\n",
        "{sequence3}\n",
        "\n",
        "Sequence 4: {solution(sequence4)}\n",
        "{sequence4}\n",
        "\n",
        "Sequence 5: {solution(sequence5)}\n",
        "{sequence5}\n",
        "''')"
      ],
      "metadata": {
        "colab": {
          "base_uri": "https://localhost:8080/"
        },
        "id": "TWJ1srIA6ooi",
        "outputId": "ad734096-bf89-43a7-bc84-dfa9f9def946"
      },
      "execution_count": 16,
      "outputs": [
        {
          "output_type": "stream",
          "name": "stdout",
          "text": [
            "\n",
            "-------------------------------------------------\n",
            "Strictly Increasing Sequences with ONLY 1 removal\n",
            "-------------------------------------------------\n",
            "\n",
            "Sequence 1: True\n",
            "[1, 2, 3, 4, 99, 5, 6]\n",
            "\n",
            "Sequence 2: True\n",
            "[3, 5, 67, 98, 3]\n",
            "\n",
            "Sequence 3: False\n",
            "[10, 1, 2, 3, 4, 5, 6, 1]\n",
            "\n",
            "Sequence 4: False\n",
            "[1, 2, 1, 2]\n",
            "\n",
            "Sequence 5: True\n",
            "[0, -2, 5, 6]\n",
            "\n"
          ]
        }
      ]
    }
  ]
}