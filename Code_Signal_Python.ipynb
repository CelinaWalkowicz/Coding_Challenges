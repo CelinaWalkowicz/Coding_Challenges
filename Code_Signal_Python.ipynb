{
  "nbformat": 4,
  "nbformat_minor": 0,
  "metadata": {
    "colab": {
      "name": "Code Signal Python",
      "provenance": [],
      "collapsed_sections": [
        "bdYT7AfG25Fg",
        "yg5UJkuXJFuc",
        "oTA5iTIQRWo5",
        "Qz72boqtq_CK",
        "WgQbmb0VBSXk"
      ],
      "authorship_tag": "ABX9TyMrGnEITtR5cogXKBwISF9+",
      "include_colab_link": true
    },
    "kernelspec": {
      "name": "python3",
      "display_name": "Python 3"
    },
    "language_info": {
      "name": "python"
    }
  },
  "cells": [
    {
      "cell_type": "markdown",
      "metadata": {
        "id": "view-in-github",
        "colab_type": "text"
      },
      "source": [
        "<a href=\"https://colab.research.google.com/github/CelinaWalkowicz/Coding_Challenges/blob/main/Code_Signal_Python.ipynb\" target=\"_parent\"><img src=\"https://colab.research.google.com/assets/colab-badge.svg\" alt=\"Open In Colab\"/></a>"
      ]
    },
    {
      "cell_type": "markdown",
      "source": [
        "# Arcade Universe"
      ],
      "metadata": {
        "id": "bdYT7AfG25Fg"
      }
    },
    {
      "cell_type": "markdown",
      "source": [
        "## Sum of Two Numbers"
      ],
      "metadata": {
        "id": "yg5UJkuXJFuc"
      }
    },
    {
      "cell_type": "code",
      "execution_count": 1,
      "metadata": {
        "id": "H6ZHJUQw21eX"
      },
      "outputs": [],
      "source": [
        "def sum2(num1, num2):\n",
        "  'Returns the Sum of Two Numbers'\n",
        "\n",
        "  return num1 + num2"
      ]
    },
    {
      "cell_type": "code",
      "source": [
        "sum2(2, 3)"
      ],
      "metadata": {
        "colab": {
          "base_uri": "https://localhost:8080/"
        },
        "id": "uMhdjUUC3JQ8",
        "outputId": "fff5fd22-8912-4cd9-a794-9f71febbb333"
      },
      "execution_count": 2,
      "outputs": [
        {
          "output_type": "execute_result",
          "data": {
            "text/plain": [
              "5"
            ]
          },
          "metadata": {},
          "execution_count": 2
        }
      ]
    },
    {
      "cell_type": "markdown",
      "source": [
        "## Determine the Century for Each Year\n",
        "\n",
        "A Century is defined as year 1 - 100\n",
        "Examples: \n",
        "1st Century is from 1 - 100\n",
        "17th Century is from 1701 - 1800\n",
        "20th Century is from 1901 - 2000"
      ],
      "metadata": {
        "id": "y6-aCsDnJJ4l"
      }
    },
    {
      "cell_type": "code",
      "source": [
        "def calc_century(year):\n",
        "    '''\n",
        "    This function takes a year, and returns the century it is in.\n",
        "    '''\n",
        "    \n",
        "    # Ensure year is int\n",
        "    int(year)\n",
        "    # Change year to string for indexing\n",
        "    yr = str(year)\n",
        "\n",
        "    # Index yr into parts to determine cdef solution(year):\n",
        "    '''\n",
        "    This function takes a year, and returns the century it is in.\n",
        "    '''\n",
        "    \n",
        "    # Ensure year is int\n",
        "    int(year)\n",
        "    # Change year to string for indexing\n",
        "    yr = str(year)\n",
        "\n",
        "    # Ensure all years are YYYY format\n",
        "    # Find first century years\n",
        "    if year <= 1000:\n",
        "      # years less than 100 will need a 00\n",
        "      if year < 100:\n",
        "        yr_pt1 = '00'\n",
        "        yr_pt2 = str(year)\n",
        "        yr = yr_pt1 + yr_pt2\n",
        "      else:\n",
        "        yr_pt1 = '0'\n",
        "        yr_pt2 = str(year)\n",
        "        yr = yr_pt1 + yr_pt2\n",
        "    \n",
        "    # Save first 2 numbs to determine century\n",
        "    yr_idx1 = int(yr[:2])\n",
        "    # Save last 2 nums to check year range to check years are in century range\n",
        "    yr_idx2 = int(yr[2:4])\n",
        "    \n",
        "    # Check century range xx01-xx99\n",
        "    if yr_idx2 >= 1:\n",
        "        # Add 1 to find the century\n",
        "        century = yr_idx1 + 1\n",
        "    # Check century range xx00\n",
        "    elif yr_idx2 == 0:\n",
        "        century = yr_idx1\n",
        "      \n",
        "    return century"
      ],
      "metadata": {
        "id": "v4zYYyBt3NdN"
      },
      "execution_count": 3,
      "outputs": []
    },
    {
      "cell_type": "code",
      "source": [
        "print(f'''\n",
        "The year 42 is in century {calc_century(42)}.\n",
        "The year 100 is in century {calc_century(100)}.\n",
        "The year 1000 is in century {calc_century(1000)}.\n",
        "The year 1500 is in century {calc_century(1500)}.\n",
        "The year 1701 is in century {calc_century(1701)}.\n",
        "The year 1994 is in century {calc_century(1994)}.\n",
        "The year 2022 is in century {calc_century(2022)}.\n",
        "''')"
      ],
      "metadata": {
        "colab": {
          "base_uri": "https://localhost:8080/"
        },
        "id": "4-3_HF3C3Y_e",
        "outputId": "763967cc-fa5b-48c1-cb3f-8bfd2c64c154"
      },
      "execution_count": 4,
      "outputs": [
        {
          "output_type": "stream",
          "name": "stdout",
          "text": [
            "\n",
            "The year 42 is in century 1.\n",
            "The year 100 is in century 1.\n",
            "The year 1000 is in century 1.\n",
            "The year 1500 is in century 15.\n",
            "The year 1701 is in century 18.\n",
            "The year 1994 is in century 20.\n",
            "The year 2022 is in century 21.\n",
            "\n"
          ]
        }
      ]
    },
    {
      "cell_type": "markdown",
      "source": [
        "## Determine if a Given Input is a Palindrome"
      ],
      "metadata": {
        "id": "lYlunPxLJng6"
      }
    },
    {
      "cell_type": "code",
      "source": [
        "def is_palindrome(given_input):\n",
        "    '''\n",
        "    Takes an input and checks if it is a palindrome\n",
        "    '''\n",
        "    \n",
        "    # Ensure Input is String\n",
        "    fwd_string = str(given_input).lower()\n",
        "\n",
        "    # Reverse String\n",
        "    retro_string = fwd_string[::-1]\n",
        "\n",
        "    # Check if strings are equal\n",
        "    if fwd_string == retro_string:\n",
        "      return True\n",
        "    else:\n",
        "      return False"
      ],
      "metadata": {
        "id": "jgOfiyB-3bLQ"
      },
      "execution_count": 5,
      "outputs": []
    },
    {
      "cell_type": "code",
      "source": [
        "print(f'''\n",
        "Tacocat is a palindrome: {is_palindrome('tacocat')}.\n",
        "Tacocorgi is a palindrome: {is_palindrome('tacocorgi')}.\n",
        "1111 is a palindrome: {is_palindrome(1111)}.\n",
        "1701 is a palindrome: {is_palindrome(1701)}.\n",
        "''')"
      ],
      "metadata": {
        "colab": {
          "base_uri": "https://localhost:8080/"
        },
        "id": "RHf-8cO84Eoq",
        "outputId": "d42ac998-5a38-4c33-c6ef-f4e666a3e84f"
      },
      "execution_count": 6,
      "outputs": [
        {
          "output_type": "stream",
          "name": "stdout",
          "text": [
            "\n",
            "Tacocat is a palindrome: True.\n",
            "Tacocorgi is a palindrome: False.\n",
            "1111 is a palindrome: True.\n",
            "1701 is a palindrome: False.\n",
            "\n"
          ]
        }
      ]
    },
    {
      "cell_type": "markdown",
      "source": [
        "## Find the Largest Product of Adjacent Pairs in a List"
      ],
      "metadata": {
        "id": "DbTAAeKfJ222"
      }
    },
    {
      "cell_type": "code",
      "source": [
        "def adjacent_products(input_list):\n",
        "    '''\n",
        "    Finds the product of the the pair of adjacent elements within a list\n",
        "    and returns the largest product\n",
        "    '''\n",
        "    \n",
        "    # Create Product List\n",
        "    product_list = []\n",
        "\n",
        "    # Create Stop Number for List without last number\n",
        "    stop_num = len(input_list) - 1\n",
        "    \n",
        "    # Loop through array, and multiply each number by the next number, \n",
        "    # and save the value to product list\n",
        "    for idx in range(0, stop_num):\n",
        "      # Find Index Values of Numbers to Multiply\n",
        "      product_list.append(input_list[idx] * input_list[idx+1])\n",
        "\n",
        "    # Sort List Descending to find largest value\n",
        "    product_list.sort(reverse=True)\n",
        "    \n",
        "    return product_list[0]"
      ],
      "metadata": {
        "id": "R8Yq4cG67iRJ"
      },
      "execution_count": 7,
      "outputs": []
    },
    {
      "cell_type": "code",
      "source": [
        "inputArray1 = [3, 6, -2, -5, 7, 3]\n",
        "inputArray2 = [2, 1, 3, 1, 2, 5]"
      ],
      "metadata": {
        "id": "ex8SACly5G1b"
      },
      "execution_count": 8,
      "outputs": []
    },
    {
      "cell_type": "code",
      "source": [
        "print(f'''\n",
        "-------------------------------------\n",
        "Largest Products from Adjacent Values\n",
        "-------------------------------------\n",
        "\n",
        "inputArray1: {adjacent_products(inputArray1)}\n",
        "inputArray2: {adjacent_products(inputArray2)}\n",
        "''')"
      ],
      "metadata": {
        "colab": {
          "base_uri": "https://localhost:8080/"
        },
        "id": "ZXe1MXDt_-Oy",
        "outputId": "8f5f13ac-f794-4ef7-c49a-8e543dd3642d"
      },
      "execution_count": 9,
      "outputs": [
        {
          "output_type": "stream",
          "name": "stdout",
          "text": [
            "\n",
            "-------------------------------------\n",
            "Largest Products from Adjacent Values\n",
            "-------------------------------------\n",
            "\n",
            "inputArray1: 21\n",
            "inputArray2: 10\n",
            "\n"
          ]
        }
      ]
    },
    {
      "cell_type": "markdown",
      "source": [
        "## Find the Missing Values in a Sequential Array"
      ],
      "metadata": {
        "id": "iGIo8HOIJ8Zu"
      }
    },
    {
      "cell_type": "markdown",
      "source": [
        "Ratiorg got statues of different sizes as a present from CodeMaster for his birthday, each statue having an non-negative integer size. Since he likes to make things perfect, he wants to arrange them from smallest to largest so that each statue will be bigger than the previous one exactly by 1. He may need some additional statues to be able to accomplish that. Help him figure out the minimum number of additional statues needed."
      ],
      "metadata": {
        "id": "K4vvSjveFE9f"
      }
    },
    {
      "cell_type": "code",
      "source": [
        "def missing_sequentials(inputArray):\n",
        "    'Returns Number of Missing Sequential Values from an Array'\n",
        "    \n",
        "    # Sort Statues in Order Ascencing\n",
        "    inputArray.sort()\n",
        "    # Find Min and Max Values\n",
        "    min_num = inputArray[0]\n",
        "    max_num = inputArray[-1]\n",
        "    \n",
        "    # Create Range between Min and Max Values as List\n",
        "    # Find Stop Number for inclusive Max Value\n",
        "    stop_num = max_num + 1\n",
        "    sequential_array = list(range(min_num, stop_num))\n",
        "    \n",
        "    # Find Lengths of Both Lists\n",
        "    input_length = len(inputArray)\n",
        "    complete_length = len(sequential_array)\n",
        "    \n",
        "    # Return Difference to Determine Number of Missing Statues\n",
        "    return complete_length - input_length"
      ],
      "metadata": {
        "id": "CD2AQJeZELdM"
      },
      "execution_count": 10,
      "outputs": []
    },
    {
      "cell_type": "code",
      "source": [
        "inputArray = [6, 2, 3, 8]"
      ],
      "metadata": {
        "id": "g1jbLHLuFeuI"
      },
      "execution_count": 11,
      "outputs": []
    },
    {
      "cell_type": "code",
      "source": [
        "missing_sequentials(inputArray)"
      ],
      "metadata": {
        "colab": {
          "base_uri": "https://localhost:8080/"
        },
        "id": "zwp9Lu2KFfhG",
        "outputId": "a57d6b70-8589-45dd-9b0e-6458b8a66164"
      },
      "execution_count": 12,
      "outputs": [
        {
          "output_type": "execute_result",
          "data": {
            "text/plain": [
              "3"
            ]
          },
          "metadata": {},
          "execution_count": 12
        }
      ]
    },
    {
      "cell_type": "markdown",
      "source": [
        "## Determine if a Sequence will be Strictly Increasing if *ONLY* One Value is Removed."
      ],
      "metadata": {
        "id": "7jgySBjqKEgM"
      }
    },
    {
      "cell_type": "code",
      "source": [
        "def solution(sequence):\n",
        "    '''\n",
        "    Returns if a list is strictly increasingly if one or less numbers \n",
        "    needs to be removed\n",
        "    '''\n",
        "\n",
        "    # Set Failure Count = 0 \n",
        "    fc1 = 0\n",
        "    fc2 = 0\n",
        "    \n",
        "    # Verify Each Value is NOT Greater than the Following 2 Values\n",
        "\n",
        "    # Following 1\n",
        "    for i in range(len(sequence)-1):\n",
        "            if sequence[i] >= sequence[i+1]:\n",
        "                fc1 = fc1 + 1\n",
        "\n",
        "    # Following 2 \n",
        "    for i in range(len(sequence)-2):\n",
        "            if sequence[i] >= sequence[i+2]:\n",
        "                fc2 = fc2 + 1\n",
        "\n",
        "    # Verify Counts Do NOT Exceed 1 \n",
        "    if (fc1 < 2) and (fc2 < 2):                \n",
        "        return True\n",
        "    else:\n",
        "        return False "
      ],
      "metadata": {
        "id": "bxlCmrpRH_KN"
      },
      "execution_count": 13,
      "outputs": []
    },
    {
      "cell_type": "code",
      "source": [
        "sequence1 = [1, 2, 3, 4, 99, 5, 6]\n",
        "sequence2 = [3, 5, 67, 98, 3]\n",
        "sequence3 = [10, 1, 2, 3, 4, 5, 6, 1]\n",
        "sequence4 = [1, 2, 1, 2]\n",
        "sequence5 = [0, -2, 5, 6]"
      ],
      "metadata": {
        "id": "G_dgIH0iKjUP"
      },
      "execution_count": 14,
      "outputs": []
    },
    {
      "cell_type": "code",
      "source": [
        "print(f'''\n",
        "-------------------------------------------------\n",
        "Strictly Increasing Sequences with ONLY 1 removal\n",
        "-------------------------------------------------\n",
        "\n",
        "Sequence 1: {solution(sequence1)}\n",
        "{sequence1}\n",
        "\n",
        "Sequence 2: {solution(sequence2)}\n",
        "{sequence2}\n",
        "\n",
        "Sequence 3: {solution(sequence3)}\n",
        "{sequence3}\n",
        "\n",
        "Sequence 4: {solution(sequence4)}\n",
        "{sequence4}\n",
        "\n",
        "Sequence 5: {solution(sequence5)}\n",
        "{sequence5}\n",
        "''')"
      ],
      "metadata": {
        "colab": {
          "base_uri": "https://localhost:8080/"
        },
        "id": "TWJ1srIA6ooi",
        "outputId": "170b2008-9dca-4b7e-9c23-a7c1f4d9f05b"
      },
      "execution_count": 15,
      "outputs": [
        {
          "output_type": "stream",
          "name": "stdout",
          "text": [
            "\n",
            "-------------------------------------------------\n",
            "Strictly Increasing Sequences with ONLY 1 removal\n",
            "-------------------------------------------------\n",
            "\n",
            "Sequence 1: True\n",
            "[1, 2, 3, 4, 99, 5, 6]\n",
            "\n",
            "Sequence 2: True\n",
            "[3, 5, 67, 98, 3]\n",
            "\n",
            "Sequence 3: False\n",
            "[10, 1, 2, 3, 4, 5, 6, 1]\n",
            "\n",
            "Sequence 4: False\n",
            "[1, 2, 1, 2]\n",
            "\n",
            "Sequence 5: True\n",
            "[0, -2, 5, 6]\n",
            "\n"
          ]
        }
      ]
    },
    {
      "cell_type": "markdown",
      "source": [
        "## Find ALL Zero Values, and Values \"Below\" Zero Values in a Given Matrix"
      ],
      "metadata": {
        "id": "M1SlnE9rNCmi"
      }
    },
    {
      "cell_type": "markdown",
      "source": [
        "After becoming famous, the CodeBots decided to move into a new building together. Each of the rooms has a different cost, and some of them are free, but there's a rumour that all the free rooms are haunted! Since the CodeBots are quite superstitious, they refuse to stay in any of the free rooms, or any of the rooms below any of the free rooms."
      ],
      "metadata": {
        "id": "dZrUQQxBNmLG"
      }
    },
    {
      "cell_type": "code",
      "source": [
        "def solution(matrix):\n",
        "  '''\n",
        "  Returns the Count of All Values which do NOT Equal 0, and are NOT located\n",
        "  \"Below\" a Zero Value.\n",
        "  '''\n",
        "\n",
        "  # Imports \n",
        "  import numpy as np\n",
        "\n",
        "  # Set Haunted Rooms Equal to 0\n",
        "  haunted = 0\n",
        "\n",
        "  # Find Indices of Haunted Rooms\n",
        "  return np.where(matrix==5)\n",
        "\n"
      ],
      "metadata": {
        "id": "BPk79qqRNg-s"
      },
      "execution_count": 16,
      "outputs": []
    },
    {
      "cell_type": "code",
      "source": [
        "matrix = [[0, 1, 1, 2], \n",
        "          [0, 5, 0, 0], \n",
        "          [2, 0, 3, 3]]"
      ],
      "metadata": {
        "id": "abzd35QPN3p8"
      },
      "execution_count": 17,
      "outputs": []
    },
    {
      "cell_type": "code",
      "source": [
        "matrix"
      ],
      "metadata": {
        "colab": {
          "base_uri": "https://localhost:8080/"
        },
        "id": "89AiRM7mR_FC",
        "outputId": "46b86c44-9585-4931-8290-ec5532873774"
      },
      "execution_count": 18,
      "outputs": [
        {
          "output_type": "execute_result",
          "data": {
            "text/plain": [
              "[[0, 1, 1, 2], [0, 5, 0, 0], [2, 0, 3, 3]]"
            ]
          },
          "metadata": {},
          "execution_count": 18
        }
      ]
    },
    {
      "cell_type": "code",
      "source": [
        "solution(matrix)"
      ],
      "metadata": {
        "colab": {
          "base_uri": "https://localhost:8080/"
        },
        "id": "BpJRjJ0oRRCS",
        "outputId": "e9eb6e74-abc1-44b0-a9a9-12d380f87a4d"
      },
      "execution_count": 19,
      "outputs": [
        {
          "output_type": "execute_result",
          "data": {
            "text/plain": [
              "(array([], dtype=int64),)"
            ]
          },
          "metadata": {},
          "execution_count": 19
        }
      ]
    },
    {
      "cell_type": "code",
      "source": [
        ""
      ],
      "metadata": {
        "id": "GMrX654zRUpr"
      },
      "execution_count": 19,
      "outputs": []
    },
    {
      "cell_type": "code",
      "source": [
        ""
      ],
      "metadata": {
        "id": "_JJo0A7EpWIc"
      },
      "execution_count": 19,
      "outputs": []
    }
  ]
}