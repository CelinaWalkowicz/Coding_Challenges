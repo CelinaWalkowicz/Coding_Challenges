{
  "nbformat": 4,
  "nbformat_minor": 0,
  "metadata": {
    "colab": {
      "name": "Code Signal Python",
      "provenance": [],
      "authorship_tag": "ABX9TyOQRuSW2Z7/JH4rsHgCqhgw",
      "include_colab_link": true
    },
    "kernelspec": {
      "name": "python3",
      "display_name": "Python 3"
    },
    "language_info": {
      "name": "python"
    }
  },
  "cells": [
    {
      "cell_type": "markdown",
      "metadata": {
        "id": "view-in-github",
        "colab_type": "text"
      },
      "source": [
        "<a href=\"https://colab.research.google.com/github/CelinaWalkowicz/Coding_Challenges/blob/main/Code_Signal_Python.ipynb\" target=\"_parent\"><img src=\"https://colab.research.google.com/assets/colab-badge.svg\" alt=\"Open In Colab\"/></a>"
      ]
    },
    {
      "cell_type": "markdown",
      "source": [
        "# Arcade Universe"
      ],
      "metadata": {
        "id": "bdYT7AfG25Fg"
      }
    },
    {
      "cell_type": "markdown",
      "source": [
        "## Sum of Two Numbers"
      ],
      "metadata": {
        "id": "yg5UJkuXJFuc"
      }
    },
    {
      "cell_type": "code",
      "execution_count": 1,
      "metadata": {
        "id": "H6ZHJUQw21eX"
      },
      "outputs": [],
      "source": [
        "def sum2(num1, num2):\n",
        "  'Returns the Sum of Two Numbers'\n",
        "\n",
        "  return num1 + num2"
      ]
    },
    {
      "cell_type": "code",
      "source": [
        "sum2(2, 3)"
      ],
      "metadata": {
        "colab": {
          "base_uri": "https://localhost:8080/"
        },
        "id": "uMhdjUUC3JQ8",
        "outputId": "875baa53-b8cc-4810-b747-dca91ba0ae3b"
      },
      "execution_count": 2,
      "outputs": [
        {
          "output_type": "execute_result",
          "data": {
            "text/plain": [
              "5"
            ]
          },
          "metadata": {},
          "execution_count": 2
        }
      ]
    },
    {
      "cell_type": "markdown",
      "source": [
        "## Determine the Century for Each Year\n",
        "\n",
        "A Century is defined as year 1 - 100\n",
        "Examples: \n",
        "1st Century is from 1 - 100\n",
        "17th Century is from 1701 - 1800\n",
        "20th Century is from 1901 - 2000"
      ],
      "metadata": {
        "id": "y6-aCsDnJJ4l"
      }
    },
    {
      "cell_type": "code",
      "source": [
        "def calc_century(year):\n",
        "    '''\n",
        "    This function takes a year, and returns the century it is in.\n",
        "    '''\n",
        "    \n",
        "    # Ensure year is int\n",
        "    int(year)\n",
        "    # Change year to string for indexing\n",
        "    yr = str(year)\n",
        "\n",
        "    # Index yr into parts to determine cdef solution(year):\n",
        "    '''\n",
        "    This function takes a year, and returns the century it is in.\n",
        "    '''\n",
        "    \n",
        "    # Ensure year is int\n",
        "    int(year)\n",
        "    # Change year to string for indexing\n",
        "    yr = str(year)\n",
        "\n",
        "    # Ensure all years are YYYY format\n",
        "    # Find first century years\n",
        "    if year <= 1000:\n",
        "      # years less than 100 will need a 00\n",
        "      if year < 100:\n",
        "        yr_pt1 = '00'\n",
        "        yr_pt2 = str(year)\n",
        "        yr = yr_pt1 + yr_pt2\n",
        "      else:\n",
        "        yr_pt1 = '0'\n",
        "        yr_pt2 = str(year)\n",
        "        yr = yr_pt1 + yr_pt2\n",
        "    \n",
        "    # Save first 2 numbs to determine century\n",
        "    yr_idx1 = int(yr[:2])\n",
        "    # Save last 2 nums to check year range to check years are in century range\n",
        "    yr_idx2 = int(yr[2:4])\n",
        "    \n",
        "    # Check century range xx01-xx99\n",
        "    if yr_idx2 >= 1:\n",
        "        # Add 1 to find the century\n",
        "        century = yr_idx1 + 1\n",
        "    # Check century range xx00\n",
        "    elif yr_idx2 == 0:\n",
        "        century = yr_idx1\n",
        "      \n",
        "    return century"
      ],
      "metadata": {
        "id": "v4zYYyBt3NdN"
      },
      "execution_count": 3,
      "outputs": []
    },
    {
      "cell_type": "code",
      "source": [
        "print(f'''\n",
        "The year 42 is in century {calc_century(42)}.\n",
        "The year 100 is in century {calc_century(100)}.\n",
        "The year 1000 is in century {calc_century(1000)}.\n",
        "The year 1500 is in century {calc_century(1500)}.\n",
        "The year 1701 is in century {calc_century(1701)}.\n",
        "The year 1994 is in century {calc_century(1994)}.\n",
        "The year 2022 is in century {calc_century(2022)}.\n",
        "''')"
      ],
      "metadata": {
        "colab": {
          "base_uri": "https://localhost:8080/"
        },
        "id": "4-3_HF3C3Y_e",
        "outputId": "f1100c1a-2f0c-4f53-c33b-7baa73654e0f"
      },
      "execution_count": 4,
      "outputs": [
        {
          "output_type": "stream",
          "name": "stdout",
          "text": [
            "\n",
            "The year 42 is in century 1.\n",
            "The year 100 is in century 1.\n",
            "The year 1000 is in century 1.\n",
            "The year 1500 is in century 15.\n",
            "The year 1701 is in century 18.\n",
            "The year 1994 is in century 20.\n",
            "The year 2022 is in century 21.\n",
            "\n"
          ]
        }
      ]
    },
    {
      "cell_type": "markdown",
      "source": [
        "## Determine if a Given Input is a Palindrome"
      ],
      "metadata": {
        "id": "lYlunPxLJng6"
      }
    },
    {
      "cell_type": "code",
      "source": [
        "def is_palindrome(given_input):\n",
        "    '''\n",
        "    Takes an input and checks if it is a palindrome\n",
        "    '''\n",
        "    \n",
        "    # Ensure Input is String\n",
        "    fwd_string = str(given_input).lower()\n",
        "\n",
        "    # Reverse String\n",
        "    retro_string = fwd_string[::-1]\n",
        "\n",
        "    # Check if strings are equal\n",
        "    if fwd_string == retro_string:\n",
        "      return True\n",
        "    else:\n",
        "      return False"
      ],
      "metadata": {
        "id": "jgOfiyB-3bLQ"
      },
      "execution_count": 5,
      "outputs": []
    },
    {
      "cell_type": "code",
      "source": [
        "print(f'''\n",
        "Tacocat is a palindrome: {is_palindrome('tacocat')}.\n",
        "Tacocorgi is a palindrome: {is_palindrome('tacocorgi')}.\n",
        "1111 is a palindrome: {is_palindrome(1111)}.\n",
        "1701 is a palindrome: {is_palindrome(1701)}.\n",
        "''')"
      ],
      "metadata": {
        "colab": {
          "base_uri": "https://localhost:8080/"
        },
        "id": "RHf-8cO84Eoq",
        "outputId": "383599ed-da43-4878-f4ab-6c204f9becb1"
      },
      "execution_count": 6,
      "outputs": [
        {
          "output_type": "stream",
          "name": "stdout",
          "text": [
            "\n",
            "Tacocat is a palindrome: True.\n",
            "Tacocorgi is a palindrome: False.\n",
            "1111 is a palindrome: True.\n",
            "1701 is a palindrome: False.\n",
            "\n"
          ]
        }
      ]
    },
    {
      "cell_type": "markdown",
      "source": [
        "## Find the Largest Product of Adjacent Pairs in a List"
      ],
      "metadata": {
        "id": "DbTAAeKfJ222"
      }
    },
    {
      "cell_type": "code",
      "source": [
        "def adjacent_products(input_list):\n",
        "    '''\n",
        "    Finds the product of the the pair of adjacent elements within a list\n",
        "    and returns the largest product\n",
        "    '''\n",
        "    \n",
        "    # Create Product List\n",
        "    product_list = []\n",
        "\n",
        "    # Create Stop Number for List without last number\n",
        "    stop_num = len(input_list) - 1\n",
        "    \n",
        "    # Loop through array, and multiply each number by the next number, \n",
        "    # and save the value to product list\n",
        "    for idx in range(0, stop_num):\n",
        "      # Find Index Values of Numbers to Multiply\n",
        "      product_list.append(input_list[idx] * input_list[idx+1])\n",
        "\n",
        "    # Sort List Descending to find largest value\n",
        "    product_list.sort(reverse=True)\n",
        "    \n",
        "    return product_list[0]"
      ],
      "metadata": {
        "id": "R8Yq4cG67iRJ"
      },
      "execution_count": 7,
      "outputs": []
    },
    {
      "cell_type": "code",
      "source": [
        "inputArray1 = [3, 6, -2, -5, 7, 3]\n",
        "inputArray2 = [2, 1, 3, 1, 2, 5]"
      ],
      "metadata": {
        "id": "ex8SACly5G1b"
      },
      "execution_count": 8,
      "outputs": []
    },
    {
      "cell_type": "code",
      "source": [
        "print(f'''\n",
        "-------------------------------------\n",
        "Largest Products from Adjacent Values\n",
        "-------------------------------------\n",
        "\n",
        "inputArray1: {adjacent_products(inputArray1)}\n",
        "inputArray2: {adjacent_products(inputArray2)}\n",
        "''')"
      ],
      "metadata": {
        "colab": {
          "base_uri": "https://localhost:8080/"
        },
        "id": "ZXe1MXDt_-Oy",
        "outputId": "a190f3af-da0e-4234-8fe9-9923d86943f2"
      },
      "execution_count": 9,
      "outputs": [
        {
          "output_type": "stream",
          "name": "stdout",
          "text": [
            "\n",
            "-------------------------------------\n",
            "Largest Products from Adjacent Values\n",
            "-------------------------------------\n",
            "\n",
            "inputArray1: 21\n",
            "inputArray2: 10\n",
            "\n"
          ]
        }
      ]
    },
    {
      "cell_type": "markdown",
      "source": [
        "## Find the Missing Values in a Sequential Array"
      ],
      "metadata": {
        "id": "iGIo8HOIJ8Zu"
      }
    },
    {
      "cell_type": "markdown",
      "source": [
        "Ratiorg got statues of different sizes as a present from CodeMaster for his birthday, each statue having an non-negative integer size. Since he likes to make things perfect, he wants to arrange them from smallest to largest so that each statue will be bigger than the previous one exactly by 1. He may need some additional statues to be able to accomplish that. Help him figure out the minimum number of additional statues needed."
      ],
      "metadata": {
        "id": "K4vvSjveFE9f"
      }
    },
    {
      "cell_type": "code",
      "source": [
        "def missing_sequentials(inputArray):\n",
        "    'Returns Number of Missing Sequential Values from an Array'\n",
        "    \n",
        "    # Sort Statues in Order Ascencing\n",
        "    inputArray.sort()\n",
        "    # Find Min and Max Values\n",
        "    min_num = inputArray[0]\n",
        "    max_num = inputArray[-1]\n",
        "    \n",
        "    # Create Range between Min and Max Values as List\n",
        "    # Find Stop Number for inclusive Max Value\n",
        "    stop_num = max_num + 1\n",
        "    sequential_array = list(range(min_num, stop_num))\n",
        "    \n",
        "    # Find Lengths of Both Lists\n",
        "    input_length = len(inputArray)\n",
        "    complete_length = len(sequential_array)\n",
        "    \n",
        "    # Return Difference to Determine Number of Missing Statues\n",
        "    return complete_length - input_length"
      ],
      "metadata": {
        "id": "CD2AQJeZELdM"
      },
      "execution_count": 10,
      "outputs": []
    },
    {
      "cell_type": "code",
      "source": [
        "inputArray = [6, 2, 3, 8]"
      ],
      "metadata": {
        "id": "g1jbLHLuFeuI"
      },
      "execution_count": 11,
      "outputs": []
    },
    {
      "cell_type": "code",
      "source": [
        "missing_sequentials(inputArray)"
      ],
      "metadata": {
        "colab": {
          "base_uri": "https://localhost:8080/"
        },
        "id": "zwp9Lu2KFfhG",
        "outputId": "c28acea8-900f-4940-8e02-89d5403ee7b4"
      },
      "execution_count": 12,
      "outputs": [
        {
          "output_type": "execute_result",
          "data": {
            "text/plain": [
              "3"
            ]
          },
          "metadata": {},
          "execution_count": 12
        }
      ]
    },
    {
      "cell_type": "markdown",
      "source": [
        "## Determine if a Sequence will be Strictly Increasing if *ONLY* One Value is Removed."
      ],
      "metadata": {
        "id": "7jgySBjqKEgM"
      }
    },
    {
      "cell_type": "code",
      "source": [
        "def solution(sequence):\n",
        "    '''\n",
        "    Returns if a list is strictly increasingly if one or less numbers \n",
        "    needs to be removed\n",
        "    '''\n",
        "\n",
        "    # Set Failure Count = 0 \n",
        "    fc1 = 0\n",
        "    fc2 = 0\n",
        "    \n",
        "    # Verify Each Value is NOT Greater than the Following 2 Values\n",
        "\n",
        "    # Following 1\n",
        "    for i in range(len(sequence)-1):\n",
        "            if sequence[i] >= sequence[i+1]:\n",
        "                fc1 = fc1 + 1\n",
        "\n",
        "    # Following 2 \n",
        "    for i in range(len(sequence)-2):\n",
        "            if sequence[i] >= sequence[i+2]:\n",
        "                fc2 = fc2 + 1\n",
        "\n",
        "    # Verify Counts Do NOT Exceed 1 \n",
        "    if (fc1 < 2) and (fc2 < 2):                \n",
        "        return True\n",
        "    else:\n",
        "        return False "
      ],
      "metadata": {
        "id": "bxlCmrpRH_KN"
      },
      "execution_count": 13,
      "outputs": []
    },
    {
      "cell_type": "code",
      "source": [
        "sequence1 = [1, 2, 3, 4, 99, 5, 6]\n",
        "sequence2 = [3, 5, 67, 98, 3]\n",
        "sequence3 = [10, 1, 2, 3, 4, 5, 6, 1]\n",
        "sequence4 = [1, 2, 1, 2]\n",
        "sequence5 = [0, -2, 5, 6]"
      ],
      "metadata": {
        "id": "G_dgIH0iKjUP"
      },
      "execution_count": 14,
      "outputs": []
    },
    {
      "cell_type": "code",
      "source": [
        "print(f'''\n",
        "-------------------------------------------------\n",
        "Strictly Increasing Sequences with ONLY 1 removal\n",
        "-------------------------------------------------\n",
        "\n",
        "Sequence 1: {solution(sequence1)}\n",
        "{sequence1}\n",
        "\n",
        "Sequence 2: {solution(sequence2)}\n",
        "{sequence2}\n",
        "\n",
        "Sequence 3: {solution(sequence3)}\n",
        "{sequence3}\n",
        "\n",
        "Sequence 4: {solution(sequence4)}\n",
        "{sequence4}\n",
        "\n",
        "Sequence 5: {solution(sequence5)}\n",
        "{sequence5}\n",
        "''')"
      ],
      "metadata": {
        "colab": {
          "base_uri": "https://localhost:8080/"
        },
        "id": "TWJ1srIA6ooi",
        "outputId": "ec038802-33c6-4ed9-f8b9-5e18a37f4f66"
      },
      "execution_count": 15,
      "outputs": [
        {
          "output_type": "stream",
          "name": "stdout",
          "text": [
            "\n",
            "-------------------------------------------------\n",
            "Strictly Increasing Sequences with ONLY 1 removal\n",
            "-------------------------------------------------\n",
            "\n",
            "Sequence 1: True\n",
            "[1, 2, 3, 4, 99, 5, 6]\n",
            "\n",
            "Sequence 2: True\n",
            "[3, 5, 67, 98, 3]\n",
            "\n",
            "Sequence 3: False\n",
            "[10, 1, 2, 3, 4, 5, 6, 1]\n",
            "\n",
            "Sequence 4: False\n",
            "[1, 2, 1, 2]\n",
            "\n",
            "Sequence 5: True\n",
            "[0, -2, 5, 6]\n",
            "\n"
          ]
        }
      ]
    },
    {
      "cell_type": "markdown",
      "source": [
        "## Find ALL Zero Values, and Values \"Below\" Zero Values in a Given Matrix"
      ],
      "metadata": {
        "id": "M1SlnE9rNCmi"
      }
    },
    {
      "cell_type": "markdown",
      "source": [
        "After becoming famous, the CodeBots decided to move into a new building together. Each of the rooms has a different cost, and some of them are free, but there's a rumour that all the free rooms are haunted! Since the CodeBots are quite superstitious, they refuse to stay in any of the free rooms, or any of the rooms below any of the free rooms."
      ],
      "metadata": {
        "id": "dZrUQQxBNmLG"
      }
    },
    {
      "cell_type": "code",
      "source": [
        "def solution(matrix):\n",
        "  '''\n",
        "  Returns the Count of All Values which do NOT Equal 0, and are NOT located\n",
        "  \"Below\" a Zero Value.\n",
        "  '''\n",
        "\n",
        "  # Imports \n",
        "  import numpy as np\n",
        "\n",
        "  # Set Haunted Rooms Equal to 0\n",
        "  haunted = 0\n",
        "\n",
        "  # Find Indices of Haunted Rooms\n",
        "  return np.where(matrix==5)\n",
        "\n"
      ],
      "metadata": {
        "id": "BPk79qqRNg-s"
      },
      "execution_count": 16,
      "outputs": []
    },
    {
      "cell_type": "code",
      "source": [
        "matrix = [[0, 1, 1, 2], \n",
        "          [0, 5, 0, 0], \n",
        "          [2, 0, 3, 3]]"
      ],
      "metadata": {
        "id": "abzd35QPN3p8"
      },
      "execution_count": 17,
      "outputs": []
    },
    {
      "cell_type": "code",
      "source": [
        "matrix"
      ],
      "metadata": {
        "colab": {
          "base_uri": "https://localhost:8080/"
        },
        "id": "89AiRM7mR_FC",
        "outputId": "76cf4e19-1184-43c1-cb7f-5258d7b21b42"
      },
      "execution_count": 18,
      "outputs": [
        {
          "output_type": "execute_result",
          "data": {
            "text/plain": [
              "[[0, 1, 1, 2], [0, 5, 0, 0], [2, 0, 3, 3]]"
            ]
          },
          "metadata": {},
          "execution_count": 18
        }
      ]
    },
    {
      "cell_type": "code",
      "source": [
        "solution(matrix)"
      ],
      "metadata": {
        "colab": {
          "base_uri": "https://localhost:8080/"
        },
        "id": "BpJRjJ0oRRCS",
        "outputId": "f4b5a47b-671c-4f59-8783-0a8746f4bec3"
      },
      "execution_count": 19,
      "outputs": [
        {
          "output_type": "execute_result",
          "data": {
            "text/plain": [
              "(array([], dtype=int64),)"
            ]
          },
          "metadata": {},
          "execution_count": 19
        }
      ]
    },
    {
      "cell_type": "code",
      "source": [
        ""
      ],
      "metadata": {
        "id": "GMrX654zRUpr"
      },
      "execution_count": 19,
      "outputs": []
    },
    {
      "cell_type": "markdown",
      "source": [
        "# BloomTech Code Signal"
      ],
      "metadata": {
        "id": "kouGXkwdq8eY"
      }
    },
    {
      "cell_type": "markdown",
      "source": [
        "## Day 2"
      ],
      "metadata": {
        "id": "Qz72boqtq_CK"
      }
    },
    {
      "cell_type": "markdown",
      "source": [
        "### Convertind Class Types: Strings, Floats, and Ints"
      ],
      "metadata": {
        "id": "zDofnSwV4AdR"
      }
    },
    {
      "cell_type": "code",
      "source": [
        "def str_to_int(s):\n",
        "    'Returns a String as Int'\n",
        "    \n",
        "    return int(s)"
      ],
      "metadata": {
        "id": "rG9zp8lJq-oh"
      },
      "execution_count": 20,
      "outputs": []
    },
    {
      "cell_type": "code",
      "source": [
        "string1 = '1'\n",
        "string2 = '42'\n",
        "string3 = '1701'"
      ],
      "metadata": {
        "id": "sSnvDMCUrCHN"
      },
      "execution_count": 21,
      "outputs": []
    },
    {
      "cell_type": "code",
      "source": [
        "print(f'''\n",
        "String1 - {string1}\n",
        "Type: {type(string1)}\n",
        "Converted Type: {type(str_to_int(string1))}\n",
        "\n",
        "String2 - {string2}\n",
        "Type: {type(string2)}\n",
        "Converted Type: {type(str_to_int(string2))}\n",
        "\n",
        "String3 - {string3}\n",
        "Type: {type(string3)}\n",
        "Converted Type: {type(str_to_int(string3))}\n",
        "''')"
      ],
      "metadata": {
        "colab": {
          "base_uri": "https://localhost:8080/"
        },
        "id": "5mOQw8C6rIjU",
        "outputId": "14b70202-d468-4750-d8ea-46eef10ba0bf"
      },
      "execution_count": 22,
      "outputs": [
        {
          "output_type": "stream",
          "name": "stdout",
          "text": [
            "\n",
            "String1 - 1\n",
            "Type: <class 'str'>\n",
            "Converted Type: <class 'int'>\n",
            "\n",
            "String2 - 42\n",
            "Type: <class 'str'>\n",
            "Converted Type: <class 'int'>\n",
            "\n",
            "String3 - 1701\n",
            "Type: <class 'str'>\n",
            "Converted Type: <class 'int'>\n",
            "\n"
          ]
        }
      ]
    },
    {
      "cell_type": "code",
      "source": [
        "def float_to_str(f):\n",
        "    'Takes a float, and returns a string'\n",
        "    \n",
        "    return str(f)"
      ],
      "metadata": {
        "id": "UtH10PXQrplD"
      },
      "execution_count": 23,
      "outputs": []
    },
    {
      "cell_type": "code",
      "source": [
        "float1 = 1.34\n",
        "float2 = 4.2\n",
        "float3 = 17.01"
      ],
      "metadata": {
        "id": "fJ-jvfMLr55g"
      },
      "execution_count": 24,
      "outputs": []
    },
    {
      "cell_type": "code",
      "source": [
        "print(f'''\n",
        "Float1 - {float1}\n",
        "Type: {type(float1)}\n",
        "Converted Type: {type(float_to_str(float1))}\n",
        "\n",
        "Float2 - {float2}\n",
        "Type: {type(float2)}\n",
        "Converted Type: {type(float_to_str(float2))}\n",
        "\n",
        "Float3 - {float3}\n",
        "Type: {type(float3)}\n",
        "Converted Type: {type(float_to_str(float3))}\n",
        "''')"
      ],
      "metadata": {
        "colab": {
          "base_uri": "https://localhost:8080/"
        },
        "id": "HRoFAU9jsA6W",
        "outputId": "156f4e42-84c2-483c-bdd8-df627b5280e4"
      },
      "execution_count": 25,
      "outputs": [
        {
          "output_type": "stream",
          "name": "stdout",
          "text": [
            "\n",
            "Float1 - 1.34\n",
            "Type: <class 'float'>\n",
            "Converted Type: <class 'str'>\n",
            "\n",
            "Float2 - 4.2\n",
            "Type: <class 'float'>\n",
            "Converted Type: <class 'str'>\n",
            "\n",
            "Float3 - 17.01\n",
            "Type: <class 'float'>\n",
            "Converted Type: <class 'str'>\n",
            "\n"
          ]
        }
      ]
    },
    {
      "cell_type": "code",
      "source": [
        "def int_to_float(i):\n",
        "    'Takes an Int and Converts to Float'\n",
        "    \n",
        "    return float(i)"
      ],
      "metadata": {
        "id": "4pcFA2xbsQVd"
      },
      "execution_count": 26,
      "outputs": []
    },
    {
      "cell_type": "code",
      "source": [
        "int1 = 1\n",
        "int2 = 42\n",
        "int3 = 1701"
      ],
      "metadata": {
        "id": "D4q99RRcsyeQ"
      },
      "execution_count": 27,
      "outputs": []
    },
    {
      "cell_type": "code",
      "source": [
        "print(f'''\n",
        "Int1 - {int1}\n",
        "Type: {type(int1)}\n",
        "Converted Type: {type(int_to_float(int1))}\n",
        "\n",
        "Int2 - {int2}\n",
        "Type: {type(int2)}\n",
        "Converted Type: {type(int_to_float(int2))}\n",
        "\n",
        "Int1 - {int2}\n",
        "Type: {type(int2)}\n",
        "Converted Type: {type(int_to_float(int2))}\n",
        "''')"
      ],
      "metadata": {
        "colab": {
          "base_uri": "https://localhost:8080/"
        },
        "id": "I3lKoghxs2N7",
        "outputId": "696fdfd5-b3f6-4d60-a716-cb60f6ae4ea6"
      },
      "execution_count": 28,
      "outputs": [
        {
          "output_type": "stream",
          "name": "stdout",
          "text": [
            "\n",
            "Int1 - 1\n",
            "Type: <class 'int'>\n",
            "Converted Type: <class 'float'>\n",
            "\n",
            "Int2 - 42\n",
            "Type: <class 'int'>\n",
            "Converted Type: <class 'float'>\n",
            "\n",
            "Int1 - 42\n",
            "Type: <class 'int'>\n",
            "Converted Type: <class 'float'>\n",
            "\n"
          ]
        }
      ]
    },
    {
      "cell_type": "code",
      "source": [
        "def rounded_float_to_str(f, places):\n",
        "    '''\n",
        "    Takes a Float, Rounds, and Converts to String\n",
        "    '''\n",
        "    \n",
        "    format_key = f'.{places}f'\n",
        "    rounded = format(f, format_key)\n",
        "\n",
        "    return rounded"
      ],
      "metadata": {
        "id": "-GtrC4C_tEoX"
      },
      "execution_count": 29,
      "outputs": []
    },
    {
      "cell_type": "code",
      "source": [
        "float1 = 1.3400\n",
        "float2 = 4.200\n",
        "float3 = 17.01000"
      ],
      "metadata": {
        "id": "GTNd1477x34n"
      },
      "execution_count": 30,
      "outputs": []
    },
    {
      "cell_type": "code",
      "source": [
        "print(f'''\n",
        "Float1 - {float1}\n",
        "Type: {type(float1)}\n",
        "Rounded: {rounded_float_to_str(float1, 3)}\n",
        "Converted Type: {type(rounded_float_to_str(float1, 3))}\n",
        "\n",
        "Float2 - {float2}\n",
        "Type: {type(float2)}\n",
        "Rounded: {rounded_float_to_str(float2, 2)}\n",
        "Converted Type: {type(rounded_float_to_str(float2, 2))}\n",
        "\n",
        "Float3 - {float3}\n",
        "Type: {type(float3)}\n",
        "Rounded: {rounded_float_to_str(float3, 4)}\n",
        "Converted Type: {type(rounded_float_to_str(float3, 4))}\n",
        "''')"
      ],
      "metadata": {
        "colab": {
          "base_uri": "https://localhost:8080/"
        },
        "id": "QvOpiDMZx7IS",
        "outputId": "bfd90348-ea68-4f35-d7d5-47e5a390e8f4"
      },
      "execution_count": 31,
      "outputs": [
        {
          "output_type": "stream",
          "name": "stdout",
          "text": [
            "\n",
            "Float1 - 1.34\n",
            "Type: <class 'float'>\n",
            "Rounded: 1.340\n",
            "Converted Type: <class 'str'>\n",
            "\n",
            "Float2 - 4.2\n",
            "Type: <class 'float'>\n",
            "Rounded: 4.20\n",
            "Converted Type: <class 'str'>\n",
            "\n",
            "Float3 - 17.01\n",
            "Type: <class 'float'>\n",
            "Rounded: 17.0100\n",
            "Converted Type: <class 'str'>\n",
            "\n"
          ]
        }
      ]
    },
    {
      "cell_type": "code",
      "source": [
        "def abs_val(x):\n",
        "    'Returns the absolute value of a number'\n",
        "    \n",
        "    return abs(x)"
      ],
      "metadata": {
        "id": "40XP9c-YycHh"
      },
      "execution_count": 32,
      "outputs": []
    },
    {
      "cell_type": "code",
      "source": [
        "num1 = -3.14\n",
        "num2 = 42\n",
        "num3 = 1701\n",
        "num4 = -1701"
      ],
      "metadata": {
        "id": "xVo1_IKBzOGh"
      },
      "execution_count": 33,
      "outputs": []
    },
    {
      "cell_type": "code",
      "source": [
        "print(f'''\n",
        "Number1: {num1}\n",
        "Absolute Value: {abs_val(num1)}\n",
        "Number2: {num2}\n",
        "Absolute Value: {abs_val(num2)}\n",
        "Number3: {num3}\n",
        "Absolute Value: {abs_val(num3)}\n",
        "Number4: {num4}\n",
        "Absolute Value: {abs_val(num4)}\n",
        "''')"
      ],
      "metadata": {
        "colab": {
          "base_uri": "https://localhost:8080/"
        },
        "id": "Um-G4XYjzVTl",
        "outputId": "2e5a71c7-5344-4d64-fc29-48a8c2de40ae"
      },
      "execution_count": 34,
      "outputs": [
        {
          "output_type": "stream",
          "name": "stdout",
          "text": [
            "\n",
            "Number1: -3.14\n",
            "Absolute Value: 3.14\n",
            "Number2: 42\n",
            "Absolute Value: 42\n",
            "Number3: 1701\n",
            "Absolute Value: 1701\n",
            "Number4: -1701\n",
            "Absolute Value: 1701\n",
            "\n"
          ]
        }
      ]
    },
    {
      "cell_type": "code",
      "source": [
        "def is_btwn(n):\n",
        "    'Determines if a Number is between 2 and 7, exclusive'\n",
        "    \n",
        "    if (n > 2) and (n < 7):\n",
        "        return True\n",
        "    else:\n",
        "        return False"
      ],
      "metadata": {
        "id": "71nZiU-5zlI7"
      },
      "execution_count": 35,
      "outputs": []
    },
    {
      "cell_type": "code",
      "source": [
        "num1 = 3.14\n",
        "num2 = 42\n",
        "num3 = 1701"
      ],
      "metadata": {
        "id": "sEsH-rma0PuR"
      },
      "execution_count": 36,
      "outputs": []
    },
    {
      "cell_type": "code",
      "source": [
        "print(f'''\n",
        "Number1: {num1}\n",
        "Between 2 and 7? {is_btwn(num1)}\n",
        "Number2: {num2}\n",
        "Between 2 and 7? {is_btwn(num2)}\n",
        "Number3: {num3}\n",
        "Between 2 and 7? {is_btwn(num3)}\n",
        "''')"
      ],
      "metadata": {
        "colab": {
          "base_uri": "https://localhost:8080/"
        },
        "id": "7aRdn3xC0RV5",
        "outputId": "517fd371-33fe-45b9-d53a-05887cde1a55"
      },
      "execution_count": 37,
      "outputs": [
        {
          "output_type": "stream",
          "name": "stdout",
          "text": [
            "\n",
            "Number1: 3.14\n",
            "Between 2 and 7? True\n",
            "Number2: 42\n",
            "Between 2 and 7? False\n",
            "Number3: 1701\n",
            "Between 2 and 7? False\n",
            "\n"
          ]
        }
      ]
    },
    {
      "cell_type": "code",
      "source": [
        "def int_to_str(i):\n",
        "    'Returns an Integer as a String'\n",
        "    \n",
        "    return str(i)"
      ],
      "metadata": {
        "id": "BI4DWQ0W0esc"
      },
      "execution_count": 38,
      "outputs": []
    },
    {
      "cell_type": "code",
      "source": [
        "int1 = 1\n",
        "int2 = 42\n",
        "int3 = 1701"
      ],
      "metadata": {
        "id": "Zudh04G-0yoD"
      },
      "execution_count": 39,
      "outputs": []
    },
    {
      "cell_type": "code",
      "source": [
        "print(f'''\n",
        "Int1 - {int1}\n",
        "Type: {type(int1)}\n",
        "Converted Type: {type(int_to_str(int1))}\n",
        "\n",
        "Int2 - {int2}\n",
        "Type: {type(int2)}\n",
        "Converted Type: {type(int_to_str(int2))}\n",
        "\n",
        "Int3 - {int3}\n",
        "Type: {type(int3)}\n",
        "Converted Type: {type(int_to_str(int3))}\n",
        "''')"
      ],
      "metadata": {
        "colab": {
          "base_uri": "https://localhost:8080/"
        },
        "id": "Ad3OHJ2t02_m",
        "outputId": "1446a164-3e56-4bb3-f05e-14f0738cd3c6"
      },
      "execution_count": 40,
      "outputs": [
        {
          "output_type": "stream",
          "name": "stdout",
          "text": [
            "\n",
            "Int1 - 1\n",
            "Type: <class 'int'>\n",
            "Converted Type: <class 'str'>\n",
            "\n",
            "Int2 - 42\n",
            "Type: <class 'int'>\n",
            "Converted Type: <class 'str'>\n",
            "\n",
            "Int3 - 1701\n",
            "Type: <class 'int'>\n",
            "Converted Type: <class 'str'>\n",
            "\n"
          ]
        }
      ]
    },
    {
      "cell_type": "code",
      "source": [
        "def float_to_int(f):\n",
        "    'Takes a Float and Returns an Int'\n",
        "    \n",
        "    return int(f)"
      ],
      "metadata": {
        "id": "H0tWLdpI07xa"
      },
      "execution_count": 41,
      "outputs": []
    },
    {
      "cell_type": "code",
      "source": [
        "float1 = 1.34\n",
        "float2 = 4.2\n",
        "float3 = 17.01"
      ],
      "metadata": {
        "id": "LGnhK5fC1sT0"
      },
      "execution_count": 42,
      "outputs": []
    },
    {
      "cell_type": "code",
      "source": [
        "print(f'''\n",
        "Float1 - {float1}\n",
        "Type: {type(float1)}\n",
        "Converted Type: {type(float_to_int(float1))}\n",
        "\n",
        "Float2 - {float2}\n",
        "Type: {type(float2)}\n",
        "Converted Type: {type(float_to_int(float2))}\n",
        "\n",
        "Float3 - {float3}\n",
        "Type: {type(float3)}\n",
        "Converted Type: {type(float_to_int(float3))}\n",
        "''')"
      ],
      "metadata": {
        "colab": {
          "base_uri": "https://localhost:8080/"
        },
        "id": "2IiwSGTi1s_F",
        "outputId": "a36d0a64-9fd7-4386-9894-b76adbabd799"
      },
      "execution_count": 43,
      "outputs": [
        {
          "output_type": "stream",
          "name": "stdout",
          "text": [
            "\n",
            "Float1 - 1.34\n",
            "Type: <class 'float'>\n",
            "Converted Type: <class 'int'>\n",
            "\n",
            "Float2 - 4.2\n",
            "Type: <class 'float'>\n",
            "Converted Type: <class 'int'>\n",
            "\n",
            "Float3 - 17.01\n",
            "Type: <class 'float'>\n",
            "Converted Type: <class 'int'>\n",
            "\n"
          ]
        }
      ]
    },
    {
      "cell_type": "code",
      "source": [
        "def str_to_float(s):\n",
        "    'Takes a String, and Returns a Float'\n",
        "    \n",
        "    return float(s)"
      ],
      "metadata": {
        "id": "nJnndpdB12IW"
      },
      "execution_count": 44,
      "outputs": []
    },
    {
      "cell_type": "code",
      "source": [
        "string1 = '1.34'\n",
        "string2 = '4.2'\n",
        "string3 = '17.01'"
      ],
      "metadata": {
        "id": "e1Vi81Pr2CsO"
      },
      "execution_count": 45,
      "outputs": []
    },
    {
      "cell_type": "code",
      "source": [
        "print(f'''\n",
        "String1 - {string1}\n",
        "Type: {type(string1)}\n",
        "Converted Type: {type(str_to_float(string1))}\n",
        "\n",
        "String2 - {string2}\n",
        "Type: {type(string2)}\n",
        "Converted Type: {type(str_to_float(string2))}\n",
        "\n",
        "String3 - {string3}\n",
        "Type: {type(string3)}\n",
        "Converted Type: {type(str_to_float(string3))}\n",
        "''')"
      ],
      "metadata": {
        "colab": {
          "base_uri": "https://localhost:8080/"
        },
        "id": "zvmGp5mN2LvO",
        "outputId": "4d435ac4-8ba0-4e3b-be2d-7df4a2fc2bc5"
      },
      "execution_count": 46,
      "outputs": [
        {
          "output_type": "stream",
          "name": "stdout",
          "text": [
            "\n",
            "String1 - 1.34\n",
            "Type: <class 'str'>\n",
            "Converted Type: <class 'float'>\n",
            "\n",
            "String2 - 4.2\n",
            "Type: <class 'str'>\n",
            "Converted Type: <class 'float'>\n",
            "\n",
            "String3 - 17.01\n",
            "Type: <class 'str'>\n",
            "Converted Type: <class 'float'>\n",
            "\n"
          ]
        }
      ]
    },
    {
      "cell_type": "markdown",
      "source": [
        "### Operators"
      ],
      "metadata": {
        "id": "REhSUvTX4HzV"
      }
    },
    {
      "cell_type": "code",
      "source": [
        "def divide(numerator, denominator):\n",
        "    '''\n",
        "    Divides a Numerator by a Denominator; 0 Denominators will\n",
        "    return as 0 \n",
        "    '''\n",
        "    \n",
        "    # Check Denominator =/= 0\n",
        "    if denominator == 0:\n",
        "        return 0\n",
        "    else:\n",
        "        return numerator / denominator"
      ],
      "metadata": {
        "id": "mJSJP6-_2Zzj"
      },
      "execution_count": 47,
      "outputs": []
    },
    {
      "cell_type": "code",
      "source": [
        "num1 = 1701\n",
        "num2 = 42\n",
        "denom1 = 3.14\n",
        "denom2 = 0"
      ],
      "metadata": {
        "id": "PwiGRYJ927hF"
      },
      "execution_count": 48,
      "outputs": []
    },
    {
      "cell_type": "code",
      "source": [
        "print(f'''\n",
        "Numerator1: {num1}\n",
        "Denominator1: {denom1}\n",
        "Result: {divide(num1, denom1)}\n",
        "\n",
        "Numerator2: {num2}\n",
        "Denominator2: {denom2}\n",
        "Result: {divide(num2, denom2)}\n",
        "\n",
        "Numerator1: {num1}\n",
        "Denominator2: {denom2}\n",
        "Result: {divide(num1, denom2)}\n",
        "\n",
        "Numerator2: {num2}\n",
        "Denominator2: {denom1}\n",
        "Result: {divide(num2, denom1)}\n",
        "''')"
      ],
      "metadata": {
        "colab": {
          "base_uri": "https://localhost:8080/"
        },
        "id": "IMzPhf013N4N",
        "outputId": "d9d3e0f0-7b6e-4bb5-c2f2-59608204995f"
      },
      "execution_count": 49,
      "outputs": [
        {
          "output_type": "stream",
          "name": "stdout",
          "text": [
            "\n",
            "Numerator1: 1701\n",
            "Denominator1: 3.14\n",
            "Result: 541.7197452229299\n",
            "\n",
            "Numerator2: 42\n",
            "Denominator2: 0\n",
            "Result: 0\n",
            "\n",
            "Numerator1: 1701\n",
            "Denominator2: 0\n",
            "Result: 0\n",
            "\n",
            "Numerator2: 42\n",
            "Denominator2: 3.14\n",
            "Result: 13.375796178343949\n",
            "\n"
          ]
        }
      ]
    },
    {
      "cell_type": "code",
      "source": [
        "def calc_larger_num(a, b):\n",
        "    'Returns the larger of two numbers'\n",
        "    \n",
        "    if a > b:\n",
        "        return a\n",
        "    else:\n",
        "        return b"
      ],
      "metadata": {
        "id": "EZ-k47vQ3woq"
      },
      "execution_count": 50,
      "outputs": []
    },
    {
      "cell_type": "code",
      "source": [
        "num1 = 1701\n",
        "num2 = 42\n",
        "num3 = 3.14"
      ],
      "metadata": {
        "id": "8q920hOp4Y1D"
      },
      "execution_count": 51,
      "outputs": []
    },
    {
      "cell_type": "code",
      "source": [
        "print(f'''\n",
        "Number1: {num1}\n",
        "Number2: {num2}\n",
        "Larger: {calc_larger_num(num1, num2)}\n",
        "\n",
        "Number1: {num1}\n",
        "Number3: {num3}\n",
        "Larger: {calc_larger_num(num1, num3)}\n",
        "\n",
        "Number2: {num2}\n",
        "Number3: {num3}\n",
        "Larger: {calc_larger_num(num2, num3)}\n",
        "''')"
      ],
      "metadata": {
        "colab": {
          "base_uri": "https://localhost:8080/"
        },
        "id": "-Nz7973Q4dBn",
        "outputId": "58228fd3-0959-4aab-cf78-318c9f43e793"
      },
      "execution_count": 52,
      "outputs": [
        {
          "output_type": "stream",
          "name": "stdout",
          "text": [
            "\n",
            "Number1: 1701\n",
            "Number2: 42\n",
            "Larger: 1701\n",
            "\n",
            "Number1: 1701\n",
            "Number3: 3.14\n",
            "Larger: 1701\n",
            "\n",
            "Number2: 42\n",
            "Number3: 3.14\n",
            "Larger: 42\n",
            "\n"
          ]
        }
      ]
    },
    {
      "cell_type": "code",
      "source": [
        "def lexigraphically_larger(a, b):\n",
        "    'Returns the Larger of two Characters in  Lexographical Order'\n",
        "    \n",
        "    # Store Inputs in a List\n",
        "    li = [a, b]\n",
        "    # Sort\n",
        "    li = sorted(li)\n",
        "    \n",
        "    return li[-1]"
      ],
      "metadata": {
        "id": "VMmmm8hj47Jg"
      },
      "execution_count": 53,
      "outputs": []
    },
    {
      "cell_type": "code",
      "source": [
        "char1 = 'b'\n",
        "char2 = 'd'\n",
        "char3 = 'x'"
      ],
      "metadata": {
        "id": "xjDeh8585uQr"
      },
      "execution_count": 54,
      "outputs": []
    },
    {
      "cell_type": "code",
      "source": [
        "print(f'''\n",
        "Character1: {char1}\n",
        "Character2: {char2}\n",
        "Larger: {lexigraphically_larger(char1, char2)}\n",
        "\n",
        "Character2: {char2}\n",
        "Character3: {char3}\n",
        "Larger: {lexigraphically_larger(char2, char3)}\n",
        "\n",
        "Character1: {char1}\n",
        "Character3: {char3}\n",
        "Larger: {lexigraphically_larger(char1, char3)}\n",
        "''')"
      ],
      "metadata": {
        "colab": {
          "base_uri": "https://localhost:8080/"
        },
        "id": "lQ4WZIQu5-1R",
        "outputId": "0a6fbd88-43a8-482d-d759-3d9bd944c13e"
      },
      "execution_count": 55,
      "outputs": [
        {
          "output_type": "stream",
          "name": "stdout",
          "text": [
            "\n",
            "Character1: b\n",
            "Character2: d\n",
            "Larger: d\n",
            "\n",
            "Character2: d\n",
            "Character3: x\n",
            "Larger: x\n",
            "\n",
            "Character1: b\n",
            "Character3: x\n",
            "Larger: x\n",
            "\n"
          ]
        }
      ]
    },
    {
      "cell_type": "code",
      "source": [
        "def num_to_kw(n):\n",
        "    'Analyzes Number Input and Returns Keyword'\n",
        "    \n",
        "    # Ensure Entry is float to account for string input decimals\n",
        "    float(n)\n",
        "    \n",
        "    # If 0 Return None\n",
        "    if n == 0:\n",
        "        return 'none'\n",
        "    # If n Rounds to 1, return One\n",
        "    elif (n >= 0.5) and (n < 1.5):\n",
        "        return 'one'\n",
        "    # If n Rounds to 2, return Two\n",
        "    elif (n >= 1.5) and (n < 2.5):\n",
        "        return 'two'\n",
        "    # All Else Return Some\n",
        "    else:\n",
        "        return 'some'"
      ],
      "metadata": {
        "id": "mR-xdHnG6QJI"
      },
      "execution_count": 56,
      "outputs": []
    },
    {
      "cell_type": "code",
      "source": [
        "num1 = 0\n",
        "num2 = .75\n",
        "num3 = 1.75\n",
        "num4 = 3.14"
      ],
      "metadata": {
        "id": "pbJ2p2bg7bnF"
      },
      "execution_count": 57,
      "outputs": []
    },
    {
      "cell_type": "code",
      "source": [
        "print(f'''\n",
        "Number: {num1}\n",
        "Result: {num_to_kw(num1)}\n",
        "\n",
        "Number: {num2}\n",
        "Result: {num_to_kw(num2)}\n",
        "\n",
        "Number: {num3}\n",
        "Result: {num_to_kw(num3)}\n",
        "\n",
        "Number: {num4}\n",
        "Result: {num_to_kw(num4)}\n",
        "''')"
      ],
      "metadata": {
        "colab": {
          "base_uri": "https://localhost:8080/"
        },
        "id": "hWWX6CpV7xHx",
        "outputId": "59e3b717-c845-42af-9ee4-710ba73732bf"
      },
      "execution_count": 58,
      "outputs": [
        {
          "output_type": "stream",
          "name": "stdout",
          "text": [
            "\n",
            "Number: 0\n",
            "Result: none\n",
            "\n",
            "Number: 0.75\n",
            "Result: one\n",
            "\n",
            "Number: 1.75\n",
            "Result: two\n",
            "\n",
            "Number: 3.14\n",
            "Result: some\n",
            "\n"
          ]
        }
      ]
    },
    {
      "cell_type": "code",
      "source": [
        "def return_largest_3(a, b, c):\n",
        "    'Return the Larger of 3 Numbers'\n",
        "    \n",
        "    # Save Inputs to List\n",
        "    num_li = [a, b, c]\n",
        "    # Sort\n",
        "    num_li = sorted(num_li)\n",
        "    \n",
        "    return num_li[-1]"
      ],
      "metadata": {
        "id": "VVlT2QdF8AVt"
      },
      "execution_count": 59,
      "outputs": []
    },
    {
      "cell_type": "code",
      "source": [
        "num1 = 3.14\n",
        "num2 = 42\n",
        "num3 = 1701"
      ],
      "metadata": {
        "id": "c7ObFlQP8VEn"
      },
      "execution_count": 60,
      "outputs": []
    },
    {
      "cell_type": "code",
      "source": [
        "print(f'''\n",
        "The Largest Number of {num2}, {num3}, and {num1} is: {return_largest_3(num1, num2, num3)}\n",
        "''')"
      ],
      "metadata": {
        "colab": {
          "base_uri": "https://localhost:8080/"
        },
        "id": "J3j_YYR-8YkB",
        "outputId": "ecf12c23-46cc-4804-bda9-e09e0f027f5c"
      },
      "execution_count": 61,
      "outputs": [
        {
          "output_type": "stream",
          "name": "stdout",
          "text": [
            "\n",
            "The Largest Number of 42, 1701, and 3.14 is: 1701\n",
            "\n"
          ]
        }
      ]
    },
    {
      "cell_type": "code",
      "source": [
        "def return_largest_6(a, b, c, d, e, f):\n",
        "    'Return the Larger of 6 Numbers'\n",
        "    \n",
        "    # Save Inputs to List\n",
        "    num_li = [a, b, c, d, e, f]\n",
        "    # Sort\n",
        "    num_li = sorted(num_li)\n",
        "    \n",
        "    return num_li[-1]"
      ],
      "metadata": {
        "id": "yr3cEgEI8mT1"
      },
      "execution_count": 62,
      "outputs": []
    },
    {
      "cell_type": "code",
      "source": [
        "num1 = 0\n",
        "num2 = 3.14\n",
        "num3 = 42\n",
        "num4 = 217\n",
        "num5 = 1433\n",
        "num6 = 1701"
      ],
      "metadata": {
        "id": "GqwMr8QM855c"
      },
      "execution_count": 63,
      "outputs": []
    },
    {
      "cell_type": "code",
      "source": [
        "print(f'''\n",
        "Numers: {num2}, {num4}, {num5}, {num1}, {num3}, {num6}\n",
        "Largest: {return_largest_6(num1, num2, num3, num4, num5, num6)}\n",
        "''')"
      ],
      "metadata": {
        "colab": {
          "base_uri": "https://localhost:8080/"
        },
        "id": "DM85Z30T9Hzh",
        "outputId": "e362c9f2-2f24-4175-ce4c-1b90b23c5fab"
      },
      "execution_count": 64,
      "outputs": [
        {
          "output_type": "stream",
          "name": "stdout",
          "text": [
            "\n",
            "Numers: 3.14, 217, 1433, 0, 42, 1701\n",
            "Largest: 1701\n",
            "\n"
          ]
        }
      ]
    },
    {
      "cell_type": "code",
      "source": [
        "def eval_tests_3(a, b, c):\n",
        "    '''\n",
        "    Evalutes a Number with Three Tests and returns a \n",
        "    Pass(OK) or Fail(NOK) Result\n",
        "    '''\n",
        "    \n",
        "    if (\n",
        "        (a > b) and\n",
        "        (b <= c) and\n",
        "        (\n",
        "            ((a * 3) > c) or\n",
        "            (c <= a)\n",
        "        )\n",
        "    ):\n",
        "        return \"OK\"\n",
        "    else:\n",
        "        return \"NOK\""
      ],
      "metadata": {
        "id": "7flC4eY49bcr"
      },
      "execution_count": 65,
      "outputs": []
    },
    {
      "cell_type": "code",
      "source": [
        "num1 = 42\n",
        "num2 = 3.14\n",
        "num3 = 1701\n",
        "num4 = 130\n",
        "num5 = -91\n",
        "num6 = 215"
      ],
      "metadata": {
        "id": "iSZkH2N2-sJ-"
      },
      "execution_count": 66,
      "outputs": []
    },
    {
      "cell_type": "code",
      "source": [
        "print(f'''\n",
        "Evalute: a = {num1}, b = {num2}, c = {num3}\n",
        "Result: {eval_tests_3(num1, num2, num3)}\n",
        "\n",
        "Evalute: a = {num4}, b = {num5}, c = {num6}\n",
        "Result: {eval_tests_3(num4, num5, num6)}\n",
        "''')"
      ],
      "metadata": {
        "colab": {
          "base_uri": "https://localhost:8080/"
        },
        "id": "dJIesuLI-z1D",
        "outputId": "cb2cb1b4-d10e-4da9-a727-7cf4581ce480"
      },
      "execution_count": 67,
      "outputs": [
        {
          "output_type": "stream",
          "name": "stdout",
          "text": [
            "\n",
            "Evalute: a = 42, b = 3.14, c = 1701\n",
            "Result: NOK\n",
            "\n",
            "Evalute: a = 130, b = -91, c = 215\n",
            "Result: OK\n",
            "\n"
          ]
        }
      ]
    },
    {
      "cell_type": "code",
      "source": [
        "def od_protect(amount, balance):\n",
        "    '''\n",
        "    Evaluates Bank Balance to Determine if Withdrawals are Valid.\n",
        "    If Valid: Returns New Balance\n",
        "    If Not (Overdrafts): Returns -1\n",
        "    '''\n",
        "    \n",
        "    # Run Transaction\n",
        "    new_balance = balance - amount\n",
        "    \n",
        "    # Evaluate\n",
        "    if new_balance < 0:\n",
        "        return -1\n",
        "    else:\n",
        "        return new_balance"
      ],
      "metadata": {
        "id": "Et3OdNEu_I0E"
      },
      "execution_count": 68,
      "outputs": []
    },
    {
      "cell_type": "code",
      "source": [
        "num1 = 42\n",
        "num2 = 3.14\n",
        "num3 = 1701"
      ],
      "metadata": {
        "id": "3IlF_4CrAI2p"
      },
      "execution_count": 69,
      "outputs": []
    },
    {
      "cell_type": "code",
      "source": [
        "print(f'''\n",
        "Transaction 1\n",
        "-------------------------\n",
        "Account Balance: {num1}\n",
        "Withdrawal Amount: -{num2}\n",
        "Current Balance: {od_protect(num1, num2)}\n",
        "  If -1, Transaction Failed\n",
        "\n",
        "Transaction 2\n",
        "-------------------------\n",
        "Account Balance: {num2}\n",
        "Withdrawal Amount: -{num3}\n",
        "Current Balance: {od_protect(num2, num3)}\n",
        "  If -1, Transaction Failed\n",
        "\n",
        "Transaction 3\n",
        "-------------------------\n",
        "Account Balance: {num3}\n",
        "Withdrawal Amount: -{num1}\n",
        "Current Balance: {od_protect(num3, num1)}\n",
        "  If -1, Transaction Failed\n",
        "''')"
      ],
      "metadata": {
        "colab": {
          "base_uri": "https://localhost:8080/"
        },
        "id": "Dxr3xEL2ANon",
        "outputId": "ea11e23d-5708-4b92-9c5f-bf74aeeb0655"
      },
      "execution_count": 70,
      "outputs": [
        {
          "output_type": "stream",
          "name": "stdout",
          "text": [
            "\n",
            "Transaction 1\n",
            "-------------------------\n",
            "Account Balance: 42\n",
            "Withdrawal Amount: -3.14\n",
            "Current Balance: -1\n",
            "  If -1, Transaction Failed\n",
            "\n",
            "Transaction 2\n",
            "-------------------------\n",
            "Account Balance: 3.14\n",
            "Withdrawal Amount: -1701\n",
            "Current Balance: 1697.86\n",
            "  If -1, Transaction Failed\n",
            "\n",
            "Transaction 3\n",
            "-------------------------\n",
            "Account Balance: 1701\n",
            "Withdrawal Amount: -42\n",
            "Current Balance: -1\n",
            "  If -1, Transaction Failed\n",
            "\n"
          ]
        }
      ]
    },
    {
      "cell_type": "markdown",
      "source": [
        "## Day 3"
      ],
      "metadata": {
        "id": "WgQbmb0VBSXk"
      }
    },
    {
      "cell_type": "code",
      "source": [
        ""
      ],
      "metadata": {
        "id": "BP9CURQiBTU4"
      },
      "execution_count": 70,
      "outputs": []
    }
  ]
}