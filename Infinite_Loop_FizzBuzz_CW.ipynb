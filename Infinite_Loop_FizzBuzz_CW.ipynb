{
  "nbformat": 4,
  "nbformat_minor": 0,
  "metadata": {
    "colab": {
      "name": "Infinite Loop FizzBuzz",
      "provenance": [],
      "collapsed_sections": []
    },
    "kernelspec": {
      "name": "python3",
      "display_name": "Python 3"
    },
    "language_info": {
      "name": "python"
    }
  },
  "cells": [
    {
      "cell_type": "code",
      "metadata": {
        "colab": {
          "base_uri": "https://localhost:8080/"
        },
        "id": "70O62pw9mqxg",
        "outputId": "ed8c715a-7c29-431e-bb43-3f99ac4a3605"
      },
      "source": [
        "\n",
        "# TO-DO: Compare the number the user gave with the different\n",
        "# FizzBuzz conditions. \n",
        "# *********************\n",
        "# If the number is divisible by 3, print \"is a Fizz number.\"\n",
        "# If the number is divisible by 5, print \"is a Buzz number.\"\n",
        "# If the number is divisible by both 3 and 5, print \"is a FizzBuzz number.\"\n",
        "# Otherwise, print \"is neither a fizzy or a buzzy number.\"\n",
        "# *********************\n",
        "\n",
        "#FizzBuzzFunction\n",
        "def FizzBuzz(number):\n",
        "  ### This function checks for Remainders when dividing by FizzBuzz Values to determine divisibility. ###\n",
        "  if number == 1701:\n",
        "    print(f'{(number)} is a star ship.')\n",
        "  elif number == 42:\n",
        "    print(f'{number} is the meaning of life.')\n",
        "  elif number % 15 == 0:\n",
        "    print(f'{number} is a FizzBuzz.')\n",
        "  elif number % 3 == 0:\n",
        "    print(f'{number} is a Fizz.')\n",
        "  elif number % 5 == 0:\n",
        "    print(f'{number} is a Buzz.')\n",
        "  else:\n",
        "    print(f'{number} is neither a fizzy nor a buzzy number.')\n",
        "\n",
        "#HELP\n",
        "HELP = f'''\n",
        "Enter \"0\" at anytime to quit.\n",
        "Enter whole numbers other than 0 to determine a number's Fizzyness or Buzzyness.\n",
        "Decimals and Fractions are always FizzBuzz. \n",
        "'''\n",
        "\n",
        "#Personalized experience\n",
        "name = input(\"What is your name?   \")\n",
        "\n",
        "# Name Screening Easter Egg Part 1\n",
        "if name == \"Spock\":\n",
        "  print(\"Live long, and prosper. Playing FizzBuzz would be highly illogical.\")\n",
        "else:\n",
        "  print(f\"Hello, {name}! Let's play FizzBuzz:   \")\n",
        "  print(HELP)\n",
        "\n",
        "\n",
        "#infinite loop\n",
        "i = 1\n",
        "while i == True:\n",
        "\n",
        "  # Name Screening Easter Egg\n",
        "  if name == \"Spock\":\n",
        "    break\n",
        "\n",
        "  #input\n",
        "  number = input(\"\\nEnter a number:   \")\n",
        "  # Personalized Experience\n",
        "  print(f\"\\nHey {name}!\")\n",
        "\n",
        "  # Expected Errors\n",
        "  try:\n",
        "    number = int(number)\n",
        "  except ValueError as err:\n",
        "    print(\"\\n Oh no! There was an issue with your entry. Please enter a whole number. \\n\")\n",
        "  else:\n",
        "\n",
        "    # Quit Command\n",
        "    if number == 0:\n",
        "      print(f'Goodbye, {name}!')\n",
        "      break\n",
        "\n",
        "    #FizzBuzz Test \n",
        "    else:\n",
        "      FizzBuzz(number)"
      ],
      "execution_count": 1,
      "outputs": [
        {
          "output_type": "stream",
          "name": "stdout",
          "text": [
            "What is your name?   0\n",
            "Hello, 0! Let's play FizzBuzz:   \n",
            "\n",
            "Enter \"0\" at anytime to quit.\n",
            "Enter whole numbers other than 0 to determine a number's Fizzyness or Buzzyness.\n",
            "Decimals and Fractions are always FizzBuzz. \n",
            "\n",
            "\n",
            "Enter a number:   0\n",
            "\n",
            "Hey 0!\n",
            "Goodbye, 0!\n"
          ]
        }
      ]
    }
  ]
}